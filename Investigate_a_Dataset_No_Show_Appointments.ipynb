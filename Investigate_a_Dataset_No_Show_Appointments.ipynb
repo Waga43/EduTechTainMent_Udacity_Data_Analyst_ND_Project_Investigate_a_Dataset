{
 "cells": [
  {
   "cell_type": "markdown",
   "metadata": {},
   "source": [
    "# Project: Investigate a Dataset - Medical Appointment No Shows Dataset\n",
    "\n",
    "## Table of Contents\n",
    "<ul>\n",
    "<li><a href=\"#intro\">Introduction</a></li>\n",
    "<li><a href=\"#wrangling\">Data Wrangling</a></li>\n",
    "<li><a href=\"#eda\">Exploratory Data Analysis</a></li>\n",
    "<li><a href=\"#conclusions\">Conclusions</a></li>\n",
    "</ul>"
   ]
  },
  {
   "cell_type": "markdown",
   "metadata": {},
   "source": [
    "<a id='intro'></a>\n",
    "## Introduction\n",
    "\n",
    "<hr>\n",
    "\n",
    "### Dataset Description \n",
    "\n",
    "<hr>\n",
    "\n",
    "This projects attempts to analyse the [Medical Appointment No Shows dataset](https://www.kaggle.com/datasets/joniarroba/noshowappointments).\n",
    "\n",
    "\n",
    "The dataset provides information about 110,527 medical appointments and has 14 associated variables (characteristics). The No-show variable is the dependent variable. Age is a numerical variable while the others are categorical. The columns provided in the table as explained below:\n",
    "\n",
    "1. __PatientId:__ This is an identifier for each patient.\n",
    "2. __AppointmentID:__ This indicates the appointment identification for the patients.\n",
    "3. __Gender:__ The gender of the patients are also provided as one of either males (M) or females (F).\n",
    "4. __ScheduledDay:__ This refers to the day the patient is scheduled to their hospital.\n",
    "5. __AppointmentDay:__ Refers to the day the patient has an appointment to visit the doctor.\n",
    "6. __Age:__ This is the age of patients\n",
    "7. __Neighbourhood:__ Refers tp where the appointment takes place.\n",
    "8. __Scholarship:__ Refers to whether or not the patient is a beneficiary of _Bolsa Família_, government social welfare scheme. It is represented as either 1 (True) or 0 (False) on the dataset. \n",
    "9. __Hipertension:__ Column indicates whether or not a patient has Hypertension. It is represented as either 1 (True) or 0 (False) on the dataset.\n",
    "10. __Diabetes:__ Column indicates whether or not a patient has Diabetes. It is represented as either 1 (True) or 0 (False) on the dataset.\n",
    "11. __Alcoholism:__ This column indicates if a patient has an issue of alcoholism or not. It is represented as either 1 (True) or 0 (False) on the dataset.\n",
    "12. __Handcap:__ Shows if a patient is handicapped or not. It is represented as either 1 (True) or 0 (False) on the dataset.\n",
    "13. __SMS_received:__ Indicates whether or not the patient received one or more messages.\n",
    "14. __No-show:__ This column indicates whether or not patients turn up for their appointment in the hospital. ___It says ‘No’ if the patient showed up to their appointment, and ‘Yes’ if they did not show up.___"
   ]
  },
  {
   "cell_type": "markdown",
   "metadata": {},
   "source": [
    "### Question(s) for Analysis\n",
    "\n",
    "<hr>\n",
    "\n",
    "1. Does having scholarship affect the hospital visits and showing up of patients for appointments.\n",
    "2. Does having any of the chronic diseases/conditions listed in the description above (hypertension, diabetes,alcoholism) affect the hospital visits and showing up of patients for appointments.\n",
    "3. Does being handicapped affected turning up for appointments.\n",
    "4. Does sending out SMS reminder messages to patients influence how they turn up for hospital appointments.\n",
    "6. Does sex of the patient have any effect on the showing up for hospital appointments\n",
    "6. What other factors might influence a patient not showing up for their hospital appointments after scheduling such appointments.\n",
    "7. What is the average duration between scheduled visits and actual hospital appointments and does this affect the show up for appointments.\n",
    "8. Which neighbourhoods are most likely to miss appointments.\n",
    "9. What is the average number of patients who missed at least one appointment?"
   ]
  },
  {
   "cell_type": "code",
   "execution_count": 1,
   "metadata": {},
   "outputs": [],
   "source": [
    "import pandas as pd\n",
    "import numpy as np\n",
    "import seaborn as sns                       # Fo visualisation\n",
    "import matplotlib.pyplot as plt             # For visualisation\n",
    "%matplotlib inline"
   ]
  },
  {
   "cell_type": "code",
   "execution_count": 2,
   "metadata": {},
   "outputs": [],
   "source": [
    "# Upgrade pandas to use dataframe.explode() function. \n",
    "#!pip install --upgrade pandas==0.25.0"
   ]
  },
  {
   "cell_type": "markdown",
   "metadata": {},
   "source": [
    "<a id='wrangling'></a>\n",
    "## Data Wrangling\n",
    "<hr>\n",
    "\n",
    "The following steps demonstrate the data wrangling steps i applied on the dataset.\n",
    "\n",
    "### General Properties\n"
   ]
  },
  {
   "cell_type": "markdown",
   "metadata": {},
   "source": [
    "#### General Overview of the Dataset\n",
    "<hr>\n",
    "\n",
    "I first loaded the Dataset\n",
    "\n",
    "The below command loads the dataset as a Pandas DataFrame.\n",
    "The r (raw) is important because it helps to avoid unicode error when reading or opening the files.\n",
    "\n",
    "An error may occur if you are using a normal string as a path. \n",
    "You can use one of the three following solutions to fix the error problem:\n",
    "\n",
    "1: Put r before your normal string to convert normal string to raw string:\n",
    "\n",
    "`pd.read_csv(r\"C:\\Users\\Hp\\Documents\\Udacity Project 1\\noshowappointments-kagglev2-may-2016.csv\")`\n",
    "\n",
    "2: Use double quotes and forward slash character\n",
    "\n",
    "`pd.read_csv(\"C:/Users/Hp/Documents/Udacity Project 1/noshowappointments-kagglev2-may-2016.csv\")`\n",
    "\n",
    "3: Doubling the backslashes as shown below.\n",
    "\n",
    "`pd.read_csv(\"C:\\\\Users\\\\Hp\\\\Documents\\\\Udacity Project 1\\\\noshowappointments-kagglev2-may-2016.csv\")`"
   ]
  },
  {
   "cell_type": "code",
   "execution_count": 3,
   "metadata": {},
   "outputs": [],
   "source": [
    "df = pd.read_csv(r\"C:\\Users\\Hp\\Documents\\Udacity Project 1\\noshowappointments-kagglev2-may-2016.csv\")"
   ]
  },
  {
   "cell_type": "markdown",
   "metadata": {},
   "source": [
    "#### Make a Copy of the DataFrame\n",
    "<hr>\n",
    "Before any data wrangling process i would like to create a backup copy of my dataframe (depending on the size of the DataFrame) and name it df1, in case of any unforseen problems or errors. This also gives me an opportunity to quickly revert to checking the original dataset if I am confused about what I did right or wrong.\n",
    "\n",
    "\n",
    "___N.B. I shall be running my analysis on the original dataframe named df.___"
   ]
  },
  {
   "cell_type": "code",
   "execution_count": 4,
   "metadata": {},
   "outputs": [],
   "source": [
    "df1 = df.copy(deep = True)"
   ]
  },
  {
   "cell_type": "markdown",
   "metadata": {},
   "source": [
    "The above cell command creates a copy of my original `df` DataFrame and assigns the name `df1` to it.\n",
    "\n",
    "Setting an argument `deep = True` ensures a \"hard copy\" of the dataframe is created and\n",
    "a soft copy vice versa. The soft copy is akin to assigning the dataframe to a variable. Any changes in one will affect the other.\n"
   ]
  },
  {
   "cell_type": "code",
   "execution_count": 5,
   "metadata": {},
   "outputs": [
    {
     "data": {
      "text/plain": [
       "['df', 'df1']"
      ]
     },
     "execution_count": 5,
     "metadata": {},
     "output_type": "execute_result"
    }
   ],
   "source": [
    "%who_ls DataFrame\n",
    "\n",
    "# This code Lists all the Dataframes loaded into memory."
   ]
  },
  {
   "cell_type": "markdown",
   "metadata": {},
   "source": [
    "The above code cell output shows that I have successfully created and loaded both `df` and `df1` DataFrames.\n",
    "\n",
    "To delete any DataFrame, I will just run the `del df1` command."
   ]
  },
  {
   "cell_type": "markdown",
   "metadata": {},
   "source": [
    "### To checkout the Dataset \n",
    "<hr>\n",
    "Run the codes below to checkout the dataset so as to have a general overview of the dataset."
   ]
  },
  {
   "cell_type": "markdown",
   "metadata": {},
   "source": [
    "##### Check for the number of missing values\n",
    "\n",
    "One of the very first steps in data wranglung is to check for missing values. We shall attempt to do this by running the cell below. Using a `pd.isnull(df)` command gives a boolean result. We shall call a `sum` method on it to give a count of the missing values (if present)."
   ]
  },
  {
   "cell_type": "code",
   "execution_count": 117,
   "metadata": {},
   "outputs": [
    {
     "data": {
      "text/plain": [
       "Gender                       0\n",
       "ScheduledDay                 0\n",
       "AppointmentDay               0\n",
       "Age                          0\n",
       "Neighbourhood                0\n",
       "Scholarship                  0\n",
       "Hypertension                 0\n",
       "Diabetes                     0\n",
       "Alcoholism                   0\n",
       "Handicapped                  0\n",
       "SMS_received                 0\n",
       "Showed_up_for_appointment    0\n",
       "Delay_time                   0\n",
       "dtype: int64"
      ]
     },
     "execution_count": 117,
     "metadata": {},
     "output_type": "execute_result"
    }
   ],
   "source": [
    "pd.isnull(df).sum()"
   ]
  },
  {
   "cell_type": "markdown",
   "metadata": {},
   "source": [
    "Just as seen above, there are no missing values in this dataset. We can thus proceedw with furtherchecking out our dataset.\n",
    "\n",
    "Checking for number of missing value entries in the dataset is very important.\n",
    "If there are any missing values, we drop them (if statistically feasible) \n",
    "by calling the `df.dropna()` function or we can decide to do otherwise."
   ]
  },
  {
   "cell_type": "markdown",
   "metadata": {},
   "source": [
    "#### Let us check the size of the DataFrame\n",
    "\n",
    "Using the size attribute, assign the size of the DataFrame to a variable named `df_size`."
   ]
  },
  {
   "cell_type": "code",
   "execution_count": 6,
   "metadata": {},
   "outputs": [
    {
     "name": "stdout",
     "output_type": "stream",
     "text": [
      "1547378\n"
     ]
    }
   ],
   "source": [
    "df_size = df.size\n",
    "print(df_size)"
   ]
  },
  {
   "cell_type": "markdown",
   "metadata": {},
   "source": [
    "The above code cell output shows that the DataFrame has 1, 547, 378 cell values."
   ]
  },
  {
   "cell_type": "markdown",
   "metadata": {},
   "source": [
    "##### Checking the Dimension of the Dataset"
   ]
  },
  {
   "cell_type": "code",
   "execution_count": 7,
   "metadata": {},
   "outputs": [
    {
     "name": "stdout",
     "output_type": "stream",
     "text": [
      "The DataFrame dimension is: 2\n"
     ]
    }
   ],
   "source": [
    "df_dimension = df.ndim\n",
    "print(f\"The DataFrame dimension is: {df_dimension}\")"
   ]
  },
  {
   "cell_type": "markdown",
   "metadata": {},
   "source": [
    "The output of the above cell shows that the DataFrame df is 2-dimensional, having rows and columns. This is to be expected since it is a Pandas DataFrame. If it had returned 1, then we can say it is a Pandas series."
   ]
  },
  {
   "cell_type": "markdown",
   "metadata": {},
   "source": [
    "###### Check the Number of Unique Appointments\n",
    "I will achieve this by counting how many unique patients are in the DataFrame:"
   ]
  },
  {
   "cell_type": "code",
   "execution_count": 8,
   "metadata": {},
   "outputs": [
    {
     "data": {
      "text/plain": [
       "62299"
      ]
     },
     "execution_count": 8,
     "metadata": {},
     "output_type": "execute_result"
    }
   ],
   "source": [
    "len(df['PatientId'].unique())"
   ]
  },
  {
   "cell_type": "markdown",
   "metadata": {},
   "source": [
    "The above result indicates that there are 62, 299 unique patient visits. This shows that some visits were return visits, meaning some patients had more than one appointments."
   ]
  },
  {
   "cell_type": "code",
   "execution_count": 9,
   "metadata": {},
   "outputs": [
    {
     "data": {
      "text/plain": [
       "110527"
      ]
     },
     "execution_count": 9,
     "metadata": {},
     "output_type": "execute_result"
    }
   ],
   "source": [
    "len(df['AppointmentID'].unique())"
   ]
  },
  {
   "cell_type": "markdown",
   "metadata": {},
   "source": [
    "The above code cell output of 110, 527 corresponds to the total number of patients seen as mentioned above in the introduction above."
   ]
  },
  {
   "cell_type": "code",
   "execution_count": 10,
   "metadata": {},
   "outputs": [
    {
     "data": {
      "text/html": [
       "<div>\n",
       "<style scoped>\n",
       "    .dataframe tbody tr th:only-of-type {\n",
       "        vertical-align: middle;\n",
       "    }\n",
       "\n",
       "    .dataframe tbody tr th {\n",
       "        vertical-align: top;\n",
       "    }\n",
       "\n",
       "    .dataframe thead th {\n",
       "        text-align: right;\n",
       "    }\n",
       "</style>\n",
       "<table border=\"1\" class=\"dataframe\">\n",
       "  <thead>\n",
       "    <tr style=\"text-align: right;\">\n",
       "      <th></th>\n",
       "      <th>PatientId</th>\n",
       "      <th>AppointmentID</th>\n",
       "      <th>Gender</th>\n",
       "      <th>ScheduledDay</th>\n",
       "      <th>AppointmentDay</th>\n",
       "      <th>Age</th>\n",
       "      <th>Neighbourhood</th>\n",
       "      <th>Scholarship</th>\n",
       "      <th>Hipertension</th>\n",
       "      <th>Diabetes</th>\n",
       "      <th>Alcoholism</th>\n",
       "      <th>Handcap</th>\n",
       "      <th>SMS_received</th>\n",
       "      <th>No-show</th>\n",
       "    </tr>\n",
       "  </thead>\n",
       "  <tbody>\n",
       "    <tr>\n",
       "      <th>0</th>\n",
       "      <td>2.987250e+13</td>\n",
       "      <td>5642903</td>\n",
       "      <td>F</td>\n",
       "      <td>2016-04-29T18:38:08Z</td>\n",
       "      <td>2016-04-29T00:00:00Z</td>\n",
       "      <td>62</td>\n",
       "      <td>JARDIM DA PENHA</td>\n",
       "      <td>0</td>\n",
       "      <td>1</td>\n",
       "      <td>0</td>\n",
       "      <td>0</td>\n",
       "      <td>0</td>\n",
       "      <td>0</td>\n",
       "      <td>No</td>\n",
       "    </tr>\n",
       "    <tr>\n",
       "      <th>1</th>\n",
       "      <td>5.589978e+14</td>\n",
       "      <td>5642503</td>\n",
       "      <td>M</td>\n",
       "      <td>2016-04-29T16:08:27Z</td>\n",
       "      <td>2016-04-29T00:00:00Z</td>\n",
       "      <td>56</td>\n",
       "      <td>JARDIM DA PENHA</td>\n",
       "      <td>0</td>\n",
       "      <td>0</td>\n",
       "      <td>0</td>\n",
       "      <td>0</td>\n",
       "      <td>0</td>\n",
       "      <td>0</td>\n",
       "      <td>No</td>\n",
       "    </tr>\n",
       "    <tr>\n",
       "      <th>2</th>\n",
       "      <td>4.262962e+12</td>\n",
       "      <td>5642549</td>\n",
       "      <td>F</td>\n",
       "      <td>2016-04-29T16:19:04Z</td>\n",
       "      <td>2016-04-29T00:00:00Z</td>\n",
       "      <td>62</td>\n",
       "      <td>MATA DA PRAIA</td>\n",
       "      <td>0</td>\n",
       "      <td>0</td>\n",
       "      <td>0</td>\n",
       "      <td>0</td>\n",
       "      <td>0</td>\n",
       "      <td>0</td>\n",
       "      <td>No</td>\n",
       "    </tr>\n",
       "    <tr>\n",
       "      <th>3</th>\n",
       "      <td>8.679512e+11</td>\n",
       "      <td>5642828</td>\n",
       "      <td>F</td>\n",
       "      <td>2016-04-29T17:29:31Z</td>\n",
       "      <td>2016-04-29T00:00:00Z</td>\n",
       "      <td>8</td>\n",
       "      <td>PONTAL DE CAMBURI</td>\n",
       "      <td>0</td>\n",
       "      <td>0</td>\n",
       "      <td>0</td>\n",
       "      <td>0</td>\n",
       "      <td>0</td>\n",
       "      <td>0</td>\n",
       "      <td>No</td>\n",
       "    </tr>\n",
       "    <tr>\n",
       "      <th>4</th>\n",
       "      <td>8.841186e+12</td>\n",
       "      <td>5642494</td>\n",
       "      <td>F</td>\n",
       "      <td>2016-04-29T16:07:23Z</td>\n",
       "      <td>2016-04-29T00:00:00Z</td>\n",
       "      <td>56</td>\n",
       "      <td>JARDIM DA PENHA</td>\n",
       "      <td>0</td>\n",
       "      <td>1</td>\n",
       "      <td>1</td>\n",
       "      <td>0</td>\n",
       "      <td>0</td>\n",
       "      <td>0</td>\n",
       "      <td>No</td>\n",
       "    </tr>\n",
       "  </tbody>\n",
       "</table>\n",
       "</div>"
      ],
      "text/plain": [
       "      PatientId  AppointmentID Gender          ScheduledDay  \\\n",
       "0  2.987250e+13        5642903      F  2016-04-29T18:38:08Z   \n",
       "1  5.589978e+14        5642503      M  2016-04-29T16:08:27Z   \n",
       "2  4.262962e+12        5642549      F  2016-04-29T16:19:04Z   \n",
       "3  8.679512e+11        5642828      F  2016-04-29T17:29:31Z   \n",
       "4  8.841186e+12        5642494      F  2016-04-29T16:07:23Z   \n",
       "\n",
       "         AppointmentDay  Age      Neighbourhood  Scholarship  Hipertension  \\\n",
       "0  2016-04-29T00:00:00Z   62    JARDIM DA PENHA            0             1   \n",
       "1  2016-04-29T00:00:00Z   56    JARDIM DA PENHA            0             0   \n",
       "2  2016-04-29T00:00:00Z   62      MATA DA PRAIA            0             0   \n",
       "3  2016-04-29T00:00:00Z    8  PONTAL DE CAMBURI            0             0   \n",
       "4  2016-04-29T00:00:00Z   56    JARDIM DA PENHA            0             1   \n",
       "\n",
       "   Diabetes  Alcoholism  Handcap  SMS_received No-show  \n",
       "0         0           0        0             0      No  \n",
       "1         0           0        0             0      No  \n",
       "2         0           0        0             0      No  \n",
       "3         0           0        0             0      No  \n",
       "4         1           0        0             0      No  "
      ]
     },
     "execution_count": 10,
     "metadata": {},
     "output_type": "execute_result"
    }
   ],
   "source": [
    "df.head() # Checkout the first 5 entries in the DataFrame."
   ]
  },
  {
   "cell_type": "markdown",
   "metadata": {},
   "source": [
    "##### Insights from the above analysis\n",
    "\n",
    "1. There are 14 columns in the dataset."
   ]
  },
  {
   "cell_type": "code",
   "execution_count": 11,
   "metadata": {},
   "outputs": [
    {
     "data": {
      "text/html": [
       "<div>\n",
       "<style scoped>\n",
       "    .dataframe tbody tr th:only-of-type {\n",
       "        vertical-align: middle;\n",
       "    }\n",
       "\n",
       "    .dataframe tbody tr th {\n",
       "        vertical-align: top;\n",
       "    }\n",
       "\n",
       "    .dataframe thead th {\n",
       "        text-align: right;\n",
       "    }\n",
       "</style>\n",
       "<table border=\"1\" class=\"dataframe\">\n",
       "  <thead>\n",
       "    <tr style=\"text-align: right;\">\n",
       "      <th></th>\n",
       "      <th>PatientId</th>\n",
       "      <th>AppointmentID</th>\n",
       "      <th>Gender</th>\n",
       "      <th>ScheduledDay</th>\n",
       "      <th>AppointmentDay</th>\n",
       "      <th>Age</th>\n",
       "      <th>Neighbourhood</th>\n",
       "      <th>Scholarship</th>\n",
       "      <th>Hipertension</th>\n",
       "      <th>Diabetes</th>\n",
       "      <th>Alcoholism</th>\n",
       "      <th>Handcap</th>\n",
       "      <th>SMS_received</th>\n",
       "      <th>No-show</th>\n",
       "    </tr>\n",
       "  </thead>\n",
       "  <tbody>\n",
       "    <tr>\n",
       "      <th>110522</th>\n",
       "      <td>2.572134e+12</td>\n",
       "      <td>5651768</td>\n",
       "      <td>F</td>\n",
       "      <td>2016-05-03T09:15:35Z</td>\n",
       "      <td>2016-06-07T00:00:00Z</td>\n",
       "      <td>56</td>\n",
       "      <td>MARIA ORTIZ</td>\n",
       "      <td>0</td>\n",
       "      <td>0</td>\n",
       "      <td>0</td>\n",
       "      <td>0</td>\n",
       "      <td>0</td>\n",
       "      <td>1</td>\n",
       "      <td>No</td>\n",
       "    </tr>\n",
       "    <tr>\n",
       "      <th>110523</th>\n",
       "      <td>3.596266e+12</td>\n",
       "      <td>5650093</td>\n",
       "      <td>F</td>\n",
       "      <td>2016-05-03T07:27:33Z</td>\n",
       "      <td>2016-06-07T00:00:00Z</td>\n",
       "      <td>51</td>\n",
       "      <td>MARIA ORTIZ</td>\n",
       "      <td>0</td>\n",
       "      <td>0</td>\n",
       "      <td>0</td>\n",
       "      <td>0</td>\n",
       "      <td>0</td>\n",
       "      <td>1</td>\n",
       "      <td>No</td>\n",
       "    </tr>\n",
       "    <tr>\n",
       "      <th>110524</th>\n",
       "      <td>1.557663e+13</td>\n",
       "      <td>5630692</td>\n",
       "      <td>F</td>\n",
       "      <td>2016-04-27T16:03:52Z</td>\n",
       "      <td>2016-06-07T00:00:00Z</td>\n",
       "      <td>21</td>\n",
       "      <td>MARIA ORTIZ</td>\n",
       "      <td>0</td>\n",
       "      <td>0</td>\n",
       "      <td>0</td>\n",
       "      <td>0</td>\n",
       "      <td>0</td>\n",
       "      <td>1</td>\n",
       "      <td>No</td>\n",
       "    </tr>\n",
       "    <tr>\n",
       "      <th>110525</th>\n",
       "      <td>9.213493e+13</td>\n",
       "      <td>5630323</td>\n",
       "      <td>F</td>\n",
       "      <td>2016-04-27T15:09:23Z</td>\n",
       "      <td>2016-06-07T00:00:00Z</td>\n",
       "      <td>38</td>\n",
       "      <td>MARIA ORTIZ</td>\n",
       "      <td>0</td>\n",
       "      <td>0</td>\n",
       "      <td>0</td>\n",
       "      <td>0</td>\n",
       "      <td>0</td>\n",
       "      <td>1</td>\n",
       "      <td>No</td>\n",
       "    </tr>\n",
       "    <tr>\n",
       "      <th>110526</th>\n",
       "      <td>3.775115e+14</td>\n",
       "      <td>5629448</td>\n",
       "      <td>F</td>\n",
       "      <td>2016-04-27T13:30:56Z</td>\n",
       "      <td>2016-06-07T00:00:00Z</td>\n",
       "      <td>54</td>\n",
       "      <td>MARIA ORTIZ</td>\n",
       "      <td>0</td>\n",
       "      <td>0</td>\n",
       "      <td>0</td>\n",
       "      <td>0</td>\n",
       "      <td>0</td>\n",
       "      <td>1</td>\n",
       "      <td>No</td>\n",
       "    </tr>\n",
       "  </tbody>\n",
       "</table>\n",
       "</div>"
      ],
      "text/plain": [
       "           PatientId  AppointmentID Gender          ScheduledDay  \\\n",
       "110522  2.572134e+12        5651768      F  2016-05-03T09:15:35Z   \n",
       "110523  3.596266e+12        5650093      F  2016-05-03T07:27:33Z   \n",
       "110524  1.557663e+13        5630692      F  2016-04-27T16:03:52Z   \n",
       "110525  9.213493e+13        5630323      F  2016-04-27T15:09:23Z   \n",
       "110526  3.775115e+14        5629448      F  2016-04-27T13:30:56Z   \n",
       "\n",
       "              AppointmentDay  Age Neighbourhood  Scholarship  Hipertension  \\\n",
       "110522  2016-06-07T00:00:00Z   56   MARIA ORTIZ            0             0   \n",
       "110523  2016-06-07T00:00:00Z   51   MARIA ORTIZ            0             0   \n",
       "110524  2016-06-07T00:00:00Z   21   MARIA ORTIZ            0             0   \n",
       "110525  2016-06-07T00:00:00Z   38   MARIA ORTIZ            0             0   \n",
       "110526  2016-06-07T00:00:00Z   54   MARIA ORTIZ            0             0   \n",
       "\n",
       "        Diabetes  Alcoholism  Handcap  SMS_received No-show  \n",
       "110522         0           0        0             1      No  \n",
       "110523         0           0        0             1      No  \n",
       "110524         0           0        0             1      No  \n",
       "110525         0           0        0             1      No  \n",
       "110526         0           0        0             1      No  "
      ]
     },
     "execution_count": 11,
     "metadata": {},
     "output_type": "execute_result"
    }
   ],
   "source": [
    "df.tail() # Checkout the last 5 entries in the DataFrame."
   ]
  },
  {
   "cell_type": "code",
   "execution_count": 12,
   "metadata": {},
   "outputs": [
    {
     "data": {
      "text/html": [
       "<div>\n",
       "<style scoped>\n",
       "    .dataframe tbody tr th:only-of-type {\n",
       "        vertical-align: middle;\n",
       "    }\n",
       "\n",
       "    .dataframe tbody tr th {\n",
       "        vertical-align: top;\n",
       "    }\n",
       "\n",
       "    .dataframe thead th {\n",
       "        text-align: right;\n",
       "    }\n",
       "</style>\n",
       "<table border=\"1\" class=\"dataframe\">\n",
       "  <thead>\n",
       "    <tr style=\"text-align: right;\">\n",
       "      <th></th>\n",
       "      <th>PatientId</th>\n",
       "      <th>AppointmentID</th>\n",
       "      <th>Gender</th>\n",
       "      <th>ScheduledDay</th>\n",
       "      <th>AppointmentDay</th>\n",
       "      <th>Age</th>\n",
       "      <th>Neighbourhood</th>\n",
       "      <th>Scholarship</th>\n",
       "      <th>Hipertension</th>\n",
       "      <th>Diabetes</th>\n",
       "      <th>Alcoholism</th>\n",
       "      <th>Handcap</th>\n",
       "      <th>SMS_received</th>\n",
       "      <th>No-show</th>\n",
       "    </tr>\n",
       "  </thead>\n",
       "  <tbody>\n",
       "    <tr>\n",
       "      <th>93424</th>\n",
       "      <td>5.221574e+13</td>\n",
       "      <td>5757773</td>\n",
       "      <td>M</td>\n",
       "      <td>2016-06-01T09:48:31Z</td>\n",
       "      <td>2016-06-01T00:00:00Z</td>\n",
       "      <td>2</td>\n",
       "      <td>SÃO JOSÉ</td>\n",
       "      <td>0</td>\n",
       "      <td>0</td>\n",
       "      <td>0</td>\n",
       "      <td>0</td>\n",
       "      <td>0</td>\n",
       "      <td>0</td>\n",
       "      <td>No</td>\n",
       "    </tr>\n",
       "    <tr>\n",
       "      <th>6289</th>\n",
       "      <td>2.227669e+12</td>\n",
       "      <td>5648025</td>\n",
       "      <td>F</td>\n",
       "      <td>2016-05-02T14:54:35Z</td>\n",
       "      <td>2016-05-04T00:00:00Z</td>\n",
       "      <td>47</td>\n",
       "      <td>JARDIM CAMBURI</td>\n",
       "      <td>0</td>\n",
       "      <td>0</td>\n",
       "      <td>0</td>\n",
       "      <td>0</td>\n",
       "      <td>0</td>\n",
       "      <td>0</td>\n",
       "      <td>Yes</td>\n",
       "    </tr>\n",
       "    <tr>\n",
       "      <th>4718</th>\n",
       "      <td>5.681234e+14</td>\n",
       "      <td>5687283</td>\n",
       "      <td>F</td>\n",
       "      <td>2016-05-11T15:15:35Z</td>\n",
       "      <td>2016-05-16T00:00:00Z</td>\n",
       "      <td>36</td>\n",
       "      <td>RESISTÊNCIA</td>\n",
       "      <td>0</td>\n",
       "      <td>0</td>\n",
       "      <td>0</td>\n",
       "      <td>0</td>\n",
       "      <td>0</td>\n",
       "      <td>0</td>\n",
       "      <td>No</td>\n",
       "    </tr>\n",
       "    <tr>\n",
       "      <th>2204</th>\n",
       "      <td>2.426683e+12</td>\n",
       "      <td>5641336</td>\n",
       "      <td>F</td>\n",
       "      <td>2016-04-29T13:21:00Z</td>\n",
       "      <td>2016-04-29T00:00:00Z</td>\n",
       "      <td>49</td>\n",
       "      <td>DO CABRAL</td>\n",
       "      <td>0</td>\n",
       "      <td>1</td>\n",
       "      <td>0</td>\n",
       "      <td>0</td>\n",
       "      <td>0</td>\n",
       "      <td>0</td>\n",
       "      <td>No</td>\n",
       "    </tr>\n",
       "    <tr>\n",
       "      <th>91895</th>\n",
       "      <td>1.363977e+13</td>\n",
       "      <td>5680656</td>\n",
       "      <td>F</td>\n",
       "      <td>2016-05-10T12:21:12Z</td>\n",
       "      <td>2016-06-01T00:00:00Z</td>\n",
       "      <td>33</td>\n",
       "      <td>JARDIM DA PENHA</td>\n",
       "      <td>0</td>\n",
       "      <td>0</td>\n",
       "      <td>0</td>\n",
       "      <td>0</td>\n",
       "      <td>0</td>\n",
       "      <td>1</td>\n",
       "      <td>No</td>\n",
       "    </tr>\n",
       "    <tr>\n",
       "      <th>27797</th>\n",
       "      <td>2.644727e+12</td>\n",
       "      <td>5719555</td>\n",
       "      <td>F</td>\n",
       "      <td>2016-05-19T11:33:36Z</td>\n",
       "      <td>2016-05-25T00:00:00Z</td>\n",
       "      <td>16</td>\n",
       "      <td>ITARARÉ</td>\n",
       "      <td>0</td>\n",
       "      <td>0</td>\n",
       "      <td>0</td>\n",
       "      <td>0</td>\n",
       "      <td>0</td>\n",
       "      <td>1</td>\n",
       "      <td>No</td>\n",
       "    </tr>\n",
       "    <tr>\n",
       "      <th>52873</th>\n",
       "      <td>2.915678e+13</td>\n",
       "      <td>5736214</td>\n",
       "      <td>M</td>\n",
       "      <td>2016-05-25T08:03:47Z</td>\n",
       "      <td>2016-05-25T00:00:00Z</td>\n",
       "      <td>39</td>\n",
       "      <td>SÃO JOSÉ</td>\n",
       "      <td>0</td>\n",
       "      <td>0</td>\n",
       "      <td>0</td>\n",
       "      <td>0</td>\n",
       "      <td>0</td>\n",
       "      <td>0</td>\n",
       "      <td>No</td>\n",
       "    </tr>\n",
       "    <tr>\n",
       "      <th>42816</th>\n",
       "      <td>1.499929e+12</td>\n",
       "      <td>5729778</td>\n",
       "      <td>F</td>\n",
       "      <td>2016-05-24T07:50:04Z</td>\n",
       "      <td>2016-05-24T00:00:00Z</td>\n",
       "      <td>5</td>\n",
       "      <td>SÃO CRISTÓVÃO</td>\n",
       "      <td>0</td>\n",
       "      <td>0</td>\n",
       "      <td>0</td>\n",
       "      <td>0</td>\n",
       "      <td>0</td>\n",
       "      <td>0</td>\n",
       "      <td>No</td>\n",
       "    </tr>\n",
       "    <tr>\n",
       "      <th>51565</th>\n",
       "      <td>8.249496e+12</td>\n",
       "      <td>5720459</td>\n",
       "      <td>F</td>\n",
       "      <td>2016-05-19T13:51:47Z</td>\n",
       "      <td>2016-05-19T00:00:00Z</td>\n",
       "      <td>46</td>\n",
       "      <td>PIEDADE</td>\n",
       "      <td>0</td>\n",
       "      <td>0</td>\n",
       "      <td>0</td>\n",
       "      <td>0</td>\n",
       "      <td>0</td>\n",
       "      <td>0</td>\n",
       "      <td>No</td>\n",
       "    </tr>\n",
       "    <tr>\n",
       "      <th>51479</th>\n",
       "      <td>3.357126e+11</td>\n",
       "      <td>5681056</td>\n",
       "      <td>M</td>\n",
       "      <td>2016-05-10T13:29:46Z</td>\n",
       "      <td>2016-05-10T00:00:00Z</td>\n",
       "      <td>0</td>\n",
       "      <td>PIEDADE</td>\n",
       "      <td>0</td>\n",
       "      <td>0</td>\n",
       "      <td>0</td>\n",
       "      <td>0</td>\n",
       "      <td>0</td>\n",
       "      <td>0</td>\n",
       "      <td>No</td>\n",
       "    </tr>\n",
       "  </tbody>\n",
       "</table>\n",
       "</div>"
      ],
      "text/plain": [
       "          PatientId  AppointmentID Gender          ScheduledDay  \\\n",
       "93424  5.221574e+13        5757773      M  2016-06-01T09:48:31Z   \n",
       "6289   2.227669e+12        5648025      F  2016-05-02T14:54:35Z   \n",
       "4718   5.681234e+14        5687283      F  2016-05-11T15:15:35Z   \n",
       "2204   2.426683e+12        5641336      F  2016-04-29T13:21:00Z   \n",
       "91895  1.363977e+13        5680656      F  2016-05-10T12:21:12Z   \n",
       "27797  2.644727e+12        5719555      F  2016-05-19T11:33:36Z   \n",
       "52873  2.915678e+13        5736214      M  2016-05-25T08:03:47Z   \n",
       "42816  1.499929e+12        5729778      F  2016-05-24T07:50:04Z   \n",
       "51565  8.249496e+12        5720459      F  2016-05-19T13:51:47Z   \n",
       "51479  3.357126e+11        5681056      M  2016-05-10T13:29:46Z   \n",
       "\n",
       "             AppointmentDay  Age    Neighbourhood  Scholarship  Hipertension  \\\n",
       "93424  2016-06-01T00:00:00Z    2         SÃO JOSÉ            0             0   \n",
       "6289   2016-05-04T00:00:00Z   47   JARDIM CAMBURI            0             0   \n",
       "4718   2016-05-16T00:00:00Z   36      RESISTÊNCIA            0             0   \n",
       "2204   2016-04-29T00:00:00Z   49        DO CABRAL            0             1   \n",
       "91895  2016-06-01T00:00:00Z   33  JARDIM DA PENHA            0             0   \n",
       "27797  2016-05-25T00:00:00Z   16          ITARARÉ            0             0   \n",
       "52873  2016-05-25T00:00:00Z   39         SÃO JOSÉ            0             0   \n",
       "42816  2016-05-24T00:00:00Z    5    SÃO CRISTÓVÃO            0             0   \n",
       "51565  2016-05-19T00:00:00Z   46          PIEDADE            0             0   \n",
       "51479  2016-05-10T00:00:00Z    0          PIEDADE            0             0   \n",
       "\n",
       "       Diabetes  Alcoholism  Handcap  SMS_received No-show  \n",
       "93424         0           0        0             0      No  \n",
       "6289          0           0        0             0     Yes  \n",
       "4718          0           0        0             0      No  \n",
       "2204          0           0        0             0      No  \n",
       "91895         0           0        0             1      No  \n",
       "27797         0           0        0             1      No  \n",
       "52873         0           0        0             0      No  \n",
       "42816         0           0        0             0      No  \n",
       "51565         0           0        0             0      No  \n",
       "51479         0           0        0             0      No  "
      ]
     },
     "execution_count": 12,
     "metadata": {},
     "output_type": "execute_result"
    }
   ],
   "source": [
    "df.sample(10) # Checkout the random 10 entries in the DataFrame."
   ]
  },
  {
   "cell_type": "markdown",
   "metadata": {},
   "source": [
    "The dates are given in `ISO-8601` date representation style. In addition AppointmentDays are fixed at time T00:00:00Z"
   ]
  },
  {
   "cell_type": "code",
   "execution_count": 13,
   "metadata": {},
   "outputs": [
    {
     "data": {
      "text/plain": [
       "PatientId         float64\n",
       "AppointmentID       int64\n",
       "Gender             object\n",
       "ScheduledDay       object\n",
       "AppointmentDay     object\n",
       "Age                 int64\n",
       "Neighbourhood      object\n",
       "Scholarship         int64\n",
       "Hipertension        int64\n",
       "Diabetes            int64\n",
       "Alcoholism          int64\n",
       "Handcap             int64\n",
       "SMS_received        int64\n",
       "No-show            object\n",
       "dtype: object"
      ]
     },
     "execution_count": 13,
     "metadata": {},
     "output_type": "execute_result"
    }
   ],
   "source": [
    "df.dtypes # Check the data types"
   ]
  },
  {
   "cell_type": "code",
   "execution_count": 14,
   "metadata": {},
   "outputs": [
    {
     "data": {
      "text/plain": [
       "RangeIndex(start=0, stop=110527, step=1)"
      ]
     },
     "execution_count": 14,
     "metadata": {},
     "output_type": "execute_result"
    }
   ],
   "source": [
    "df.index  # Show the total number of rows index"
   ]
  },
  {
   "cell_type": "code",
   "execution_count": 15,
   "metadata": {},
   "outputs": [
    {
     "data": {
      "text/plain": [
       "(110527, 14)"
      ]
     },
     "execution_count": 15,
     "metadata": {},
     "output_type": "execute_result"
    }
   ],
   "source": [
    "df.shape  # Shows the total number of rows and columns in the dataset"
   ]
  },
  {
   "cell_type": "code",
   "execution_count": 16,
   "metadata": {},
   "outputs": [
    {
     "name": "stdout",
     "output_type": "stream",
     "text": [
      "The DataFrame has 110527 rows and 14 columns.\n"
     ]
    }
   ],
   "source": [
    "df_row_count, df_column_count = df.shape\n",
    "print(f\"The DataFrame has {df_row_count} rows and {df_column_count} columns.\")"
   ]
  },
  {
   "cell_type": "code",
   "execution_count": 17,
   "metadata": {},
   "outputs": [
    {
     "data": {
      "text/plain": [
       "Index(['PatientId', 'AppointmentID', 'Gender', 'ScheduledDay',\n",
       "       'AppointmentDay', 'Age', 'Neighbourhood', 'Scholarship', 'Hipertension',\n",
       "       'Diabetes', 'Alcoholism', 'Handcap', 'SMS_received', 'No-show'],\n",
       "      dtype='object')"
      ]
     },
     "execution_count": 17,
     "metadata": {},
     "output_type": "execute_result"
    }
   ],
   "source": [
    "df.columns  # Shows the names of the column headers/titles"
   ]
  },
  {
   "cell_type": "markdown",
   "metadata": {},
   "source": [
    "###### Checks the metadata of the DataFrame\n",
    "\n",
    "\n",
    "Row and column totals, column names, \n",
    "datatypes, missing values and their counts, etc."
   ]
  },
  {
   "cell_type": "code",
   "execution_count": 18,
   "metadata": {},
   "outputs": [
    {
     "name": "stdout",
     "output_type": "stream",
     "text": [
      "<class 'pandas.core.frame.DataFrame'>\n",
      "RangeIndex: 110527 entries, 0 to 110526\n",
      "Data columns (total 14 columns):\n",
      " #   Column          Non-Null Count   Dtype  \n",
      "---  ------          --------------   -----  \n",
      " 0   PatientId       110527 non-null  float64\n",
      " 1   AppointmentID   110527 non-null  int64  \n",
      " 2   Gender          110527 non-null  object \n",
      " 3   ScheduledDay    110527 non-null  object \n",
      " 4   AppointmentDay  110527 non-null  object \n",
      " 5   Age             110527 non-null  int64  \n",
      " 6   Neighbourhood   110527 non-null  object \n",
      " 7   Scholarship     110527 non-null  int64  \n",
      " 8   Hipertension    110527 non-null  int64  \n",
      " 9   Diabetes        110527 non-null  int64  \n",
      " 10  Alcoholism      110527 non-null  int64  \n",
      " 11  Handcap         110527 non-null  int64  \n",
      " 12  SMS_received    110527 non-null  int64  \n",
      " 13  No-show         110527 non-null  object \n",
      "dtypes: float64(1), int64(8), object(5)\n",
      "memory usage: 44.3 MB\n"
     ]
    }
   ],
   "source": [
    "df.info(memory_usage=\"deep\")\n",
    "\n",
    "# N.B. You can use this single command in place of the \n",
    "# df.dtypes, df.shape, and df.columns commands initially used above."
   ]
  },
  {
   "cell_type": "markdown",
   "metadata": {},
   "source": [
    "##### Insights\n",
    "\n",
    "I made the following observations about the dataset:\n",
    "1. There are 14 columns as mentioned above\n",
    "2. There are 110, 527 rows indexed from 0 to 110, 526.\n",
    "3. The dataset contains the following data types:\n",
    "- 1 float64: PatientID column\n",
    "- 8 int64: AppointmentID, Age, Scholarship, Hipertension, Diabetes, Alcoholism, Handcap, and SMS_received\n",
    "- 5 objects: ScheduledDay, AppointmentDay, Neighbourhood and No-show\n",
    "4. I am using about 44MB of memory on PC (Remeber I have 2 DataFrames loaded).\n",
    "5. There are some typographical errors in the column names: Handcap and Hipertension.\n",
    "6. There are no missing values in the dataset."
   ]
  },
  {
   "cell_type": "markdown",
   "metadata": {},
   "source": [
    "##### Deciding to drop some columns.\n",
    "\n",
    "The command in the cell below will drop the column names PatientId and AppointmentID from the dataframe.\n",
    "The axis = 1 is used to refer to the column\n",
    "If you need to delete rows, set the axis = 0, which is the default value. I initially thought of deleting these columns but I will leave them for now, just in case a need arises as I continue exploring the dataset. So i will comment out the code in the cell below"
   ]
  },
  {
   "cell_type": "code",
   "execution_count": 19,
   "metadata": {},
   "outputs": [],
   "source": [
    "# Now we drop the columns\n",
    "\n",
    "#df2_copy.drop([\"PatientId\", \"AppointmentID\"], axis=1, inplace = True)\n",
    "#df2_copy.head()\n"
   ]
  },
  {
   "cell_type": "markdown",
   "metadata": {},
   "source": [
    "Next I will like to run a descriptive statistics on the dataset to peek into the data summary statistics of the numerical variables."
   ]
  },
  {
   "cell_type": "code",
   "execution_count": 20,
   "metadata": {},
   "outputs": [
    {
     "data": {
      "text/html": [
       "<div>\n",
       "<style scoped>\n",
       "    .dataframe tbody tr th:only-of-type {\n",
       "        vertical-align: middle;\n",
       "    }\n",
       "\n",
       "    .dataframe tbody tr th {\n",
       "        vertical-align: top;\n",
       "    }\n",
       "\n",
       "    .dataframe thead th {\n",
       "        text-align: right;\n",
       "    }\n",
       "</style>\n",
       "<table border=\"1\" class=\"dataframe\">\n",
       "  <thead>\n",
       "    <tr style=\"text-align: right;\">\n",
       "      <th></th>\n",
       "      <th>PatientId</th>\n",
       "      <th>AppointmentID</th>\n",
       "      <th>Age</th>\n",
       "      <th>Scholarship</th>\n",
       "      <th>Hipertension</th>\n",
       "      <th>Diabetes</th>\n",
       "      <th>Alcoholism</th>\n",
       "      <th>Handcap</th>\n",
       "      <th>SMS_received</th>\n",
       "    </tr>\n",
       "  </thead>\n",
       "  <tbody>\n",
       "    <tr>\n",
       "      <th>count</th>\n",
       "      <td>1.105270e+05</td>\n",
       "      <td>110527.00</td>\n",
       "      <td>110527.00</td>\n",
       "      <td>110527.0</td>\n",
       "      <td>110527.0</td>\n",
       "      <td>110527.00</td>\n",
       "      <td>110527.00</td>\n",
       "      <td>110527.00</td>\n",
       "      <td>110527.00</td>\n",
       "    </tr>\n",
       "    <tr>\n",
       "      <th>mean</th>\n",
       "      <td>1.474963e+14</td>\n",
       "      <td>5675305.12</td>\n",
       "      <td>37.09</td>\n",
       "      <td>0.1</td>\n",
       "      <td>0.2</td>\n",
       "      <td>0.07</td>\n",
       "      <td>0.03</td>\n",
       "      <td>0.02</td>\n",
       "      <td>0.32</td>\n",
       "    </tr>\n",
       "    <tr>\n",
       "      <th>std</th>\n",
       "      <td>2.560949e+14</td>\n",
       "      <td>71295.75</td>\n",
       "      <td>23.11</td>\n",
       "      <td>0.3</td>\n",
       "      <td>0.4</td>\n",
       "      <td>0.26</td>\n",
       "      <td>0.17</td>\n",
       "      <td>0.16</td>\n",
       "      <td>0.47</td>\n",
       "    </tr>\n",
       "    <tr>\n",
       "      <th>min</th>\n",
       "      <td>3.921784e+04</td>\n",
       "      <td>5030230.00</td>\n",
       "      <td>-1.00</td>\n",
       "      <td>0.0</td>\n",
       "      <td>0.0</td>\n",
       "      <td>0.00</td>\n",
       "      <td>0.00</td>\n",
       "      <td>0.00</td>\n",
       "      <td>0.00</td>\n",
       "    </tr>\n",
       "    <tr>\n",
       "      <th>25%</th>\n",
       "      <td>4.172614e+12</td>\n",
       "      <td>5640285.50</td>\n",
       "      <td>18.00</td>\n",
       "      <td>0.0</td>\n",
       "      <td>0.0</td>\n",
       "      <td>0.00</td>\n",
       "      <td>0.00</td>\n",
       "      <td>0.00</td>\n",
       "      <td>0.00</td>\n",
       "    </tr>\n",
       "    <tr>\n",
       "      <th>50%</th>\n",
       "      <td>3.173184e+13</td>\n",
       "      <td>5680573.00</td>\n",
       "      <td>37.00</td>\n",
       "      <td>0.0</td>\n",
       "      <td>0.0</td>\n",
       "      <td>0.00</td>\n",
       "      <td>0.00</td>\n",
       "      <td>0.00</td>\n",
       "      <td>0.00</td>\n",
       "    </tr>\n",
       "    <tr>\n",
       "      <th>75%</th>\n",
       "      <td>9.439172e+13</td>\n",
       "      <td>5725523.50</td>\n",
       "      <td>55.00</td>\n",
       "      <td>0.0</td>\n",
       "      <td>0.0</td>\n",
       "      <td>0.00</td>\n",
       "      <td>0.00</td>\n",
       "      <td>0.00</td>\n",
       "      <td>1.00</td>\n",
       "    </tr>\n",
       "    <tr>\n",
       "      <th>max</th>\n",
       "      <td>9.999816e+14</td>\n",
       "      <td>5790484.00</td>\n",
       "      <td>115.00</td>\n",
       "      <td>1.0</td>\n",
       "      <td>1.0</td>\n",
       "      <td>1.00</td>\n",
       "      <td>1.00</td>\n",
       "      <td>4.00</td>\n",
       "      <td>1.00</td>\n",
       "    </tr>\n",
       "  </tbody>\n",
       "</table>\n",
       "</div>"
      ],
      "text/plain": [
       "          PatientId  AppointmentID        Age  Scholarship  Hipertension  \\\n",
       "count  1.105270e+05      110527.00  110527.00     110527.0      110527.0   \n",
       "mean   1.474963e+14     5675305.12      37.09          0.1           0.2   \n",
       "std    2.560949e+14       71295.75      23.11          0.3           0.4   \n",
       "min    3.921784e+04     5030230.00      -1.00          0.0           0.0   \n",
       "25%    4.172614e+12     5640285.50      18.00          0.0           0.0   \n",
       "50%    3.173184e+13     5680573.00      37.00          0.0           0.0   \n",
       "75%    9.439172e+13     5725523.50      55.00          0.0           0.0   \n",
       "max    9.999816e+14     5790484.00     115.00          1.0           1.0   \n",
       "\n",
       "        Diabetes  Alcoholism    Handcap  SMS_received  \n",
       "count  110527.00   110527.00  110527.00     110527.00  \n",
       "mean        0.07        0.03       0.02          0.32  \n",
       "std         0.26        0.17       0.16          0.47  \n",
       "min         0.00        0.00       0.00          0.00  \n",
       "25%         0.00        0.00       0.00          0.00  \n",
       "50%         0.00        0.00       0.00          0.00  \n",
       "75%         0.00        0.00       0.00          1.00  \n",
       "max         1.00        1.00       4.00          1.00  "
      ]
     },
     "execution_count": 20,
     "metadata": {},
     "output_type": "execute_result"
    }
   ],
   "source": [
    "df.describe().round(2)\n",
    "\n",
    "# This is used to check the summary statistics of the dataset, especially for numerical data.\n",
    "# You can decide to round the result up for better reading\n",
    "# This also gives a general overview of some abnormalities in the dataset"
   ]
  },
  {
   "cell_type": "markdown",
   "metadata": {},
   "source": [
    "##### Insights\n",
    "\n",
    "The average age of the patients is 37 years, minimum age is `-1`, maximum age is `115` and a standard deviation of about `23`. Count is the number of values and this shows there are no missing values in the dataset. Note that the count is thesame (110, 527) across the Count row, which tallies with the total number of Patients.\n",
    "\n",
    "I will not bother about the other columns because they are mostly categorical but mainly coded as numbers for ease.\n",
    "\n",
    "Obviously the `-1` age stands out. No one is aged `-1`. Its possible for someone to be `115` years old. We cant be too sure though.\n",
    "\n",
    "I shall attempt addressing these later on in the course of this work."
   ]
  },
  {
   "cell_type": "markdown",
   "metadata": {},
   "source": [
    "From the above shown overview of the data, I observed some changes that need to be made. These include:\n",
    "\n",
    "\n",
    "1. The PatientID and AppointmentID are just identifiers (most likely computer generated) and may not be needed in the analysis. They can thus be dropped from the table during the data cleaning process. Although the PatientID is a float datatype instead of an integer, but there will be no need to change its data type since I shall be dropping it. \n",
    "\n",
    "\n",
    "2. The ScheduledDay and AppointmentDay are object data types instead of Datetime datatypes. They need to be converted to Datetime.\n",
    "\n",
    "\n",
    "3. The Handcap and Hipertension columns have a typo error and needs to be renamed for better clarity.\n",
    "\n",
    "\n",
    "4. The No-show column can be confusing and also needs to be changed to correctly reflect what it stands for. Further details will be provided during the process. "
   ]
  },
  {
   "cell_type": "markdown",
   "metadata": {},
   "source": [
    "##### Converting Some Columns to Appropriate Data Types\n",
    "\n",
    "\n",
    "Here I will Convert ScheduledDay and AppointmentDay to Date time data types from the default objects data type. \n",
    "\n",
    "\n",
    "Finally I will check the datasets data type again."
   ]
  },
  {
   "cell_type": "markdown",
   "metadata": {},
   "source": [
    "For some personal reasons I would like to document how to convert the PatientID from float to an integer. This will be achieved by running the code in the cell below. Note that the code cell is commented out."
   ]
  },
  {
   "cell_type": "code",
   "execution_count": 21,
   "metadata": {},
   "outputs": [],
   "source": [
    "# df['PatientId'] = df['PatientId'].astype('int64')   # Converts PatientId from Float to Int64"
   ]
  },
  {
   "cell_type": "markdown",
   "metadata": {},
   "source": [
    "##### To Drop Columns I may not need."
   ]
  },
  {
   "cell_type": "code",
   "execution_count": 22,
   "metadata": {},
   "outputs": [],
   "source": [
    "df.drop([\"PatientId\", \"AppointmentID\"], axis=1, inplace=True)"
   ]
  },
  {
   "cell_type": "markdown",
   "metadata": {},
   "source": [
    "Running the above command will drop the PateintID and AppointmentID from the dataset. The `axis=1` argument indicates the command will be applied to the column labels while the `inplace=True` argument applies the changes to thesame DataFrame. After running the above code, we can check to see if our operation got executed successfully"
   ]
  },
  {
   "cell_type": "code",
   "execution_count": 23,
   "metadata": {},
   "outputs": [
    {
     "name": "stdout",
     "output_type": "stream",
     "text": [
      "<class 'pandas.core.frame.DataFrame'>\n",
      "RangeIndex: 110527 entries, 0 to 110526\n",
      "Data columns (total 12 columns):\n",
      " #   Column          Non-Null Count   Dtype \n",
      "---  ------          --------------   ----- \n",
      " 0   Gender          110527 non-null  object\n",
      " 1   ScheduledDay    110527 non-null  object\n",
      " 2   AppointmentDay  110527 non-null  object\n",
      " 3   Age             110527 non-null  int64 \n",
      " 4   Neighbourhood   110527 non-null  object\n",
      " 5   Scholarship     110527 non-null  int64 \n",
      " 6   Hipertension    110527 non-null  int64 \n",
      " 7   Diabetes        110527 non-null  int64 \n",
      " 8   Alcoholism      110527 non-null  int64 \n",
      " 9   Handcap         110527 non-null  int64 \n",
      " 10  SMS_received    110527 non-null  int64 \n",
      " 11  No-show         110527 non-null  object\n",
      "dtypes: int64(7), object(5)\n",
      "memory usage: 10.1+ MB\n"
     ]
    }
   ],
   "source": [
    "df.info()"
   ]
  },
  {
   "cell_type": "markdown",
   "metadata": {},
   "source": [
    "Yes it did !!! Notice we now have 12 columns since we just dropped 2 columns."
   ]
  },
  {
   "cell_type": "code",
   "execution_count": 24,
   "metadata": {},
   "outputs": [],
   "source": [
    "#df.ScheduledDay = df.ScheduledDay.apply(np.datetime64) \n",
    "\n",
    "# Converts ScheduledDay from Object to datetime64"
   ]
  },
  {
   "cell_type": "code",
   "execution_count": 25,
   "metadata": {},
   "outputs": [],
   "source": [
    "#df.AppointmentDay = df.AppointmentDay.apply(np.datetime64)\n",
    "\n",
    "# Converts AppointmentDay from Object to datetime64"
   ]
  },
  {
   "cell_type": "markdown",
   "metadata": {},
   "source": [
    "The above 2 cells can be used to achieve conversion of ScheduledDay and AppointmentDay to datetime64 datatype.. However, If you want to change for multiple columns at once, You can also use pandas to_datetime function to achieve this by using the apply method:\n",
    "```\n",
    "df[[\"AppointmentDay\", \"ScheduledDay\"]] = df[[\"AppointmentDay\", \"ScheduledDay\"]].apply(pd.to_datetime)\n",
    "```"
   ]
  },
  {
   "cell_type": "code",
   "execution_count": 26,
   "metadata": {},
   "outputs": [],
   "source": [
    "df[[\"AppointmentDay\", \"ScheduledDay\"]] = \\\n",
    "df[[\"AppointmentDay\", \"ScheduledDay\"]].apply(pd.to_datetime)\n",
    "\n",
    "# The backslash is used here to break the lengthy code so that it spans 2 lines \n",
    "# but doesn't break the code"
   ]
  },
  {
   "cell_type": "markdown",
   "metadata": {},
   "source": [
    "Now let's check the dataset to see if our chages to the datetime datatype was successful for the listed colums above."
   ]
  },
  {
   "cell_type": "code",
   "execution_count": 27,
   "metadata": {},
   "outputs": [
    {
     "data": {
      "text/plain": [
       "Gender                         object\n",
       "ScheduledDay      datetime64[ns, UTC]\n",
       "AppointmentDay    datetime64[ns, UTC]\n",
       "Age                             int64\n",
       "Neighbourhood                  object\n",
       "Scholarship                     int64\n",
       "Hipertension                    int64\n",
       "Diabetes                        int64\n",
       "Alcoholism                      int64\n",
       "Handcap                         int64\n",
       "SMS_received                    int64\n",
       "No-show                        object\n",
       "dtype: object"
      ]
     },
     "execution_count": 27,
     "metadata": {},
     "output_type": "execute_result"
    }
   ],
   "source": [
    "df.dtypes"
   ]
  },
  {
   "cell_type": "markdown",
   "metadata": {},
   "source": [
    "As you can see, I have successfully converted the `ScheduledDay` and `AppointmentDay` datatypes from object to `datetime64`."
   ]
  },
  {
   "cell_type": "markdown",
   "metadata": {},
   "source": [
    "##### Modifying the No-show Column\n",
    "\n",
    "Let us examine the No-show column. It can be confusing if one isn't observant. \n",
    "According to the explanation offered by Udacity:\n",
    "\n",
    ">Be careful about the encoding of the last column: it says `\"No\"` if the patient\n",
    "showed up to their appointment, and `‘Yes’` if they did not show up.\n",
    "\n",
    "This means that those who showed up to their appointment are encoded as `\"No\"` and vice versa. \n",
    "We shall attempt to change this into an encoding that is easy to understand like this:\n",
    "\n",
    "`\"Yes\"` if the patient came for appointment and\n",
    "\n",
    "`\"No\"` if they didn't come for appointment \n",
    "\n",
    "\n",
    "This makes more sense. But first things first. We have to count the total number of each entry first."
   ]
  },
  {
   "cell_type": "code",
   "execution_count": 28,
   "metadata": {},
   "outputs": [
    {
     "data": {
      "text/plain": [
       "No     88208\n",
       "Yes    22319\n",
       "Name: No-show, dtype: int64"
      ]
     },
     "execution_count": 28,
     "metadata": {},
     "output_type": "execute_result"
    }
   ],
   "source": [
    "df[\"No-show\"].value_counts()"
   ]
  },
  {
   "cell_type": "markdown",
   "metadata": {},
   "source": [
    "Another way to understand the last column in the dataframe is this. After running the code cell below, those who came for appointments have `True` values and those who didnt have `False` value."
   ]
  },
  {
   "cell_type": "code",
   "execution_count": 29,
   "metadata": {},
   "outputs": [
    {
     "data": {
      "text/plain": [
       "True     88208\n",
       "False    22319\n",
       "Name: No-show, dtype: int64"
      ]
     },
     "execution_count": 29,
     "metadata": {},
     "output_type": "execute_result"
    }
   ],
   "source": [
    "(df[\"No-show\"] == \"No\").value_counts()\n"
   ]
  },
  {
   "cell_type": "markdown",
   "metadata": {},
   "source": [
    "The above table indicates that:\n",
    "\n",
    "88, 208 patients showed up for appointment while \n",
    "\n",
    "22, 319 patients didnt show up.\n",
    "\n",
    "The `No-show` column shall be renamed to `Showed_up_for_appointment`. We want the table to thus show:\n",
    "\n",
    "`Yes` for those who showed up for appointments (88, 208 patients) and \n",
    "\n",
    "`No` for those who didnt (22, 319 patients)."
   ]
  },
  {
   "cell_type": "markdown",
   "metadata": {},
   "source": [
    "##### Rename some columns"
   ]
  },
  {
   "cell_type": "code",
   "execution_count": 30,
   "metadata": {},
   "outputs": [],
   "source": [
    "to_rename = {\n",
    "    \"Hipertension\": \"Hypertension\",\n",
    "    \"No-show\": \"Showed_up_for_appointment\",\n",
    "    \"Handcap\": \"Handicapped\"\n",
    "}\n",
    "\n",
    "df.rename(columns = to_rename,  inplace=True)\n"
   ]
  },
  {
   "cell_type": "markdown",
   "metadata": {},
   "source": [
    "The above code renames three of the column names. First a dictionary is created and assigned the variable name `to_rename`. This dictionary contains `key:value` pairs as `old-name: new-name`. We then passed this `to_rename` variable into the DataFrame rename function as shown above.\n",
    "\n",
    "The `inplace` argument helps to ensure all changes are effected on the original DataFramme."
   ]
  },
  {
   "cell_type": "markdown",
   "metadata": {},
   "source": [
    "Another way to rename columns is shown below:\n",
    "```\n",
    "df.rename(columns={\"Hipertension\": \"Hypertension\",\"Handcap\": \"Handicapped\",  \"No-show\": \"Showed_up_for_appointment\"}, inplace=True)\n",
    "```\n",
    "\n",
    "You may want to rename some columns whose titles have typos or aren't descriptive enough for you.\n",
    "Thereafter call the df.head() function to see the effects of your changes"
   ]
  },
  {
   "cell_type": "markdown",
   "metadata": {},
   "source": [
    "Next we change the row entries into the appropriate coding. The next code below does the following action:\n",
    "\n",
    "`\"No\"` will be replaced by `\"Yes\"` and\\\n",
    "`\"Yes\"` will be replaced by `\"No\"`.\n",
    "\n",
    "Remember that we have to ensure the total counts remain thesame as the original Dataset."
   ]
  },
  {
   "cell_type": "code",
   "execution_count": 31,
   "metadata": {},
   "outputs": [],
   "source": [
    "replace_values = {\"No\": \"Yes\",\n",
    "                 \"Yes\": \"No\"\n",
    "                 }\n",
    "df = df.replace({\"Showed_up_for_appointment\": replace_values})"
   ]
  },
  {
   "cell_type": "markdown",
   "metadata": {},
   "source": [
    "Next let us confirm our total count still remains thesame as explained above."
   ]
  },
  {
   "cell_type": "code",
   "execution_count": 32,
   "metadata": {},
   "outputs": [
    {
     "data": {
      "text/plain": [
       "Yes    88208\n",
       "No     22319\n",
       "Name: Showed_up_for_appointment, dtype: int64"
      ]
     },
     "execution_count": 32,
     "metadata": {},
     "output_type": "execute_result"
    }
   ],
   "source": [
    "df[\"Showed_up_for_appointment\"].value_counts()"
   ]
  },
  {
   "cell_type": "markdown",
   "metadata": {},
   "source": [
    "Yes it does!!!\n",
    "\n",
    "The above result shows that the table now indicates that:\n",
    "\n",
    "88, 208 patients showed up for appointment. \n",
    "22, 319 patients didnt show up.\n",
    "\n",
    "Remember that `\"No-show\"` column has beeen renamed to `\"Showed_up_for_appointment\"`.\n",
    "\n",
    "The table thus shows:\n",
    "\n",
    "`\"Yes\"` for those who showed up for appointments (88, 208 patients) and \n",
    "\n",
    "\n",
    "`\"No\"` for those who didnt (22, 319 patients)."
   ]
  },
  {
   "cell_type": "markdown",
   "metadata": {},
   "source": [
    "Now let's take a look at our dataset after these modifications by running the `df.head()` command"
   ]
  },
  {
   "cell_type": "code",
   "execution_count": 33,
   "metadata": {},
   "outputs": [
    {
     "data": {
      "text/html": [
       "<div>\n",
       "<style scoped>\n",
       "    .dataframe tbody tr th:only-of-type {\n",
       "        vertical-align: middle;\n",
       "    }\n",
       "\n",
       "    .dataframe tbody tr th {\n",
       "        vertical-align: top;\n",
       "    }\n",
       "\n",
       "    .dataframe thead th {\n",
       "        text-align: right;\n",
       "    }\n",
       "</style>\n",
       "<table border=\"1\" class=\"dataframe\">\n",
       "  <thead>\n",
       "    <tr style=\"text-align: right;\">\n",
       "      <th></th>\n",
       "      <th>Gender</th>\n",
       "      <th>ScheduledDay</th>\n",
       "      <th>AppointmentDay</th>\n",
       "      <th>Age</th>\n",
       "      <th>Neighbourhood</th>\n",
       "      <th>Scholarship</th>\n",
       "      <th>Hypertension</th>\n",
       "      <th>Diabetes</th>\n",
       "      <th>Alcoholism</th>\n",
       "      <th>Handicapped</th>\n",
       "      <th>SMS_received</th>\n",
       "      <th>Showed_up_for_appointment</th>\n",
       "    </tr>\n",
       "  </thead>\n",
       "  <tbody>\n",
       "    <tr>\n",
       "      <th>0</th>\n",
       "      <td>F</td>\n",
       "      <td>2016-04-29 18:38:08+00:00</td>\n",
       "      <td>2016-04-29 00:00:00+00:00</td>\n",
       "      <td>62</td>\n",
       "      <td>JARDIM DA PENHA</td>\n",
       "      <td>0</td>\n",
       "      <td>1</td>\n",
       "      <td>0</td>\n",
       "      <td>0</td>\n",
       "      <td>0</td>\n",
       "      <td>0</td>\n",
       "      <td>Yes</td>\n",
       "    </tr>\n",
       "    <tr>\n",
       "      <th>1</th>\n",
       "      <td>M</td>\n",
       "      <td>2016-04-29 16:08:27+00:00</td>\n",
       "      <td>2016-04-29 00:00:00+00:00</td>\n",
       "      <td>56</td>\n",
       "      <td>JARDIM DA PENHA</td>\n",
       "      <td>0</td>\n",
       "      <td>0</td>\n",
       "      <td>0</td>\n",
       "      <td>0</td>\n",
       "      <td>0</td>\n",
       "      <td>0</td>\n",
       "      <td>Yes</td>\n",
       "    </tr>\n",
       "    <tr>\n",
       "      <th>2</th>\n",
       "      <td>F</td>\n",
       "      <td>2016-04-29 16:19:04+00:00</td>\n",
       "      <td>2016-04-29 00:00:00+00:00</td>\n",
       "      <td>62</td>\n",
       "      <td>MATA DA PRAIA</td>\n",
       "      <td>0</td>\n",
       "      <td>0</td>\n",
       "      <td>0</td>\n",
       "      <td>0</td>\n",
       "      <td>0</td>\n",
       "      <td>0</td>\n",
       "      <td>Yes</td>\n",
       "    </tr>\n",
       "    <tr>\n",
       "      <th>3</th>\n",
       "      <td>F</td>\n",
       "      <td>2016-04-29 17:29:31+00:00</td>\n",
       "      <td>2016-04-29 00:00:00+00:00</td>\n",
       "      <td>8</td>\n",
       "      <td>PONTAL DE CAMBURI</td>\n",
       "      <td>0</td>\n",
       "      <td>0</td>\n",
       "      <td>0</td>\n",
       "      <td>0</td>\n",
       "      <td>0</td>\n",
       "      <td>0</td>\n",
       "      <td>Yes</td>\n",
       "    </tr>\n",
       "    <tr>\n",
       "      <th>4</th>\n",
       "      <td>F</td>\n",
       "      <td>2016-04-29 16:07:23+00:00</td>\n",
       "      <td>2016-04-29 00:00:00+00:00</td>\n",
       "      <td>56</td>\n",
       "      <td>JARDIM DA PENHA</td>\n",
       "      <td>0</td>\n",
       "      <td>1</td>\n",
       "      <td>1</td>\n",
       "      <td>0</td>\n",
       "      <td>0</td>\n",
       "      <td>0</td>\n",
       "      <td>Yes</td>\n",
       "    </tr>\n",
       "  </tbody>\n",
       "</table>\n",
       "</div>"
      ],
      "text/plain": [
       "  Gender              ScheduledDay            AppointmentDay  Age  \\\n",
       "0      F 2016-04-29 18:38:08+00:00 2016-04-29 00:00:00+00:00   62   \n",
       "1      M 2016-04-29 16:08:27+00:00 2016-04-29 00:00:00+00:00   56   \n",
       "2      F 2016-04-29 16:19:04+00:00 2016-04-29 00:00:00+00:00   62   \n",
       "3      F 2016-04-29 17:29:31+00:00 2016-04-29 00:00:00+00:00    8   \n",
       "4      F 2016-04-29 16:07:23+00:00 2016-04-29 00:00:00+00:00   56   \n",
       "\n",
       "       Neighbourhood  Scholarship  Hypertension  Diabetes  Alcoholism  \\\n",
       "0    JARDIM DA PENHA            0             1         0           0   \n",
       "1    JARDIM DA PENHA            0             0         0           0   \n",
       "2      MATA DA PRAIA            0             0         0           0   \n",
       "3  PONTAL DE CAMBURI            0             0         0           0   \n",
       "4    JARDIM DA PENHA            0             1         1           0   \n",
       "\n",
       "   Handicapped  SMS_received Showed_up_for_appointment  \n",
       "0            0             0                       Yes  \n",
       "1            0             0                       Yes  \n",
       "2            0             0                       Yes  \n",
       "3            0             0                       Yes  \n",
       "4            0             0                       Yes  "
      ]
     },
     "execution_count": 33,
     "metadata": {},
     "output_type": "execute_result"
    }
   ],
   "source": [
    "df.head()"
   ]
  },
  {
   "cell_type": "markdown",
   "metadata": {},
   "source": [
    "You can now see that the`No-show` column has been renamed to `Showed_up_for_appointment`. In addition, those who showed up for appointment are being indicated by `Yes` and those who didn't indicated by `No`. All the other renamed columns can also been confirmed from above.\n",
    "\n",
    "This is easier to understand. We can then proceed."
   ]
  },
  {
   "cell_type": "markdown",
   "metadata": {},
   "source": [
    "##### To get the sex distribution of the patients."
   ]
  },
  {
   "cell_type": "code",
   "execution_count": 34,
   "metadata": {},
   "outputs": [
    {
     "data": {
      "text/plain": [
       "F    71840\n",
       "M    38687\n",
       "Name: Gender, dtype: int64"
      ]
     },
     "execution_count": 34,
     "metadata": {},
     "output_type": "execute_result"
    }
   ],
   "source": [
    "df.Gender.value_counts()"
   ]
  },
  {
   "cell_type": "markdown",
   "metadata": {},
   "source": [
    "The results show there are 65% (71, 840) female patients while 35% (38, 687) are males. \n",
    "\n",
    "We can pass the optional argument `normalize=True` to the `value_counts` function if we want to see the proportions of the total for each `Gender`."
   ]
  },
  {
   "cell_type": "markdown",
   "metadata": {},
   "source": [
    "\n",
    "### Data Cleaning\n",
    " "
   ]
  },
  {
   "cell_type": "markdown",
   "metadata": {},
   "source": [
    "##### Identify unique values in each column\n",
    "This will give us a good idea of the uniqueness of the data entries. We shall write a function to carry out this task. "
   ]
  },
  {
   "cell_type": "code",
   "execution_count": 36,
   "metadata": {},
   "outputs": [],
   "source": [
    "def unique_val():\n",
    "    print(f\"Unique Values in Gender column: {df.Gender.unique()}\")\n",
    "    print(f\"Unique Values in Scholarship column: {df.Scholarship.unique()}\")\n",
    "    print(\"+++++\" * 20) # This line is used to separate the output for easier reading.\n",
    "    print(f\"Unique Values in Hypertension column: {df.Hypertension.unique()}\")\n",
    "    print(f\"Unique Values in Diabetes column: {df.Diabetes.unique()}\")\n",
    "    print(\"+++++\" * 20) # This line is used to separate the output for easier reading.\n",
    "    print(f\"Unique Values in Alcololism column: {df.Alcoholism.unique()}\")\n",
    "    print(f\"Unique Values in Handicapped column: {df.Handicapped.unique()}\")\n",
    "    print(\"+++++\" * 20) # This line is used to separate the output for easier reading.\n",
    "    print(f\"Unique Values in SMS_recieved column: {df.SMS_received.unique()}\")\n",
    "    print(f\"Unique Values in Showed_up_for_appointment column: {df.Showed_up_for_appointment.unique()}\")\n",
    "    print(\"+++++\" * 20) # This line is used to separate the output for easier reading.\n",
    "    print(f\"Unique Values in Age column: {df.Age.unique()}\")"
   ]
  },
  {
   "cell_type": "markdown",
   "metadata": {},
   "source": [
    "We then call the `unique_val` function we just defined above."
   ]
  },
  {
   "cell_type": "code",
   "execution_count": 37,
   "metadata": {},
   "outputs": [
    {
     "name": "stdout",
     "output_type": "stream",
     "text": [
      "Unique Values in Gender column: ['F' 'M']\n",
      "Unique Values in Scholarship column: [0 1]\n",
      "++++++++++++++++++++++++++++++++++++++++++++++++++++++++++++++++++++++++++++++++++++++++++++++++++++\n",
      "Unique Values in Hypertension column: [1 0]\n",
      "Unique Values in Diabetes column: [0 1]\n",
      "++++++++++++++++++++++++++++++++++++++++++++++++++++++++++++++++++++++++++++++++++++++++++++++++++++\n",
      "Unique Values in Alcololism column: [0 1]\n",
      "Unique Values in Handicapped column: [0 1 2 3 4]\n",
      "++++++++++++++++++++++++++++++++++++++++++++++++++++++++++++++++++++++++++++++++++++++++++++++++++++\n",
      "Unique Values in SMS_recieved column: [0 1]\n",
      "Unique Values in Showed_up_for_appointment column: ['Yes' 'No']\n",
      "++++++++++++++++++++++++++++++++++++++++++++++++++++++++++++++++++++++++++++++++++++++++++++++++++++\n",
      "Unique Values in Age column: [ 62  56   8  76  23  39  21  19  30  29  22  28  54  15  50  40  46   4\n",
      "  13  65  45  51  32  12  61  38  79  18  63  64  85  59  55  71  49  78\n",
      "  31  58  27   6   2  11   7   0   3   1  69  68  60  67  36  10  35  20\n",
      "  26  34  33  16  42   5  47  17  41  44  37  24  66  77  81  70  53  75\n",
      "  73  52  74  43  89  57  14   9  48  83  72  25  80  87  88  84  82  90\n",
      "  94  86  91  98  92  96  93  95  97 102 115 100  99  -1]\n"
     ]
    }
   ],
   "source": [
    "unique_val() # Function call"
   ]
  },
  {
   "cell_type": "markdown",
   "metadata": {},
   "source": [
    "From the above output, after calling the function, we can see that `Handicapped` column has 4 unique entries while the others have 2 each, except for `Age` column.\n",
    "\n",
    "The `Age` column showed that there is a `-1` age. This is most unlikely to be true and may probably be an error. Before we decide on what to do, let's count the number of occurences of these values i.e. see how many patients have the entry of `-1` age."
   ]
  },
  {
   "cell_type": "markdown",
   "metadata": {},
   "source": [
    "##### Count the number of values in each column\n",
    "\n",
    "First we define a function for this and then call the function."
   ]
  },
  {
   "cell_type": "code",
   "execution_count": 38,
   "metadata": {},
   "outputs": [],
   "source": [
    "def value_counts():\n",
    "    print(df['Gender'].value_counts())\n",
    "    print(df['Scholarship'].value_counts())\n",
    "    print(\"+++++\" * 20) # This line is used to separate the output for easier reading.\n",
    "    print(df['Hypertension'].value_counts())\n",
    "    print(df['Diabetes'].value_counts())\n",
    "    print(\"+++++\" * 20) # This line is used to separate the output for easier reading.\n",
    "    print(df['Alcoholism'].value_counts())\n",
    "    print(df['Handicapped'].value_counts())\n",
    "    print(\"+++++\" * 20) # This line is used to separate the output for easier reading.\n",
    "    print(df['SMS_received'].value_counts())\n",
    "    print(df['Showed_up_for_appointment'].value_counts())\n",
    "    print(df['ScheduledDay'].value_counts())\n",
    "    print(\"+++++\" * 20) # This line is used to separate the output for easier reading.\n",
    "    print(df['Age'].value_counts())\n",
    "    print(df['AppointmentDay'].value_counts())\n",
    "    \n"
   ]
  },
  {
   "cell_type": "code",
   "execution_count": 39,
   "metadata": {},
   "outputs": [
    {
     "name": "stdout",
     "output_type": "stream",
     "text": [
      "F    71840\n",
      "M    38687\n",
      "Name: Gender, dtype: int64\n",
      "0    99666\n",
      "1    10861\n",
      "Name: Scholarship, dtype: int64\n",
      "++++++++++++++++++++++++++++++++++++++++++++++++++++++++++++++++++++++++++++++++++++++++++++++++++++\n",
      "0    88726\n",
      "1    21801\n",
      "Name: Hypertension, dtype: int64\n",
      "0    102584\n",
      "1      7943\n",
      "Name: Diabetes, dtype: int64\n",
      "++++++++++++++++++++++++++++++++++++++++++++++++++++++++++++++++++++++++++++++++++++++++++++++++++++\n",
      "0    107167\n",
      "1      3360\n",
      "Name: Alcoholism, dtype: int64\n",
      "0    108286\n",
      "1      2042\n",
      "2       183\n",
      "3        13\n",
      "4         3\n",
      "Name: Handicapped, dtype: int64\n",
      "++++++++++++++++++++++++++++++++++++++++++++++++++++++++++++++++++++++++++++++++++++++++++++++++++++\n",
      "0    75045\n",
      "1    35482\n",
      "Name: SMS_received, dtype: int64\n",
      "Yes    88208\n",
      "No     22319\n",
      "Name: Showed_up_for_appointment, dtype: int64\n",
      "2016-05-06 07:09:54+00:00    24\n",
      "2016-05-06 07:09:53+00:00    23\n",
      "2016-04-25 17:18:27+00:00    22\n",
      "2016-04-25 17:17:46+00:00    22\n",
      "2016-04-25 17:17:23+00:00    19\n",
      "                             ..\n",
      "2016-05-02 09:53:25+00:00     1\n",
      "2016-05-30 09:12:28+00:00     1\n",
      "2016-05-16 09:10:04+00:00     1\n",
      "2016-05-09 10:17:48+00:00     1\n",
      "2016-04-27 13:30:56+00:00     1\n",
      "Name: ScheduledDay, Length: 103549, dtype: int64\n",
      "++++++++++++++++++++++++++++++++++++++++++++++++++++++++++++++++++++++++++++++++++++++++++++++++++++\n",
      " 0      3539\n",
      " 1      2273\n",
      " 52     1746\n",
      " 49     1652\n",
      " 53     1651\n",
      "        ... \n",
      " 115       5\n",
      " 100       4\n",
      " 102       2\n",
      " 99        1\n",
      "-1         1\n",
      "Name: Age, Length: 104, dtype: int64\n",
      "2016-06-06 00:00:00+00:00    4692\n",
      "2016-05-16 00:00:00+00:00    4613\n",
      "2016-05-09 00:00:00+00:00    4520\n",
      "2016-05-30 00:00:00+00:00    4514\n",
      "2016-06-08 00:00:00+00:00    4479\n",
      "2016-05-11 00:00:00+00:00    4474\n",
      "2016-06-01 00:00:00+00:00    4464\n",
      "2016-06-07 00:00:00+00:00    4416\n",
      "2016-05-12 00:00:00+00:00    4394\n",
      "2016-05-02 00:00:00+00:00    4376\n",
      "2016-05-18 00:00:00+00:00    4373\n",
      "2016-05-17 00:00:00+00:00    4372\n",
      "2016-06-02 00:00:00+00:00    4310\n",
      "2016-05-10 00:00:00+00:00    4308\n",
      "2016-05-31 00:00:00+00:00    4279\n",
      "2016-05-05 00:00:00+00:00    4273\n",
      "2016-05-19 00:00:00+00:00    4270\n",
      "2016-05-03 00:00:00+00:00    4256\n",
      "2016-05-04 00:00:00+00:00    4168\n",
      "2016-06-03 00:00:00+00:00    4090\n",
      "2016-05-24 00:00:00+00:00    4009\n",
      "2016-05-13 00:00:00+00:00    3987\n",
      "2016-05-25 00:00:00+00:00    3909\n",
      "2016-05-06 00:00:00+00:00    3879\n",
      "2016-05-20 00:00:00+00:00    3828\n",
      "2016-04-29 00:00:00+00:00    3235\n",
      "2016-05-14 00:00:00+00:00      39\n",
      "Name: AppointmentDay, dtype: int64\n"
     ]
    }
   ],
   "source": [
    "value_counts()   # Function call"
   ]
  },
  {
   "cell_type": "markdown",
   "metadata": {},
   "source": [
    "##### Insights\n",
    "\n",
    "The following observations can be made from the result of the value count above.\n",
    "\n",
    "1. There are 71, 840 female patients and 38, 687 males.\n",
    "\n",
    "\n",
    "2. Amongst the patients, 99, 666 didn't enjoy Scholarship while 10, 861 have.\n",
    "\n",
    "\n",
    "3. 88, 726 patients didn't have Hypertension while 21, 801 have.\n",
    "\n",
    "\n",
    "4. 102, 584 patients didn't have Diabetes while 7, 943 have.\n",
    "\n",
    "\n",
    "5. 107, 167 patients didn't have alcoholism issue while 3, 360 have.\n",
    "\n",
    "\n",
    "6. From the introduction above, description of the `Handicapped` data column indicates that its a dichotomous variable with options of `True` or `False`. From the results of the count however, it can be seen that there are 2 extra entries that can't be accounted for:\n",
    "\n",
    "\n",
    "- 108, 286 patients aren't handicapped while 2, 042 patients are.\n",
    "\n",
    "\n",
    "- There are 199 other patients with \"abnormal/questionable/unexplained\" entries. We need to deal with this. This is done later in the analysis below.\n",
    "\n",
    "\n",
    "7. 35, 482 patients recieved SMS while 75, 045 patienst didn't.\n",
    "\n",
    "\n",
    "8. __88, 208 patients showed up for their appointments while 22, 319 patients didn't.__\n",
    "\n",
    "\n",
    "9. Most patients scheduled their appointments on 2016-05-06.\n",
    "\n",
    "\n",
    "10. Only 1 patient had the age of `-1`. We can decide to drop this from the dataset since its negligible. Only five people had their age entries as 115, we can decide to leave it. 3539 patients had ages indicated as `0`. This count is too numerous to be a error in entry, hence we can decide to leave it and assume this represents infant patients less than 1 year old. \n",
    "\n",
    "\n",
    "11. The most hospital appointment was on 2016-06-06 while the least was on 2016-05-14\n"
   ]
  },
  {
   "cell_type": "markdown",
   "metadata": {},
   "source": [
    "Let us further explore the age column and focus on those patients whose age is less than or equal 0"
   ]
  },
  {
   "cell_type": "code",
   "execution_count": 40,
   "metadata": {},
   "outputs": [
    {
     "data": {
      "text/html": [
       "<div>\n",
       "<style scoped>\n",
       "    .dataframe tbody tr th:only-of-type {\n",
       "        vertical-align: middle;\n",
       "    }\n",
       "\n",
       "    .dataframe tbody tr th {\n",
       "        vertical-align: top;\n",
       "    }\n",
       "\n",
       "    .dataframe thead th {\n",
       "        text-align: right;\n",
       "    }\n",
       "</style>\n",
       "<table border=\"1\" class=\"dataframe\">\n",
       "  <thead>\n",
       "    <tr style=\"text-align: right;\">\n",
       "      <th></th>\n",
       "      <th>Gender</th>\n",
       "      <th>ScheduledDay</th>\n",
       "      <th>AppointmentDay</th>\n",
       "      <th>Age</th>\n",
       "      <th>Neighbourhood</th>\n",
       "      <th>Scholarship</th>\n",
       "      <th>Hypertension</th>\n",
       "      <th>Diabetes</th>\n",
       "      <th>Alcoholism</th>\n",
       "      <th>Handicapped</th>\n",
       "      <th>SMS_received</th>\n",
       "      <th>Showed_up_for_appointment</th>\n",
       "    </tr>\n",
       "  </thead>\n",
       "  <tbody>\n",
       "    <tr>\n",
       "      <th>99832</th>\n",
       "      <td>F</td>\n",
       "      <td>2016-06-06 08:58:13+00:00</td>\n",
       "      <td>2016-06-06 00:00:00+00:00</td>\n",
       "      <td>-1</td>\n",
       "      <td>ROMÃO</td>\n",
       "      <td>0</td>\n",
       "      <td>0</td>\n",
       "      <td>0</td>\n",
       "      <td>0</td>\n",
       "      <td>0</td>\n",
       "      <td>0</td>\n",
       "      <td>Yes</td>\n",
       "    </tr>\n",
       "  </tbody>\n",
       "</table>\n",
       "</div>"
      ],
      "text/plain": [
       "      Gender              ScheduledDay            AppointmentDay  Age  \\\n",
       "99832      F 2016-06-06 08:58:13+00:00 2016-06-06 00:00:00+00:00   -1   \n",
       "\n",
       "      Neighbourhood  Scholarship  Hypertension  Diabetes  Alcoholism  \\\n",
       "99832         ROMÃO            0             0         0           0   \n",
       "\n",
       "       Handicapped  SMS_received Showed_up_for_appointment  \n",
       "99832            0             0                       Yes  "
      ]
     },
     "execution_count": 40,
     "metadata": {},
     "output_type": "execute_result"
    }
   ],
   "source": [
    "df[df[\"Age\"] < 0] # To get the dataframe of patients whose age is -1"
   ]
  },
  {
   "cell_type": "markdown",
   "metadata": {},
   "source": [
    "From the above result, only a female patient with `AppointmentID` of `5775010` and `PatientID` of `4.659432e+14` had her age entry as `-1`. She also came for her appointment on `2016-06-06`.\n",
    "\n",
    "If we decide to drop this patient, it won't do our dataset much harm since its just 1 out of 110, 527 entries. We shall wait to see what to do."
   ]
  },
  {
   "cell_type": "markdown",
   "metadata": {},
   "source": [
    "Next let us examine the patients who have ages less than or equal to zero."
   ]
  },
  {
   "cell_type": "code",
   "execution_count": 41,
   "metadata": {},
   "outputs": [
    {
     "data": {
      "text/html": [
       "<div>\n",
       "<style scoped>\n",
       "    .dataframe tbody tr th:only-of-type {\n",
       "        vertical-align: middle;\n",
       "    }\n",
       "\n",
       "    .dataframe tbody tr th {\n",
       "        vertical-align: top;\n",
       "    }\n",
       "\n",
       "    .dataframe thead th {\n",
       "        text-align: right;\n",
       "    }\n",
       "</style>\n",
       "<table border=\"1\" class=\"dataframe\">\n",
       "  <thead>\n",
       "    <tr style=\"text-align: right;\">\n",
       "      <th></th>\n",
       "      <th>Gender</th>\n",
       "      <th>ScheduledDay</th>\n",
       "      <th>AppointmentDay</th>\n",
       "      <th>Age</th>\n",
       "      <th>Neighbourhood</th>\n",
       "      <th>Scholarship</th>\n",
       "      <th>Hypertension</th>\n",
       "      <th>Diabetes</th>\n",
       "      <th>Alcoholism</th>\n",
       "      <th>Handicapped</th>\n",
       "      <th>SMS_received</th>\n",
       "      <th>Showed_up_for_appointment</th>\n",
       "    </tr>\n",
       "  </thead>\n",
       "  <tbody>\n",
       "    <tr>\n",
       "      <th>59</th>\n",
       "      <td>F</td>\n",
       "      <td>2016-04-29 08:08:43+00:00</td>\n",
       "      <td>2016-04-29 00:00:00+00:00</td>\n",
       "      <td>0</td>\n",
       "      <td>CONQUISTA</td>\n",
       "      <td>0</td>\n",
       "      <td>0</td>\n",
       "      <td>0</td>\n",
       "      <td>0</td>\n",
       "      <td>0</td>\n",
       "      <td>0</td>\n",
       "      <td>Yes</td>\n",
       "    </tr>\n",
       "    <tr>\n",
       "      <th>63</th>\n",
       "      <td>M</td>\n",
       "      <td>2016-04-27 10:46:12+00:00</td>\n",
       "      <td>2016-04-29 00:00:00+00:00</td>\n",
       "      <td>0</td>\n",
       "      <td>SÃO BENEDITO</td>\n",
       "      <td>0</td>\n",
       "      <td>0</td>\n",
       "      <td>0</td>\n",
       "      <td>0</td>\n",
       "      <td>0</td>\n",
       "      <td>0</td>\n",
       "      <td>Yes</td>\n",
       "    </tr>\n",
       "    <tr>\n",
       "      <th>64</th>\n",
       "      <td>M</td>\n",
       "      <td>2016-04-25 13:28:21+00:00</td>\n",
       "      <td>2016-04-29 00:00:00+00:00</td>\n",
       "      <td>0</td>\n",
       "      <td>ILHA DAS CAIEIRAS</td>\n",
       "      <td>0</td>\n",
       "      <td>0</td>\n",
       "      <td>0</td>\n",
       "      <td>0</td>\n",
       "      <td>0</td>\n",
       "      <td>1</td>\n",
       "      <td>Yes</td>\n",
       "    </tr>\n",
       "    <tr>\n",
       "      <th>65</th>\n",
       "      <td>M</td>\n",
       "      <td>2016-04-27 10:48:50+00:00</td>\n",
       "      <td>2016-04-29 00:00:00+00:00</td>\n",
       "      <td>0</td>\n",
       "      <td>CONQUISTA</td>\n",
       "      <td>0</td>\n",
       "      <td>0</td>\n",
       "      <td>0</td>\n",
       "      <td>0</td>\n",
       "      <td>0</td>\n",
       "      <td>0</td>\n",
       "      <td>Yes</td>\n",
       "    </tr>\n",
       "    <tr>\n",
       "      <th>67</th>\n",
       "      <td>F</td>\n",
       "      <td>2016-04-29 08:53:02+00:00</td>\n",
       "      <td>2016-04-29 00:00:00+00:00</td>\n",
       "      <td>0</td>\n",
       "      <td>NOVA PALESTINA</td>\n",
       "      <td>0</td>\n",
       "      <td>0</td>\n",
       "      <td>0</td>\n",
       "      <td>0</td>\n",
       "      <td>0</td>\n",
       "      <td>0</td>\n",
       "      <td>Yes</td>\n",
       "    </tr>\n",
       "    <tr>\n",
       "      <th>...</th>\n",
       "      <td>...</td>\n",
       "      <td>...</td>\n",
       "      <td>...</td>\n",
       "      <td>...</td>\n",
       "      <td>...</td>\n",
       "      <td>...</td>\n",
       "      <td>...</td>\n",
       "      <td>...</td>\n",
       "      <td>...</td>\n",
       "      <td>...</td>\n",
       "      <td>...</td>\n",
       "      <td>...</td>\n",
       "    </tr>\n",
       "    <tr>\n",
       "      <th>110345</th>\n",
       "      <td>F</td>\n",
       "      <td>2016-05-16 12:30:58+00:00</td>\n",
       "      <td>2016-06-01 00:00:00+00:00</td>\n",
       "      <td>0</td>\n",
       "      <td>RESISTÊNCIA</td>\n",
       "      <td>0</td>\n",
       "      <td>0</td>\n",
       "      <td>0</td>\n",
       "      <td>0</td>\n",
       "      <td>0</td>\n",
       "      <td>0</td>\n",
       "      <td>Yes</td>\n",
       "    </tr>\n",
       "    <tr>\n",
       "      <th>110346</th>\n",
       "      <td>M</td>\n",
       "      <td>2016-06-06 14:22:34+00:00</td>\n",
       "      <td>2016-06-08 00:00:00+00:00</td>\n",
       "      <td>0</td>\n",
       "      <td>RESISTÊNCIA</td>\n",
       "      <td>0</td>\n",
       "      <td>0</td>\n",
       "      <td>0</td>\n",
       "      <td>0</td>\n",
       "      <td>0</td>\n",
       "      <td>0</td>\n",
       "      <td>Yes</td>\n",
       "    </tr>\n",
       "    <tr>\n",
       "      <th>110454</th>\n",
       "      <td>F</td>\n",
       "      <td>2016-06-03 15:18:44+00:00</td>\n",
       "      <td>2016-06-03 00:00:00+00:00</td>\n",
       "      <td>0</td>\n",
       "      <td>RESISTÊNCIA</td>\n",
       "      <td>0</td>\n",
       "      <td>0</td>\n",
       "      <td>0</td>\n",
       "      <td>0</td>\n",
       "      <td>0</td>\n",
       "      <td>0</td>\n",
       "      <td>Yes</td>\n",
       "    </tr>\n",
       "    <tr>\n",
       "      <th>110460</th>\n",
       "      <td>F</td>\n",
       "      <td>2016-06-03 08:56:51+00:00</td>\n",
       "      <td>2016-06-03 00:00:00+00:00</td>\n",
       "      <td>0</td>\n",
       "      <td>RESISTÊNCIA</td>\n",
       "      <td>0</td>\n",
       "      <td>0</td>\n",
       "      <td>0</td>\n",
       "      <td>0</td>\n",
       "      <td>0</td>\n",
       "      <td>0</td>\n",
       "      <td>Yes</td>\n",
       "    </tr>\n",
       "    <tr>\n",
       "      <th>110507</th>\n",
       "      <td>F</td>\n",
       "      <td>2016-06-08 09:04:18+00:00</td>\n",
       "      <td>2016-06-08 00:00:00+00:00</td>\n",
       "      <td>0</td>\n",
       "      <td>MARIA ORTIZ</td>\n",
       "      <td>0</td>\n",
       "      <td>0</td>\n",
       "      <td>0</td>\n",
       "      <td>0</td>\n",
       "      <td>0</td>\n",
       "      <td>0</td>\n",
       "      <td>Yes</td>\n",
       "    </tr>\n",
       "  </tbody>\n",
       "</table>\n",
       "<p>3540 rows × 12 columns</p>\n",
       "</div>"
      ],
      "text/plain": [
       "       Gender              ScheduledDay            AppointmentDay  Age  \\\n",
       "59          F 2016-04-29 08:08:43+00:00 2016-04-29 00:00:00+00:00    0   \n",
       "63          M 2016-04-27 10:46:12+00:00 2016-04-29 00:00:00+00:00    0   \n",
       "64          M 2016-04-25 13:28:21+00:00 2016-04-29 00:00:00+00:00    0   \n",
       "65          M 2016-04-27 10:48:50+00:00 2016-04-29 00:00:00+00:00    0   \n",
       "67          F 2016-04-29 08:53:02+00:00 2016-04-29 00:00:00+00:00    0   \n",
       "...       ...                       ...                       ...  ...   \n",
       "110345      F 2016-05-16 12:30:58+00:00 2016-06-01 00:00:00+00:00    0   \n",
       "110346      M 2016-06-06 14:22:34+00:00 2016-06-08 00:00:00+00:00    0   \n",
       "110454      F 2016-06-03 15:18:44+00:00 2016-06-03 00:00:00+00:00    0   \n",
       "110460      F 2016-06-03 08:56:51+00:00 2016-06-03 00:00:00+00:00    0   \n",
       "110507      F 2016-06-08 09:04:18+00:00 2016-06-08 00:00:00+00:00    0   \n",
       "\n",
       "            Neighbourhood  Scholarship  Hypertension  Diabetes  Alcoholism  \\\n",
       "59              CONQUISTA            0             0         0           0   \n",
       "63           SÃO BENEDITO            0             0         0           0   \n",
       "64      ILHA DAS CAIEIRAS            0             0         0           0   \n",
       "65              CONQUISTA            0             0         0           0   \n",
       "67         NOVA PALESTINA            0             0         0           0   \n",
       "...                   ...          ...           ...       ...         ...   \n",
       "110345        RESISTÊNCIA            0             0         0           0   \n",
       "110346        RESISTÊNCIA            0             0         0           0   \n",
       "110454        RESISTÊNCIA            0             0         0           0   \n",
       "110460        RESISTÊNCIA            0             0         0           0   \n",
       "110507        MARIA ORTIZ            0             0         0           0   \n",
       "\n",
       "        Handicapped  SMS_received Showed_up_for_appointment  \n",
       "59                0             0                       Yes  \n",
       "63                0             0                       Yes  \n",
       "64                0             1                       Yes  \n",
       "65                0             0                       Yes  \n",
       "67                0             0                       Yes  \n",
       "...             ...           ...                       ...  \n",
       "110345            0             0                       Yes  \n",
       "110346            0             0                       Yes  \n",
       "110454            0             0                       Yes  \n",
       "110460            0             0                       Yes  \n",
       "110507            0             0                       Yes  \n",
       "\n",
       "[3540 rows x 12 columns]"
      ]
     },
     "execution_count": 41,
     "metadata": {},
     "output_type": "execute_result"
    }
   ],
   "source": [
    "df[df[\"Age\"] <= 0] # To get the dataframe of patients whose age is less than or equal to 0"
   ]
  },
  {
   "cell_type": "markdown",
   "metadata": {},
   "source": [
    "From the above result it is obvious that 3539 patients had age entries of zero since only one patient from above had age entry of -1."
   ]
  },
  {
   "cell_type": "markdown",
   "metadata": {},
   "source": [
    "###### Dropping the Age of -1 entry in the dataset"
   ]
  },
  {
   "cell_type": "code",
   "execution_count": 42,
   "metadata": {},
   "outputs": [],
   "source": [
    "#df.drop('5775010',inplace=True)"
   ]
  },
  {
   "cell_type": "markdown",
   "metadata": {},
   "source": [
    "The above command can be used to drop the abnormal entry of `-1` by using the `AppointmentID`. However remember that I have dropped the AppointmentID column.\n",
    "\n",
    "We shall therefore use the below command to achiev themsame result."
   ]
  },
  {
   "cell_type": "code",
   "execution_count": 43,
   "metadata": {},
   "outputs": [],
   "source": [
    "df = df[df.Age >= 0]  \n",
    "\n",
    "# Another command to drop the `-1` Age from the dataset. \n",
    "# This doesn't need the use of AppointmentID in case it has been removed earlier."
   ]
  },
  {
   "cell_type": "markdown",
   "metadata": {},
   "source": [
    "Now let's confirm if we were successful with the above command by running the code below."
   ]
  },
  {
   "cell_type": "code",
   "execution_count": 44,
   "metadata": {},
   "outputs": [
    {
     "data": {
      "text/html": [
       "<div>\n",
       "<style scoped>\n",
       "    .dataframe tbody tr th:only-of-type {\n",
       "        vertical-align: middle;\n",
       "    }\n",
       "\n",
       "    .dataframe tbody tr th {\n",
       "        vertical-align: top;\n",
       "    }\n",
       "\n",
       "    .dataframe thead th {\n",
       "        text-align: right;\n",
       "    }\n",
       "</style>\n",
       "<table border=\"1\" class=\"dataframe\">\n",
       "  <thead>\n",
       "    <tr style=\"text-align: right;\">\n",
       "      <th></th>\n",
       "      <th>Gender</th>\n",
       "      <th>ScheduledDay</th>\n",
       "      <th>AppointmentDay</th>\n",
       "      <th>Age</th>\n",
       "      <th>Neighbourhood</th>\n",
       "      <th>Scholarship</th>\n",
       "      <th>Hypertension</th>\n",
       "      <th>Diabetes</th>\n",
       "      <th>Alcoholism</th>\n",
       "      <th>Handicapped</th>\n",
       "      <th>SMS_received</th>\n",
       "      <th>Showed_up_for_appointment</th>\n",
       "    </tr>\n",
       "  </thead>\n",
       "  <tbody>\n",
       "  </tbody>\n",
       "</table>\n",
       "</div>"
      ],
      "text/plain": [
       "Empty DataFrame\n",
       "Columns: [Gender, ScheduledDay, AppointmentDay, Age, Neighbourhood, Scholarship, Hypertension, Diabetes, Alcoholism, Handicapped, SMS_received, Showed_up_for_appointment]\n",
       "Index: []"
      ]
     },
     "execution_count": 44,
     "metadata": {},
     "output_type": "execute_result"
    }
   ],
   "source": [
    "df[df[\"Age\"] < 0] # To get the dataframe of patients whose age is -1"
   ]
  },
  {
   "cell_type": "markdown",
   "metadata": {},
   "source": [
    "Yes we were !!! The age of `-1` no longer exists."
   ]
  },
  {
   "cell_type": "markdown",
   "metadata": {},
   "source": [
    "##### Handicapped Error Handling"
   ]
  },
  {
   "cell_type": "code",
   "execution_count": 45,
   "metadata": {},
   "outputs": [
    {
     "data": {
      "text/plain": [
       "199"
      ]
     },
     "execution_count": 45,
     "metadata": {},
     "output_type": "execute_result"
    }
   ],
   "source": [
    "(df[\"Handicapped\"] >=2).sum()"
   ]
  },
  {
   "cell_type": "markdown",
   "metadata": {},
   "source": [
    "The above result shows that 199 patients had Handicapped values of equal to or greater then 2: either 2, 3, 04 r as shown in our analysis of unique values above.\n",
    "\n",
    "Now let us subset the DataFrame of these entries."
   ]
  },
  {
   "cell_type": "code",
   "execution_count": 46,
   "metadata": {},
   "outputs": [
    {
     "data": {
      "text/html": [
       "<div>\n",
       "<style scoped>\n",
       "    .dataframe tbody tr th:only-of-type {\n",
       "        vertical-align: middle;\n",
       "    }\n",
       "\n",
       "    .dataframe tbody tr th {\n",
       "        vertical-align: top;\n",
       "    }\n",
       "\n",
       "    .dataframe thead th {\n",
       "        text-align: right;\n",
       "    }\n",
       "</style>\n",
       "<table border=\"1\" class=\"dataframe\">\n",
       "  <thead>\n",
       "    <tr style=\"text-align: right;\">\n",
       "      <th></th>\n",
       "      <th>Gender</th>\n",
       "      <th>ScheduledDay</th>\n",
       "      <th>AppointmentDay</th>\n",
       "      <th>Age</th>\n",
       "      <th>Neighbourhood</th>\n",
       "      <th>Scholarship</th>\n",
       "      <th>Hypertension</th>\n",
       "      <th>Diabetes</th>\n",
       "      <th>Alcoholism</th>\n",
       "      <th>Handicapped</th>\n",
       "      <th>SMS_received</th>\n",
       "      <th>Showed_up_for_appointment</th>\n",
       "    </tr>\n",
       "  </thead>\n",
       "  <tbody>\n",
       "    <tr>\n",
       "      <th>946</th>\n",
       "      <td>M</td>\n",
       "      <td>2016-04-14 09:26:08+00:00</td>\n",
       "      <td>2016-04-29 00:00:00+00:00</td>\n",
       "      <td>94</td>\n",
       "      <td>BELA VISTA</td>\n",
       "      <td>0</td>\n",
       "      <td>1</td>\n",
       "      <td>1</td>\n",
       "      <td>0</td>\n",
       "      <td>2</td>\n",
       "      <td>1</td>\n",
       "      <td>Yes</td>\n",
       "    </tr>\n",
       "    <tr>\n",
       "      <th>1665</th>\n",
       "      <td>M</td>\n",
       "      <td>2016-03-30 09:16:41+00:00</td>\n",
       "      <td>2016-04-29 00:00:00+00:00</td>\n",
       "      <td>64</td>\n",
       "      <td>SANTA MARTHA</td>\n",
       "      <td>0</td>\n",
       "      <td>1</td>\n",
       "      <td>0</td>\n",
       "      <td>1</td>\n",
       "      <td>2</td>\n",
       "      <td>1</td>\n",
       "      <td>Yes</td>\n",
       "    </tr>\n",
       "    <tr>\n",
       "      <th>1666</th>\n",
       "      <td>M</td>\n",
       "      <td>2016-03-30 09:16:41+00:00</td>\n",
       "      <td>2016-04-29 00:00:00+00:00</td>\n",
       "      <td>64</td>\n",
       "      <td>SANTA MARTHA</td>\n",
       "      <td>0</td>\n",
       "      <td>1</td>\n",
       "      <td>0</td>\n",
       "      <td>1</td>\n",
       "      <td>2</td>\n",
       "      <td>0</td>\n",
       "      <td>Yes</td>\n",
       "    </tr>\n",
       "    <tr>\n",
       "      <th>2071</th>\n",
       "      <td>M</td>\n",
       "      <td>2016-04-29 10:08:48+00:00</td>\n",
       "      <td>2016-04-29 00:00:00+00:00</td>\n",
       "      <td>64</td>\n",
       "      <td>SANTA MARTHA</td>\n",
       "      <td>0</td>\n",
       "      <td>1</td>\n",
       "      <td>0</td>\n",
       "      <td>1</td>\n",
       "      <td>2</td>\n",
       "      <td>0</td>\n",
       "      <td>Yes</td>\n",
       "    </tr>\n",
       "    <tr>\n",
       "      <th>2091</th>\n",
       "      <td>F</td>\n",
       "      <td>2016-04-29 08:13:59+00:00</td>\n",
       "      <td>2016-04-29 00:00:00+00:00</td>\n",
       "      <td>11</td>\n",
       "      <td>ANDORINHAS</td>\n",
       "      <td>0</td>\n",
       "      <td>0</td>\n",
       "      <td>0</td>\n",
       "      <td>0</td>\n",
       "      <td>2</td>\n",
       "      <td>0</td>\n",
       "      <td>Yes</td>\n",
       "    </tr>\n",
       "    <tr>\n",
       "      <th>...</th>\n",
       "      <td>...</td>\n",
       "      <td>...</td>\n",
       "      <td>...</td>\n",
       "      <td>...</td>\n",
       "      <td>...</td>\n",
       "      <td>...</td>\n",
       "      <td>...</td>\n",
       "      <td>...</td>\n",
       "      <td>...</td>\n",
       "      <td>...</td>\n",
       "      <td>...</td>\n",
       "      <td>...</td>\n",
       "    </tr>\n",
       "    <tr>\n",
       "      <th>108376</th>\n",
       "      <td>F</td>\n",
       "      <td>2016-06-01 08:48:28+00:00</td>\n",
       "      <td>2016-06-07 00:00:00+00:00</td>\n",
       "      <td>44</td>\n",
       "      <td>ROMÃO</td>\n",
       "      <td>0</td>\n",
       "      <td>1</td>\n",
       "      <td>1</td>\n",
       "      <td>0</td>\n",
       "      <td>2</td>\n",
       "      <td>1</td>\n",
       "      <td>Yes</td>\n",
       "    </tr>\n",
       "    <tr>\n",
       "      <th>109484</th>\n",
       "      <td>M</td>\n",
       "      <td>2016-05-31 11:45:57+00:00</td>\n",
       "      <td>2016-06-02 00:00:00+00:00</td>\n",
       "      <td>64</td>\n",
       "      <td>DA PENHA</td>\n",
       "      <td>0</td>\n",
       "      <td>1</td>\n",
       "      <td>1</td>\n",
       "      <td>0</td>\n",
       "      <td>2</td>\n",
       "      <td>0</td>\n",
       "      <td>Yes</td>\n",
       "    </tr>\n",
       "    <tr>\n",
       "      <th>109733</th>\n",
       "      <td>F</td>\n",
       "      <td>2016-06-03 16:11:00+00:00</td>\n",
       "      <td>2016-06-07 00:00:00+00:00</td>\n",
       "      <td>34</td>\n",
       "      <td>JUCUTUQUARA</td>\n",
       "      <td>0</td>\n",
       "      <td>0</td>\n",
       "      <td>0</td>\n",
       "      <td>0</td>\n",
       "      <td>2</td>\n",
       "      <td>1</td>\n",
       "      <td>Yes</td>\n",
       "    </tr>\n",
       "    <tr>\n",
       "      <th>109975</th>\n",
       "      <td>M</td>\n",
       "      <td>2016-06-02 16:07:36+00:00</td>\n",
       "      <td>2016-06-06 00:00:00+00:00</td>\n",
       "      <td>39</td>\n",
       "      <td>PRAIA DO SUÁ</td>\n",
       "      <td>1</td>\n",
       "      <td>0</td>\n",
       "      <td>0</td>\n",
       "      <td>0</td>\n",
       "      <td>2</td>\n",
       "      <td>1</td>\n",
       "      <td>Yes</td>\n",
       "    </tr>\n",
       "    <tr>\n",
       "      <th>110107</th>\n",
       "      <td>F</td>\n",
       "      <td>2016-06-02 06:44:00+00:00</td>\n",
       "      <td>2016-06-06 00:00:00+00:00</td>\n",
       "      <td>44</td>\n",
       "      <td>RESISTÊNCIA</td>\n",
       "      <td>0</td>\n",
       "      <td>0</td>\n",
       "      <td>0</td>\n",
       "      <td>0</td>\n",
       "      <td>2</td>\n",
       "      <td>1</td>\n",
       "      <td>Yes</td>\n",
       "    </tr>\n",
       "  </tbody>\n",
       "</table>\n",
       "<p>199 rows × 12 columns</p>\n",
       "</div>"
      ],
      "text/plain": [
       "       Gender              ScheduledDay            AppointmentDay  Age  \\\n",
       "946         M 2016-04-14 09:26:08+00:00 2016-04-29 00:00:00+00:00   94   \n",
       "1665        M 2016-03-30 09:16:41+00:00 2016-04-29 00:00:00+00:00   64   \n",
       "1666        M 2016-03-30 09:16:41+00:00 2016-04-29 00:00:00+00:00   64   \n",
       "2071        M 2016-04-29 10:08:48+00:00 2016-04-29 00:00:00+00:00   64   \n",
       "2091        F 2016-04-29 08:13:59+00:00 2016-04-29 00:00:00+00:00   11   \n",
       "...       ...                       ...                       ...  ...   \n",
       "108376      F 2016-06-01 08:48:28+00:00 2016-06-07 00:00:00+00:00   44   \n",
       "109484      M 2016-05-31 11:45:57+00:00 2016-06-02 00:00:00+00:00   64   \n",
       "109733      F 2016-06-03 16:11:00+00:00 2016-06-07 00:00:00+00:00   34   \n",
       "109975      M 2016-06-02 16:07:36+00:00 2016-06-06 00:00:00+00:00   39   \n",
       "110107      F 2016-06-02 06:44:00+00:00 2016-06-06 00:00:00+00:00   44   \n",
       "\n",
       "       Neighbourhood  Scholarship  Hypertension  Diabetes  Alcoholism  \\\n",
       "946       BELA VISTA            0             1         1           0   \n",
       "1665    SANTA MARTHA            0             1         0           1   \n",
       "1666    SANTA MARTHA            0             1         0           1   \n",
       "2071    SANTA MARTHA            0             1         0           1   \n",
       "2091      ANDORINHAS            0             0         0           0   \n",
       "...              ...          ...           ...       ...         ...   \n",
       "108376         ROMÃO            0             1         1           0   \n",
       "109484      DA PENHA            0             1         1           0   \n",
       "109733   JUCUTUQUARA            0             0         0           0   \n",
       "109975  PRAIA DO SUÁ            1             0         0           0   \n",
       "110107   RESISTÊNCIA            0             0         0           0   \n",
       "\n",
       "        Handicapped  SMS_received Showed_up_for_appointment  \n",
       "946               2             1                       Yes  \n",
       "1665              2             1                       Yes  \n",
       "1666              2             0                       Yes  \n",
       "2071              2             0                       Yes  \n",
       "2091              2             0                       Yes  \n",
       "...             ...           ...                       ...  \n",
       "108376            2             1                       Yes  \n",
       "109484            2             0                       Yes  \n",
       "109733            2             1                       Yes  \n",
       "109975            2             1                       Yes  \n",
       "110107            2             1                       Yes  \n",
       "\n",
       "[199 rows x 12 columns]"
      ]
     },
     "execution_count": 46,
     "metadata": {},
     "output_type": "execute_result"
    }
   ],
   "source": [
    "df[df[\"Handicapped\"] >= 2] \n",
    "# To get the dataframe of patients whose Handicapped value is greater than or equal 2"
   ]
  },
  {
   "cell_type": "markdown",
   "metadata": {},
   "source": [
    "##### Now let us Delete this entries."
   ]
  },
  {
   "cell_type": "code",
   "execution_count": 47,
   "metadata": {},
   "outputs": [],
   "source": [
    "df = df[df.Handicapped < 2]"
   ]
  },
  {
   "cell_type": "markdown",
   "metadata": {},
   "source": [
    "Then check to see if our operation was successful"
   ]
  },
  {
   "cell_type": "code",
   "execution_count": 48,
   "metadata": {},
   "outputs": [
    {
     "data": {
      "text/plain": [
       "0"
      ]
     },
     "execution_count": 48,
     "metadata": {},
     "output_type": "execute_result"
    }
   ],
   "source": [
    "(df[\"Handicapped\"] >=2).sum()"
   ]
  },
  {
   "cell_type": "markdown",
   "metadata": {},
   "source": [
    "This returned zero indicating that the command was usccessful."
   ]
  },
  {
   "cell_type": "markdown",
   "metadata": {},
   "source": [
    "##### To know the dates covered by the scheduled and appointment registers\n",
    "\n",
    "We shall do this by sorting out the respective dates."
   ]
  },
  {
   "cell_type": "code",
   "execution_count": 49,
   "metadata": {},
   "outputs": [
    {
     "data": {
      "text/plain": [
       "array([Timestamp('2015-11-10 07:13:56+0000', tz='UTC'),\n",
       "       Timestamp('2015-12-03 08:17:28+0000', tz='UTC'),\n",
       "       Timestamp('2015-12-07 10:40:59+0000', tz='UTC'), ...,\n",
       "       Timestamp('2016-06-08 19:33:23+0000', tz='UTC'),\n",
       "       Timestamp('2016-06-08 19:58:52+0000', tz='UTC'),\n",
       "       Timestamp('2016-06-08 20:07:23+0000', tz='UTC')], dtype=object)"
      ]
     },
     "execution_count": 49,
     "metadata": {},
     "output_type": "execute_result"
    }
   ],
   "source": [
    "np.sort(df['ScheduledDay'])"
   ]
  },
  {
   "cell_type": "markdown",
   "metadata": {},
   "source": [
    "From the above output, it can be seen that the patients scheduled their hospital appointments between `2015-11-10` and `2016-06-08`"
   ]
  },
  {
   "cell_type": "code",
   "execution_count": 50,
   "metadata": {},
   "outputs": [
    {
     "data": {
      "text/plain": [
       "array([Timestamp('2016-04-29 00:00:00+0000', tz='UTC'),\n",
       "       Timestamp('2016-04-29 00:00:00+0000', tz='UTC'),\n",
       "       Timestamp('2016-04-29 00:00:00+0000', tz='UTC'), ...,\n",
       "       Timestamp('2016-06-08 00:00:00+0000', tz='UTC'),\n",
       "       Timestamp('2016-06-08 00:00:00+0000', tz='UTC'),\n",
       "       Timestamp('2016-06-08 00:00:00+0000', tz='UTC')], dtype=object)"
      ]
     },
     "execution_count": 50,
     "metadata": {},
     "output_type": "execute_result"
    }
   ],
   "source": [
    "np.sort(df['AppointmentDay'])"
   ]
  },
  {
   "cell_type": "markdown",
   "metadata": {},
   "source": [
    "From the above output, it can be seen that the patients had their hospital appointments between `2016-04-29` and `2016-06-08`."
   ]
  },
  {
   "cell_type": "markdown",
   "metadata": {},
   "source": [
    "##### To know time interval/difference between when the patient scheduled an appointment and when he had the appointment\n",
    "\n",
    "I shall name and create a new variable on the dataset, called `Delay_time`. This will indicate the time spent between when the patient scheduled an appointment and when the actual appointment took place."
   ]
  },
  {
   "cell_type": "code",
   "execution_count": 51,
   "metadata": {},
   "outputs": [],
   "source": [
    "df[\"Delay_time\"] = df[\"AppointmentDay\"] - df[\"ScheduledDay\"]"
   ]
  },
  {
   "cell_type": "code",
   "execution_count": 52,
   "metadata": {},
   "outputs": [
    {
     "data": {
      "text/html": [
       "<div>\n",
       "<style scoped>\n",
       "    .dataframe tbody tr th:only-of-type {\n",
       "        vertical-align: middle;\n",
       "    }\n",
       "\n",
       "    .dataframe tbody tr th {\n",
       "        vertical-align: top;\n",
       "    }\n",
       "\n",
       "    .dataframe thead th {\n",
       "        text-align: right;\n",
       "    }\n",
       "</style>\n",
       "<table border=\"1\" class=\"dataframe\">\n",
       "  <thead>\n",
       "    <tr style=\"text-align: right;\">\n",
       "      <th></th>\n",
       "      <th>Gender</th>\n",
       "      <th>ScheduledDay</th>\n",
       "      <th>AppointmentDay</th>\n",
       "      <th>Age</th>\n",
       "      <th>Neighbourhood</th>\n",
       "      <th>Scholarship</th>\n",
       "      <th>Hypertension</th>\n",
       "      <th>Diabetes</th>\n",
       "      <th>Alcoholism</th>\n",
       "      <th>Handicapped</th>\n",
       "      <th>SMS_received</th>\n",
       "      <th>Showed_up_for_appointment</th>\n",
       "      <th>Delay_time</th>\n",
       "    </tr>\n",
       "  </thead>\n",
       "  <tbody>\n",
       "    <tr>\n",
       "      <th>0</th>\n",
       "      <td>F</td>\n",
       "      <td>2016-04-29 18:38:08+00:00</td>\n",
       "      <td>2016-04-29 00:00:00+00:00</td>\n",
       "      <td>62</td>\n",
       "      <td>JARDIM DA PENHA</td>\n",
       "      <td>0</td>\n",
       "      <td>1</td>\n",
       "      <td>0</td>\n",
       "      <td>0</td>\n",
       "      <td>0</td>\n",
       "      <td>0</td>\n",
       "      <td>Yes</td>\n",
       "      <td>-1 days +05:21:52</td>\n",
       "    </tr>\n",
       "    <tr>\n",
       "      <th>1</th>\n",
       "      <td>M</td>\n",
       "      <td>2016-04-29 16:08:27+00:00</td>\n",
       "      <td>2016-04-29 00:00:00+00:00</td>\n",
       "      <td>56</td>\n",
       "      <td>JARDIM DA PENHA</td>\n",
       "      <td>0</td>\n",
       "      <td>0</td>\n",
       "      <td>0</td>\n",
       "      <td>0</td>\n",
       "      <td>0</td>\n",
       "      <td>0</td>\n",
       "      <td>Yes</td>\n",
       "      <td>-1 days +07:51:33</td>\n",
       "    </tr>\n",
       "    <tr>\n",
       "      <th>2</th>\n",
       "      <td>F</td>\n",
       "      <td>2016-04-29 16:19:04+00:00</td>\n",
       "      <td>2016-04-29 00:00:00+00:00</td>\n",
       "      <td>62</td>\n",
       "      <td>MATA DA PRAIA</td>\n",
       "      <td>0</td>\n",
       "      <td>0</td>\n",
       "      <td>0</td>\n",
       "      <td>0</td>\n",
       "      <td>0</td>\n",
       "      <td>0</td>\n",
       "      <td>Yes</td>\n",
       "      <td>-1 days +07:40:56</td>\n",
       "    </tr>\n",
       "    <tr>\n",
       "      <th>3</th>\n",
       "      <td>F</td>\n",
       "      <td>2016-04-29 17:29:31+00:00</td>\n",
       "      <td>2016-04-29 00:00:00+00:00</td>\n",
       "      <td>8</td>\n",
       "      <td>PONTAL DE CAMBURI</td>\n",
       "      <td>0</td>\n",
       "      <td>0</td>\n",
       "      <td>0</td>\n",
       "      <td>0</td>\n",
       "      <td>0</td>\n",
       "      <td>0</td>\n",
       "      <td>Yes</td>\n",
       "      <td>-1 days +06:30:29</td>\n",
       "    </tr>\n",
       "    <tr>\n",
       "      <th>4</th>\n",
       "      <td>F</td>\n",
       "      <td>2016-04-29 16:07:23+00:00</td>\n",
       "      <td>2016-04-29 00:00:00+00:00</td>\n",
       "      <td>56</td>\n",
       "      <td>JARDIM DA PENHA</td>\n",
       "      <td>0</td>\n",
       "      <td>1</td>\n",
       "      <td>1</td>\n",
       "      <td>0</td>\n",
       "      <td>0</td>\n",
       "      <td>0</td>\n",
       "      <td>Yes</td>\n",
       "      <td>-1 days +07:52:37</td>\n",
       "    </tr>\n",
       "  </tbody>\n",
       "</table>\n",
       "</div>"
      ],
      "text/plain": [
       "  Gender              ScheduledDay            AppointmentDay  Age  \\\n",
       "0      F 2016-04-29 18:38:08+00:00 2016-04-29 00:00:00+00:00   62   \n",
       "1      M 2016-04-29 16:08:27+00:00 2016-04-29 00:00:00+00:00   56   \n",
       "2      F 2016-04-29 16:19:04+00:00 2016-04-29 00:00:00+00:00   62   \n",
       "3      F 2016-04-29 17:29:31+00:00 2016-04-29 00:00:00+00:00    8   \n",
       "4      F 2016-04-29 16:07:23+00:00 2016-04-29 00:00:00+00:00   56   \n",
       "\n",
       "       Neighbourhood  Scholarship  Hypertension  Diabetes  Alcoholism  \\\n",
       "0    JARDIM DA PENHA            0             1         0           0   \n",
       "1    JARDIM DA PENHA            0             0         0           0   \n",
       "2      MATA DA PRAIA            0             0         0           0   \n",
       "3  PONTAL DE CAMBURI            0             0         0           0   \n",
       "4    JARDIM DA PENHA            0             1         1           0   \n",
       "\n",
       "   Handicapped  SMS_received Showed_up_for_appointment        Delay_time  \n",
       "0            0             0                       Yes -1 days +05:21:52  \n",
       "1            0             0                       Yes -1 days +07:51:33  \n",
       "2            0             0                       Yes -1 days +07:40:56  \n",
       "3            0             0                       Yes -1 days +06:30:29  \n",
       "4            0             0                       Yes -1 days +07:52:37  "
      ]
     },
     "execution_count": 52,
     "metadata": {},
     "output_type": "execute_result"
    }
   ],
   "source": [
    "df.head()"
   ]
  },
  {
   "cell_type": "code",
   "execution_count": 53,
   "metadata": {},
   "outputs": [
    {
     "data": {
      "text/html": [
       "<div>\n",
       "<style scoped>\n",
       "    .dataframe tbody tr th:only-of-type {\n",
       "        vertical-align: middle;\n",
       "    }\n",
       "\n",
       "    .dataframe tbody tr th {\n",
       "        vertical-align: top;\n",
       "    }\n",
       "\n",
       "    .dataframe thead th {\n",
       "        text-align: right;\n",
       "    }\n",
       "</style>\n",
       "<table border=\"1\" class=\"dataframe\">\n",
       "  <thead>\n",
       "    <tr style=\"text-align: right;\">\n",
       "      <th></th>\n",
       "      <th>Gender</th>\n",
       "      <th>ScheduledDay</th>\n",
       "      <th>AppointmentDay</th>\n",
       "      <th>Age</th>\n",
       "      <th>Neighbourhood</th>\n",
       "      <th>Scholarship</th>\n",
       "      <th>Hypertension</th>\n",
       "      <th>Diabetes</th>\n",
       "      <th>Alcoholism</th>\n",
       "      <th>Handicapped</th>\n",
       "      <th>SMS_received</th>\n",
       "      <th>Showed_up_for_appointment</th>\n",
       "      <th>Delay_time</th>\n",
       "    </tr>\n",
       "  </thead>\n",
       "  <tbody>\n",
       "    <tr>\n",
       "      <th>110522</th>\n",
       "      <td>F</td>\n",
       "      <td>2016-05-03 09:15:35+00:00</td>\n",
       "      <td>2016-06-07 00:00:00+00:00</td>\n",
       "      <td>56</td>\n",
       "      <td>MARIA ORTIZ</td>\n",
       "      <td>0</td>\n",
       "      <td>0</td>\n",
       "      <td>0</td>\n",
       "      <td>0</td>\n",
       "      <td>0</td>\n",
       "      <td>1</td>\n",
       "      <td>Yes</td>\n",
       "      <td>34 days 14:44:25</td>\n",
       "    </tr>\n",
       "    <tr>\n",
       "      <th>110523</th>\n",
       "      <td>F</td>\n",
       "      <td>2016-05-03 07:27:33+00:00</td>\n",
       "      <td>2016-06-07 00:00:00+00:00</td>\n",
       "      <td>51</td>\n",
       "      <td>MARIA ORTIZ</td>\n",
       "      <td>0</td>\n",
       "      <td>0</td>\n",
       "      <td>0</td>\n",
       "      <td>0</td>\n",
       "      <td>0</td>\n",
       "      <td>1</td>\n",
       "      <td>Yes</td>\n",
       "      <td>34 days 16:32:27</td>\n",
       "    </tr>\n",
       "    <tr>\n",
       "      <th>110524</th>\n",
       "      <td>F</td>\n",
       "      <td>2016-04-27 16:03:52+00:00</td>\n",
       "      <td>2016-06-07 00:00:00+00:00</td>\n",
       "      <td>21</td>\n",
       "      <td>MARIA ORTIZ</td>\n",
       "      <td>0</td>\n",
       "      <td>0</td>\n",
       "      <td>0</td>\n",
       "      <td>0</td>\n",
       "      <td>0</td>\n",
       "      <td>1</td>\n",
       "      <td>Yes</td>\n",
       "      <td>40 days 07:56:08</td>\n",
       "    </tr>\n",
       "    <tr>\n",
       "      <th>110525</th>\n",
       "      <td>F</td>\n",
       "      <td>2016-04-27 15:09:23+00:00</td>\n",
       "      <td>2016-06-07 00:00:00+00:00</td>\n",
       "      <td>38</td>\n",
       "      <td>MARIA ORTIZ</td>\n",
       "      <td>0</td>\n",
       "      <td>0</td>\n",
       "      <td>0</td>\n",
       "      <td>0</td>\n",
       "      <td>0</td>\n",
       "      <td>1</td>\n",
       "      <td>Yes</td>\n",
       "      <td>40 days 08:50:37</td>\n",
       "    </tr>\n",
       "    <tr>\n",
       "      <th>110526</th>\n",
       "      <td>F</td>\n",
       "      <td>2016-04-27 13:30:56+00:00</td>\n",
       "      <td>2016-06-07 00:00:00+00:00</td>\n",
       "      <td>54</td>\n",
       "      <td>MARIA ORTIZ</td>\n",
       "      <td>0</td>\n",
       "      <td>0</td>\n",
       "      <td>0</td>\n",
       "      <td>0</td>\n",
       "      <td>0</td>\n",
       "      <td>1</td>\n",
       "      <td>Yes</td>\n",
       "      <td>40 days 10:29:04</td>\n",
       "    </tr>\n",
       "  </tbody>\n",
       "</table>\n",
       "</div>"
      ],
      "text/plain": [
       "       Gender              ScheduledDay            AppointmentDay  Age  \\\n",
       "110522      F 2016-05-03 09:15:35+00:00 2016-06-07 00:00:00+00:00   56   \n",
       "110523      F 2016-05-03 07:27:33+00:00 2016-06-07 00:00:00+00:00   51   \n",
       "110524      F 2016-04-27 16:03:52+00:00 2016-06-07 00:00:00+00:00   21   \n",
       "110525      F 2016-04-27 15:09:23+00:00 2016-06-07 00:00:00+00:00   38   \n",
       "110526      F 2016-04-27 13:30:56+00:00 2016-06-07 00:00:00+00:00   54   \n",
       "\n",
       "       Neighbourhood  Scholarship  Hypertension  Diabetes  Alcoholism  \\\n",
       "110522   MARIA ORTIZ            0             0         0           0   \n",
       "110523   MARIA ORTIZ            0             0         0           0   \n",
       "110524   MARIA ORTIZ            0             0         0           0   \n",
       "110525   MARIA ORTIZ            0             0         0           0   \n",
       "110526   MARIA ORTIZ            0             0         0           0   \n",
       "\n",
       "        Handicapped  SMS_received Showed_up_for_appointment       Delay_time  \n",
       "110522            0             1                       Yes 34 days 14:44:25  \n",
       "110523            0             1                       Yes 34 days 16:32:27  \n",
       "110524            0             1                       Yes 40 days 07:56:08  \n",
       "110525            0             1                       Yes 40 days 08:50:37  \n",
       "110526            0             1                       Yes 40 days 10:29:04  "
      ]
     },
     "execution_count": 53,
     "metadata": {},
     "output_type": "execute_result"
    }
   ],
   "source": [
    "df.tail()"
   ]
  },
  {
   "cell_type": "markdown",
   "metadata": {},
   "source": [
    "##### Which months had the highest and lowest amount of scheduled visits?"
   ]
  },
  {
   "cell_type": "code",
   "execution_count": 54,
   "metadata": {},
   "outputs": [
    {
     "data": {
      "text/plain": [
       "5    67295\n",
       "4    25299\n",
       "6    13723\n",
       "3     3608\n",
       "2      280\n",
       "Name: ScheduledDay, dtype: int64"
      ]
     },
     "execution_count": 54,
     "metadata": {},
     "output_type": "execute_result"
    }
   ],
   "source": [
    "df[\"ScheduledDay\"].dt.month.value_counts().head()"
   ]
  },
  {
   "cell_type": "markdown",
   "metadata": {},
   "source": [
    "From the above result it is obvious that most visits were scheduled in May while the least visits were scheduled in February. "
   ]
  },
  {
   "cell_type": "markdown",
   "metadata": {},
   "source": [
    "##### Which months had the highest and lowest amount of Appointment visits?"
   ]
  },
  {
   "cell_type": "code",
   "execution_count": 55,
   "metadata": {},
   "outputs": [
    {
     "data": {
      "text/plain": [
       "5    80694\n",
       "6    26406\n",
       "4     3227\n",
       "Name: AppointmentDay, dtype: int64"
      ]
     },
     "execution_count": 55,
     "metadata": {},
     "output_type": "execute_result"
    }
   ],
   "source": [
    "df[\"AppointmentDay\"].dt.month.value_counts()"
   ]
  },
  {
   "cell_type": "markdown",
   "metadata": {},
   "source": [
    "From the above results, it is obvious that most patients had their hospital appointments in May and the least in April.\n",
    "\n",
    "From the foregoing, it can be deduced that the month of May is the busiest in the hospital in terms of ScheduledDay and AppointmentDay."
   ]
  },
  {
   "cell_type": "markdown",
   "metadata": {},
   "source": [
    "###### What is the Minimum and Maximum Delay time before Patients come for Appointment?"
   ]
  },
  {
   "cell_type": "code",
   "execution_count": 56,
   "metadata": {},
   "outputs": [
    {
     "data": {
      "text/plain": [
       "Timedelta('-7 days +10:10:40')"
      ]
     },
     "execution_count": 56,
     "metadata": {},
     "output_type": "execute_result"
    }
   ],
   "source": [
    "df[\"Delay_time\"].min()"
   ]
  },
  {
   "cell_type": "markdown",
   "metadata": {},
   "source": [
    "The above result indicates that there was a minimum delay time of 10 hours before patients show up for their scheduled appointments"
   ]
  },
  {
   "cell_type": "code",
   "execution_count": 57,
   "metadata": {},
   "outputs": [
    {
     "data": {
      "text/plain": [
       "Timedelta('178 days 13:19:01')"
      ]
     },
     "execution_count": 57,
     "metadata": {},
     "output_type": "execute_result"
    }
   ],
   "source": [
    "df[\"Delay_time\"].max()  # To get the maximum delay time before appointment"
   ]
  },
  {
   "cell_type": "markdown",
   "metadata": {},
   "source": [
    "The above result indicates that there was a maximum delay time of 178 days before patients show up for their scheduled appointments"
   ]
  },
  {
   "cell_type": "markdown",
   "metadata": {},
   "source": [
    "##### To know the duration covered by scheduled and appointment registers"
   ]
  },
  {
   "cell_type": "markdown",
   "metadata": {},
   "source": [
    "##### Using  a Function to Compute Minimum and Maximum dates/durations for ScheduledDay, AppointmentDay and Delay time"
   ]
  },
  {
   "cell_type": "code",
   "execution_count": 58,
   "metadata": {},
   "outputs": [],
   "source": [
    "# Here we define the function for the minimum\n",
    "def min(column):        \n",
    "    return column.min()    \n",
    "\n",
    "\n",
    "# Here we define the function for the maximum\n",
    "def max(column):\n",
    "    return column.max()"
   ]
  },
  {
   "cell_type": "code",
   "execution_count": 59,
   "metadata": {},
   "outputs": [
    {
     "data": {
      "text/html": [
       "<div>\n",
       "<style scoped>\n",
       "    .dataframe tbody tr th:only-of-type {\n",
       "        vertical-align: middle;\n",
       "    }\n",
       "\n",
       "    .dataframe tbody tr th {\n",
       "        vertical-align: top;\n",
       "    }\n",
       "\n",
       "    .dataframe thead th {\n",
       "        text-align: right;\n",
       "    }\n",
       "</style>\n",
       "<table border=\"1\" class=\"dataframe\">\n",
       "  <thead>\n",
       "    <tr style=\"text-align: right;\">\n",
       "      <th></th>\n",
       "      <th>ScheduledDay</th>\n",
       "      <th>AppointmentDay</th>\n",
       "      <th>Delay_time</th>\n",
       "    </tr>\n",
       "  </thead>\n",
       "  <tbody>\n",
       "    <tr>\n",
       "      <th>min</th>\n",
       "      <td>2015-11-10 07:13:56+00:00</td>\n",
       "      <td>2016-04-29 00:00:00+00:00</td>\n",
       "      <td>-7 days +10:10:40</td>\n",
       "    </tr>\n",
       "    <tr>\n",
       "      <th>max</th>\n",
       "      <td>2016-06-08 20:07:23+00:00</td>\n",
       "      <td>2016-06-08 00:00:00+00:00</td>\n",
       "      <td>178 days 13:19:01</td>\n",
       "    </tr>\n",
       "  </tbody>\n",
       "</table>\n",
       "</div>"
      ],
      "text/plain": [
       "                 ScheduledDay            AppointmentDay        Delay_time\n",
       "min 2015-11-10 07:13:56+00:00 2016-04-29 00:00:00+00:00 -7 days +10:10:40\n",
       "max 2016-06-08 20:07:23+00:00 2016-06-08 00:00:00+00:00 178 days 13:19:01"
      ]
     },
     "execution_count": 59,
     "metadata": {},
     "output_type": "execute_result"
    }
   ],
   "source": [
    "# Next we call the above defined functions on multiple columns of interest\n",
    "# and use the `agg()` DataFrame method.\n",
    "\n",
    "df[[\"ScheduledDay\", \"AppointmentDay\", \"Delay_time\"]].agg([min, max])"
   ]
  },
  {
   "cell_type": "markdown",
   "metadata": {},
   "source": [
    "The above result shows that the minimum time between scheduling for and showing up for an appointmnet i.e. the delay time is about 10 hours.\n",
    "\n",
    "Similarly the above result shows that the maximum time between scheduling for and showing up for an appointmnet i.e. the delay time is about 178 days hours.\n",
    "\n",
    "The scheduling dates extend from `2015-11-10` to `2016-06-08` i.e. about 30 weeks, 1 day.\n",
    "The appointment dates extend from `2016-04-29` to `2016-06-08` i.e. about 5 weeks, 5 days."
   ]
  },
  {
   "cell_type": "markdown",
   "metadata": {},
   "source": [
    "##### See the Percentage of scheduled and Appointment visits per month."
   ]
  },
  {
   "cell_type": "code",
   "execution_count": 60,
   "metadata": {},
   "outputs": [
    {
     "data": {
      "text/plain": [
       "5     0.609959\n",
       "4     0.229309\n",
       "6     0.124385\n",
       "3     0.032703\n",
       "2     0.002538\n",
       "12    0.000553\n",
       "1     0.000544\n",
       "11    0.000009\n",
       "Name: ScheduledDay, dtype: float64"
      ]
     },
     "execution_count": 60,
     "metadata": {},
     "output_type": "execute_result"
    }
   ],
   "source": [
    "df[\"ScheduledDay\"].dt.month.value_counts(normalize = True)"
   ]
  },
  {
   "cell_type": "markdown",
   "metadata": {},
   "source": [
    "In the above we used the `normalize = True` argument to see the proportions of the total for each unque month for the visits. This revealed that May had the most visits making up about 61%."
   ]
  },
  {
   "cell_type": "code",
   "execution_count": 61,
   "metadata": {},
   "outputs": [
    {
     "data": {
      "text/plain": [
       "5    0.731408\n",
       "6    0.239343\n",
       "4    0.029249\n",
       "Name: AppointmentDay, dtype: float64"
      ]
     },
     "execution_count": 61,
     "metadata": {},
     "output_type": "execute_result"
    }
   ],
   "source": [
    "df[\"AppointmentDay\"].dt.month.value_counts(normalize = True)"
   ]
  },
  {
   "cell_type": "markdown",
   "metadata": {},
   "source": [
    "The results for AppointmentDay indicates that May also had the most appointments making up about 73% of the total visits."
   ]
  },
  {
   "cell_type": "markdown",
   "metadata": {},
   "source": [
    "#### Calculate the duration it took between scheduling and showing up for first and last appointment."
   ]
  },
  {
   "cell_type": "code",
   "execution_count": 62,
   "metadata": {},
   "outputs": [
    {
     "data": {
      "text/plain": [
       "Timedelta('170 days 16:46:04')"
      ]
     },
     "execution_count": 62,
     "metadata": {},
     "output_type": "execute_result"
    }
   ],
   "source": [
    "df[\"AppointmentDay\"].min() - df[\"ScheduledDay\"].min()"
   ]
  },
  {
   "cell_type": "markdown",
   "metadata": {},
   "source": [
    "From the above, it took 170 days between the first scheduled visit and when the patient showed up for the first Appointment"
   ]
  },
  {
   "cell_type": "code",
   "execution_count": 63,
   "metadata": {},
   "outputs": [
    {
     "data": {
      "text/plain": [
       "Timedelta('-1 days +03:52:37')"
      ]
     },
     "execution_count": 63,
     "metadata": {},
     "output_type": "execute_result"
    }
   ],
   "source": [
    "df[\"AppointmentDay\"].max() - df[\"ScheduledDay\"].max()"
   ]
  },
  {
   "cell_type": "markdown",
   "metadata": {},
   "source": [
    "From the above, it took 3 hours between the first scheduled visit and when the patient showed up for the first Appointment"
   ]
  },
  {
   "cell_type": "markdown",
   "metadata": {},
   "source": [
    "###### Duration of scheduling Visits and Showing Up for Appointments"
   ]
  },
  {
   "cell_type": "code",
   "execution_count": 64,
   "metadata": {},
   "outputs": [
    {
     "data": {
      "text/plain": [
       "Timedelta('211 days 12:53:27')"
      ]
     },
     "execution_count": 64,
     "metadata": {},
     "output_type": "execute_result"
    }
   ],
   "source": [
    "df[\"ScheduledDay\"].max() - df[\"ScheduledDay\"].min()"
   ]
  },
  {
   "cell_type": "markdown",
   "metadata": {},
   "source": [
    "The above result indicates that the visits were scheduled over a duration of 211 days (30 weeks, 1 day)."
   ]
  },
  {
   "cell_type": "code",
   "execution_count": 65,
   "metadata": {},
   "outputs": [
    {
     "data": {
      "text/plain": [
       "Timedelta('40 days 00:00:00')"
      ]
     },
     "execution_count": 65,
     "metadata": {},
     "output_type": "execute_result"
    }
   ],
   "source": [
    "df[\"AppointmentDay\"].max() - df[\"AppointmentDay\"].min()"
   ]
  },
  {
   "cell_type": "markdown",
   "metadata": {},
   "source": [
    "The above result indicates that the appointments were made over a duration of 40 days (5 weeks, 5 days)."
   ]
  },
  {
   "cell_type": "markdown",
   "metadata": {},
   "source": [
    "###### Insights\n",
    "\n",
    "This above results indicate that the duration for the appointments were short compared to the duration alloted for scheduling visits."
   ]
  },
  {
   "cell_type": "code",
   "execution_count": 66,
   "metadata": {},
   "outputs": [
    {
     "data": {
      "text/plain": [
       "array([ -568160000000000,  -139841000000000,  -135838000000000, ...,\n",
       "       15427019000000000, 15427038000000000, 15427141000000000],\n",
       "      dtype='timedelta64[ns]')"
      ]
     },
     "execution_count": 66,
     "metadata": {},
     "output_type": "execute_result"
    }
   ],
   "source": [
    "\n",
    "np.sort(df[\"Delay_time\"])  # Using the Numpy sort function"
   ]
  },
  {
   "cell_type": "markdown",
   "metadata": {},
   "source": [
    "Let us attempt to sort the DataFrame based on the Delay_time. This further gives us an insight into the variation in the Delay_time. Same code will be applied to AppointmentDay and ScheduledDay."
   ]
  },
  {
   "cell_type": "code",
   "execution_count": 67,
   "metadata": {},
   "outputs": [
    {
     "data": {
      "text/html": [
       "<div>\n",
       "<style scoped>\n",
       "    .dataframe tbody tr th:only-of-type {\n",
       "        vertical-align: middle;\n",
       "    }\n",
       "\n",
       "    .dataframe tbody tr th {\n",
       "        vertical-align: top;\n",
       "    }\n",
       "\n",
       "    .dataframe thead th {\n",
       "        text-align: right;\n",
       "    }\n",
       "</style>\n",
       "<table border=\"1\" class=\"dataframe\">\n",
       "  <thead>\n",
       "    <tr style=\"text-align: right;\">\n",
       "      <th></th>\n",
       "      <th>Gender</th>\n",
       "      <th>ScheduledDay</th>\n",
       "      <th>AppointmentDay</th>\n",
       "      <th>Age</th>\n",
       "      <th>Neighbourhood</th>\n",
       "      <th>Scholarship</th>\n",
       "      <th>Hypertension</th>\n",
       "      <th>Diabetes</th>\n",
       "      <th>Alcoholism</th>\n",
       "      <th>Handicapped</th>\n",
       "      <th>SMS_received</th>\n",
       "      <th>Showed_up_for_appointment</th>\n",
       "      <th>Delay_time</th>\n",
       "    </tr>\n",
       "  </thead>\n",
       "  <tbody>\n",
       "    <tr>\n",
       "      <th>71533</th>\n",
       "      <td>F</td>\n",
       "      <td>2016-05-11 13:49:20+00:00</td>\n",
       "      <td>2016-05-05 00:00:00+00:00</td>\n",
       "      <td>81</td>\n",
       "      <td>SANTO ANTÔNIO</td>\n",
       "      <td>0</td>\n",
       "      <td>0</td>\n",
       "      <td>0</td>\n",
       "      <td>0</td>\n",
       "      <td>0</td>\n",
       "      <td>0</td>\n",
       "      <td>No</td>\n",
       "      <td>-7 days +10:10:40</td>\n",
       "    </tr>\n",
       "    <tr>\n",
       "      <th>55226</th>\n",
       "      <td>F</td>\n",
       "      <td>2016-05-18 14:50:41+00:00</td>\n",
       "      <td>2016-05-17 00:00:00+00:00</td>\n",
       "      <td>19</td>\n",
       "      <td>SANTO ANTÔNIO</td>\n",
       "      <td>0</td>\n",
       "      <td>0</td>\n",
       "      <td>0</td>\n",
       "      <td>0</td>\n",
       "      <td>1</td>\n",
       "      <td>0</td>\n",
       "      <td>No</td>\n",
       "      <td>-2 days +09:09:19</td>\n",
       "    </tr>\n",
       "    <tr>\n",
       "      <th>64175</th>\n",
       "      <td>F</td>\n",
       "      <td>2016-05-05 13:43:58+00:00</td>\n",
       "      <td>2016-05-04 00:00:00+00:00</td>\n",
       "      <td>22</td>\n",
       "      <td>CONSOLAÇÃO</td>\n",
       "      <td>0</td>\n",
       "      <td>0</td>\n",
       "      <td>0</td>\n",
       "      <td>0</td>\n",
       "      <td>0</td>\n",
       "      <td>0</td>\n",
       "      <td>No</td>\n",
       "      <td>-2 days +10:16:02</td>\n",
       "    </tr>\n",
       "    <tr>\n",
       "      <th>27033</th>\n",
       "      <td>M</td>\n",
       "      <td>2016-05-10 10:51:53+00:00</td>\n",
       "      <td>2016-05-09 00:00:00+00:00</td>\n",
       "      <td>38</td>\n",
       "      <td>RESISTÊNCIA</td>\n",
       "      <td>0</td>\n",
       "      <td>0</td>\n",
       "      <td>0</td>\n",
       "      <td>0</td>\n",
       "      <td>1</td>\n",
       "      <td>0</td>\n",
       "      <td>No</td>\n",
       "      <td>-2 days +13:08:07</td>\n",
       "    </tr>\n",
       "    <tr>\n",
       "      <th>72362</th>\n",
       "      <td>M</td>\n",
       "      <td>2016-05-04 06:50:57+00:00</td>\n",
       "      <td>2016-05-03 00:00:00+00:00</td>\n",
       "      <td>7</td>\n",
       "      <td>TABUAZEIRO</td>\n",
       "      <td>0</td>\n",
       "      <td>0</td>\n",
       "      <td>0</td>\n",
       "      <td>0</td>\n",
       "      <td>0</td>\n",
       "      <td>0</td>\n",
       "      <td>No</td>\n",
       "      <td>-2 days +17:09:03</td>\n",
       "    </tr>\n",
       "    <tr>\n",
       "      <th>...</th>\n",
       "      <td>...</td>\n",
       "      <td>...</td>\n",
       "      <td>...</td>\n",
       "      <td>...</td>\n",
       "      <td>...</td>\n",
       "      <td>...</td>\n",
       "      <td>...</td>\n",
       "      <td>...</td>\n",
       "      <td>...</td>\n",
       "      <td>...</td>\n",
       "      <td>...</td>\n",
       "      <td>...</td>\n",
       "      <td>...</td>\n",
       "    </tr>\n",
       "    <tr>\n",
       "      <th>102786</th>\n",
       "      <td>M</td>\n",
       "      <td>2015-12-07 10:43:34+00:00</td>\n",
       "      <td>2016-06-03 00:00:00+00:00</td>\n",
       "      <td>67</td>\n",
       "      <td>MARUÍPE</td>\n",
       "      <td>0</td>\n",
       "      <td>1</td>\n",
       "      <td>1</td>\n",
       "      <td>0</td>\n",
       "      <td>0</td>\n",
       "      <td>0</td>\n",
       "      <td>Yes</td>\n",
       "      <td>178 days 13:16:26</td>\n",
       "    </tr>\n",
       "    <tr>\n",
       "      <th>102799</th>\n",
       "      <td>F</td>\n",
       "      <td>2015-12-07 10:43:17+00:00</td>\n",
       "      <td>2016-06-03 00:00:00+00:00</td>\n",
       "      <td>74</td>\n",
       "      <td>SÃO CRISTÓVÃO</td>\n",
       "      <td>0</td>\n",
       "      <td>1</td>\n",
       "      <td>1</td>\n",
       "      <td>0</td>\n",
       "      <td>0</td>\n",
       "      <td>1</td>\n",
       "      <td>Yes</td>\n",
       "      <td>178 days 13:16:43</td>\n",
       "    </tr>\n",
       "    <tr>\n",
       "      <th>102796</th>\n",
       "      <td>F</td>\n",
       "      <td>2015-12-07 10:43:01+00:00</td>\n",
       "      <td>2016-06-03 00:00:00+00:00</td>\n",
       "      <td>80</td>\n",
       "      <td>SÃO CRISTÓVÃO</td>\n",
       "      <td>0</td>\n",
       "      <td>1</td>\n",
       "      <td>1</td>\n",
       "      <td>0</td>\n",
       "      <td>0</td>\n",
       "      <td>1</td>\n",
       "      <td>Yes</td>\n",
       "      <td>178 days 13:16:59</td>\n",
       "    </tr>\n",
       "    <tr>\n",
       "      <th>102797</th>\n",
       "      <td>F</td>\n",
       "      <td>2015-12-07 10:42:42+00:00</td>\n",
       "      <td>2016-06-03 00:00:00+00:00</td>\n",
       "      <td>48</td>\n",
       "      <td>MARUÍPE</td>\n",
       "      <td>0</td>\n",
       "      <td>1</td>\n",
       "      <td>1</td>\n",
       "      <td>0</td>\n",
       "      <td>0</td>\n",
       "      <td>1</td>\n",
       "      <td>Yes</td>\n",
       "      <td>178 days 13:17:18</td>\n",
       "    </tr>\n",
       "    <tr>\n",
       "      <th>102795</th>\n",
       "      <td>F</td>\n",
       "      <td>2015-12-07 10:40:59+00:00</td>\n",
       "      <td>2016-06-03 00:00:00+00:00</td>\n",
       "      <td>27</td>\n",
       "      <td>SÃO CRISTÓVÃO</td>\n",
       "      <td>1</td>\n",
       "      <td>0</td>\n",
       "      <td>0</td>\n",
       "      <td>0</td>\n",
       "      <td>0</td>\n",
       "      <td>1</td>\n",
       "      <td>No</td>\n",
       "      <td>178 days 13:19:01</td>\n",
       "    </tr>\n",
       "  </tbody>\n",
       "</table>\n",
       "<p>110327 rows × 13 columns</p>\n",
       "</div>"
      ],
      "text/plain": [
       "       Gender              ScheduledDay            AppointmentDay  Age  \\\n",
       "71533       F 2016-05-11 13:49:20+00:00 2016-05-05 00:00:00+00:00   81   \n",
       "55226       F 2016-05-18 14:50:41+00:00 2016-05-17 00:00:00+00:00   19   \n",
       "64175       F 2016-05-05 13:43:58+00:00 2016-05-04 00:00:00+00:00   22   \n",
       "27033       M 2016-05-10 10:51:53+00:00 2016-05-09 00:00:00+00:00   38   \n",
       "72362       M 2016-05-04 06:50:57+00:00 2016-05-03 00:00:00+00:00    7   \n",
       "...       ...                       ...                       ...  ...   \n",
       "102786      M 2015-12-07 10:43:34+00:00 2016-06-03 00:00:00+00:00   67   \n",
       "102799      F 2015-12-07 10:43:17+00:00 2016-06-03 00:00:00+00:00   74   \n",
       "102796      F 2015-12-07 10:43:01+00:00 2016-06-03 00:00:00+00:00   80   \n",
       "102797      F 2015-12-07 10:42:42+00:00 2016-06-03 00:00:00+00:00   48   \n",
       "102795      F 2015-12-07 10:40:59+00:00 2016-06-03 00:00:00+00:00   27   \n",
       "\n",
       "        Neighbourhood  Scholarship  Hypertension  Diabetes  Alcoholism  \\\n",
       "71533   SANTO ANTÔNIO            0             0         0           0   \n",
       "55226   SANTO ANTÔNIO            0             0         0           0   \n",
       "64175      CONSOLAÇÃO            0             0         0           0   \n",
       "27033     RESISTÊNCIA            0             0         0           0   \n",
       "72362      TABUAZEIRO            0             0         0           0   \n",
       "...               ...          ...           ...       ...         ...   \n",
       "102786        MARUÍPE            0             1         1           0   \n",
       "102799  SÃO CRISTÓVÃO            0             1         1           0   \n",
       "102796  SÃO CRISTÓVÃO            0             1         1           0   \n",
       "102797        MARUÍPE            0             1         1           0   \n",
       "102795  SÃO CRISTÓVÃO            1             0         0           0   \n",
       "\n",
       "        Handicapped  SMS_received Showed_up_for_appointment        Delay_time  \n",
       "71533             0             0                        No -7 days +10:10:40  \n",
       "55226             1             0                        No -2 days +09:09:19  \n",
       "64175             0             0                        No -2 days +10:16:02  \n",
       "27033             1             0                        No -2 days +13:08:07  \n",
       "72362             0             0                        No -2 days +17:09:03  \n",
       "...             ...           ...                       ...               ...  \n",
       "102786            0             0                       Yes 178 days 13:16:26  \n",
       "102799            0             1                       Yes 178 days 13:16:43  \n",
       "102796            0             1                       Yes 178 days 13:16:59  \n",
       "102797            0             1                       Yes 178 days 13:17:18  \n",
       "102795            0             1                        No 178 days 13:19:01  \n",
       "\n",
       "[110327 rows x 13 columns]"
      ]
     },
     "execution_count": 67,
     "metadata": {},
     "output_type": "execute_result"
    }
   ],
   "source": [
    "df.sort_values(by=\"Delay_time\") # Using Pandas sort_values method."
   ]
  },
  {
   "cell_type": "markdown",
   "metadata": {},
   "source": [
    "Using Numpy sort function as shown in the 2 cells below"
   ]
  },
  {
   "cell_type": "code",
   "execution_count": 68,
   "metadata": {},
   "outputs": [
    {
     "data": {
      "text/plain": [
       "array([Timestamp('2016-04-29 00:00:00+0000', tz='UTC'),\n",
       "       Timestamp('2016-04-29 00:00:00+0000', tz='UTC'),\n",
       "       Timestamp('2016-04-29 00:00:00+0000', tz='UTC'), ...,\n",
       "       Timestamp('2016-06-08 00:00:00+0000', tz='UTC'),\n",
       "       Timestamp('2016-06-08 00:00:00+0000', tz='UTC'),\n",
       "       Timestamp('2016-06-08 00:00:00+0000', tz='UTC')], dtype=object)"
      ]
     },
     "execution_count": 68,
     "metadata": {},
     "output_type": "execute_result"
    }
   ],
   "source": [
    "np.sort(df['AppointmentDay'])"
   ]
  },
  {
   "cell_type": "code",
   "execution_count": 69,
   "metadata": {},
   "outputs": [
    {
     "data": {
      "text/plain": [
       "array([Timestamp('2015-11-10 07:13:56+0000', tz='UTC'),\n",
       "       Timestamp('2015-12-03 08:17:28+0000', tz='UTC'),\n",
       "       Timestamp('2015-12-07 10:40:59+0000', tz='UTC'), ...,\n",
       "       Timestamp('2016-06-08 19:33:23+0000', tz='UTC'),\n",
       "       Timestamp('2016-06-08 19:58:52+0000', tz='UTC'),\n",
       "       Timestamp('2016-06-08 20:07:23+0000', tz='UTC')], dtype=object)"
      ]
     },
     "execution_count": 69,
     "metadata": {},
     "output_type": "execute_result"
    }
   ],
   "source": [
    "np.sort(df['ScheduledDay'])"
   ]
  },
  {
   "cell_type": "markdown",
   "metadata": {},
   "source": [
    "Using Pandas sort_values method as shown in the 2 cells below"
   ]
  },
  {
   "cell_type": "code",
   "execution_count": 70,
   "metadata": {},
   "outputs": [
    {
     "data": {
      "text/html": [
       "<div>\n",
       "<style scoped>\n",
       "    .dataframe tbody tr th:only-of-type {\n",
       "        vertical-align: middle;\n",
       "    }\n",
       "\n",
       "    .dataframe tbody tr th {\n",
       "        vertical-align: top;\n",
       "    }\n",
       "\n",
       "    .dataframe thead th {\n",
       "        text-align: right;\n",
       "    }\n",
       "</style>\n",
       "<table border=\"1\" class=\"dataframe\">\n",
       "  <thead>\n",
       "    <tr style=\"text-align: right;\">\n",
       "      <th></th>\n",
       "      <th>Gender</th>\n",
       "      <th>ScheduledDay</th>\n",
       "      <th>AppointmentDay</th>\n",
       "      <th>Age</th>\n",
       "      <th>Neighbourhood</th>\n",
       "      <th>Scholarship</th>\n",
       "      <th>Hypertension</th>\n",
       "      <th>Diabetes</th>\n",
       "      <th>Alcoholism</th>\n",
       "      <th>Handicapped</th>\n",
       "      <th>SMS_received</th>\n",
       "      <th>Showed_up_for_appointment</th>\n",
       "      <th>Delay_time</th>\n",
       "    </tr>\n",
       "  </thead>\n",
       "  <tbody>\n",
       "    <tr>\n",
       "      <th>0</th>\n",
       "      <td>F</td>\n",
       "      <td>2016-04-29 18:38:08+00:00</td>\n",
       "      <td>2016-04-29 00:00:00+00:00</td>\n",
       "      <td>62</td>\n",
       "      <td>JARDIM DA PENHA</td>\n",
       "      <td>0</td>\n",
       "      <td>1</td>\n",
       "      <td>0</td>\n",
       "      <td>0</td>\n",
       "      <td>0</td>\n",
       "      <td>0</td>\n",
       "      <td>Yes</td>\n",
       "      <td>-1 days +05:21:52</td>\n",
       "    </tr>\n",
       "    <tr>\n",
       "      <th>2151</th>\n",
       "      <td>M</td>\n",
       "      <td>2016-03-29 11:09:08+00:00</td>\n",
       "      <td>2016-04-29 00:00:00+00:00</td>\n",
       "      <td>33</td>\n",
       "      <td>MARIA ORTIZ</td>\n",
       "      <td>0</td>\n",
       "      <td>0</td>\n",
       "      <td>0</td>\n",
       "      <td>0</td>\n",
       "      <td>0</td>\n",
       "      <td>1</td>\n",
       "      <td>Yes</td>\n",
       "      <td>30 days 12:50:52</td>\n",
       "    </tr>\n",
       "    <tr>\n",
       "      <th>2152</th>\n",
       "      <td>F</td>\n",
       "      <td>2016-03-29 11:08:52+00:00</td>\n",
       "      <td>2016-04-29 00:00:00+00:00</td>\n",
       "      <td>50</td>\n",
       "      <td>MARIA ORTIZ</td>\n",
       "      <td>0</td>\n",
       "      <td>0</td>\n",
       "      <td>0</td>\n",
       "      <td>0</td>\n",
       "      <td>0</td>\n",
       "      <td>0</td>\n",
       "      <td>Yes</td>\n",
       "      <td>30 days 12:51:08</td>\n",
       "    </tr>\n",
       "    <tr>\n",
       "      <th>2153</th>\n",
       "      <td>F</td>\n",
       "      <td>2016-03-29 17:04:40+00:00</td>\n",
       "      <td>2016-04-29 00:00:00+00:00</td>\n",
       "      <td>69</td>\n",
       "      <td>MARIA ORTIZ</td>\n",
       "      <td>0</td>\n",
       "      <td>0</td>\n",
       "      <td>0</td>\n",
       "      <td>0</td>\n",
       "      <td>0</td>\n",
       "      <td>1</td>\n",
       "      <td>Yes</td>\n",
       "      <td>30 days 06:55:20</td>\n",
       "    </tr>\n",
       "    <tr>\n",
       "      <th>2154</th>\n",
       "      <td>F</td>\n",
       "      <td>2016-04-29 17:21:24+00:00</td>\n",
       "      <td>2016-04-29 00:00:00+00:00</td>\n",
       "      <td>65</td>\n",
       "      <td>MARIA ORTIZ</td>\n",
       "      <td>0</td>\n",
       "      <td>0</td>\n",
       "      <td>0</td>\n",
       "      <td>0</td>\n",
       "      <td>0</td>\n",
       "      <td>0</td>\n",
       "      <td>Yes</td>\n",
       "      <td>-1 days +06:38:36</td>\n",
       "    </tr>\n",
       "    <tr>\n",
       "      <th>...</th>\n",
       "      <td>...</td>\n",
       "      <td>...</td>\n",
       "      <td>...</td>\n",
       "      <td>...</td>\n",
       "      <td>...</td>\n",
       "      <td>...</td>\n",
       "      <td>...</td>\n",
       "      <td>...</td>\n",
       "      <td>...</td>\n",
       "      <td>...</td>\n",
       "      <td>...</td>\n",
       "      <td>...</td>\n",
       "      <td>...</td>\n",
       "    </tr>\n",
       "    <tr>\n",
       "      <th>106528</th>\n",
       "      <td>F</td>\n",
       "      <td>2016-06-08 07:14:03+00:00</td>\n",
       "      <td>2016-06-08 00:00:00+00:00</td>\n",
       "      <td>56</td>\n",
       "      <td>JESUS DE NAZARETH</td>\n",
       "      <td>0</td>\n",
       "      <td>0</td>\n",
       "      <td>0</td>\n",
       "      <td>0</td>\n",
       "      <td>0</td>\n",
       "      <td>0</td>\n",
       "      <td>Yes</td>\n",
       "      <td>-1 days +16:45:57</td>\n",
       "    </tr>\n",
       "    <tr>\n",
       "      <th>106526</th>\n",
       "      <td>F</td>\n",
       "      <td>2016-06-08 07:17:47+00:00</td>\n",
       "      <td>2016-06-08 00:00:00+00:00</td>\n",
       "      <td>35</td>\n",
       "      <td>JESUS DE NAZARETH</td>\n",
       "      <td>0</td>\n",
       "      <td>0</td>\n",
       "      <td>0</td>\n",
       "      <td>0</td>\n",
       "      <td>0</td>\n",
       "      <td>0</td>\n",
       "      <td>Yes</td>\n",
       "      <td>-1 days +16:42:13</td>\n",
       "    </tr>\n",
       "    <tr>\n",
       "      <th>106524</th>\n",
       "      <td>F</td>\n",
       "      <td>2016-06-08 07:19:00+00:00</td>\n",
       "      <td>2016-06-08 00:00:00+00:00</td>\n",
       "      <td>44</td>\n",
       "      <td>JESUS DE NAZARETH</td>\n",
       "      <td>0</td>\n",
       "      <td>0</td>\n",
       "      <td>0</td>\n",
       "      <td>0</td>\n",
       "      <td>0</td>\n",
       "      <td>0</td>\n",
       "      <td>Yes</td>\n",
       "      <td>-1 days +16:41:00</td>\n",
       "    </tr>\n",
       "    <tr>\n",
       "      <th>106520</th>\n",
       "      <td>F</td>\n",
       "      <td>2016-05-20 08:33:01+00:00</td>\n",
       "      <td>2016-06-08 00:00:00+00:00</td>\n",
       "      <td>53</td>\n",
       "      <td>JESUS DE NAZARETH</td>\n",
       "      <td>0</td>\n",
       "      <td>1</td>\n",
       "      <td>1</td>\n",
       "      <td>0</td>\n",
       "      <td>0</td>\n",
       "      <td>1</td>\n",
       "      <td>Yes</td>\n",
       "      <td>18 days 15:26:59</td>\n",
       "    </tr>\n",
       "    <tr>\n",
       "      <th>98959</th>\n",
       "      <td>F</td>\n",
       "      <td>2016-06-02 08:36:40+00:00</td>\n",
       "      <td>2016-06-08 00:00:00+00:00</td>\n",
       "      <td>49</td>\n",
       "      <td>MATA DA PRAIA</td>\n",
       "      <td>0</td>\n",
       "      <td>0</td>\n",
       "      <td>0</td>\n",
       "      <td>0</td>\n",
       "      <td>0</td>\n",
       "      <td>1</td>\n",
       "      <td>Yes</td>\n",
       "      <td>5 days 15:23:20</td>\n",
       "    </tr>\n",
       "  </tbody>\n",
       "</table>\n",
       "<p>110327 rows × 13 columns</p>\n",
       "</div>"
      ],
      "text/plain": [
       "       Gender              ScheduledDay            AppointmentDay  Age  \\\n",
       "0           F 2016-04-29 18:38:08+00:00 2016-04-29 00:00:00+00:00   62   \n",
       "2151        M 2016-03-29 11:09:08+00:00 2016-04-29 00:00:00+00:00   33   \n",
       "2152        F 2016-03-29 11:08:52+00:00 2016-04-29 00:00:00+00:00   50   \n",
       "2153        F 2016-03-29 17:04:40+00:00 2016-04-29 00:00:00+00:00   69   \n",
       "2154        F 2016-04-29 17:21:24+00:00 2016-04-29 00:00:00+00:00   65   \n",
       "...       ...                       ...                       ...  ...   \n",
       "106528      F 2016-06-08 07:14:03+00:00 2016-06-08 00:00:00+00:00   56   \n",
       "106526      F 2016-06-08 07:17:47+00:00 2016-06-08 00:00:00+00:00   35   \n",
       "106524      F 2016-06-08 07:19:00+00:00 2016-06-08 00:00:00+00:00   44   \n",
       "106520      F 2016-05-20 08:33:01+00:00 2016-06-08 00:00:00+00:00   53   \n",
       "98959       F 2016-06-02 08:36:40+00:00 2016-06-08 00:00:00+00:00   49   \n",
       "\n",
       "            Neighbourhood  Scholarship  Hypertension  Diabetes  Alcoholism  \\\n",
       "0         JARDIM DA PENHA            0             1         0           0   \n",
       "2151          MARIA ORTIZ            0             0         0           0   \n",
       "2152          MARIA ORTIZ            0             0         0           0   \n",
       "2153          MARIA ORTIZ            0             0         0           0   \n",
       "2154          MARIA ORTIZ            0             0         0           0   \n",
       "...                   ...          ...           ...       ...         ...   \n",
       "106528  JESUS DE NAZARETH            0             0         0           0   \n",
       "106526  JESUS DE NAZARETH            0             0         0           0   \n",
       "106524  JESUS DE NAZARETH            0             0         0           0   \n",
       "106520  JESUS DE NAZARETH            0             1         1           0   \n",
       "98959       MATA DA PRAIA            0             0         0           0   \n",
       "\n",
       "        Handicapped  SMS_received Showed_up_for_appointment        Delay_time  \n",
       "0                 0             0                       Yes -1 days +05:21:52  \n",
       "2151              0             1                       Yes  30 days 12:50:52  \n",
       "2152              0             0                       Yes  30 days 12:51:08  \n",
       "2153              0             1                       Yes  30 days 06:55:20  \n",
       "2154              0             0                       Yes -1 days +06:38:36  \n",
       "...             ...           ...                       ...               ...  \n",
       "106528            0             0                       Yes -1 days +16:45:57  \n",
       "106526            0             0                       Yes -1 days +16:42:13  \n",
       "106524            0             0                       Yes -1 days +16:41:00  \n",
       "106520            0             1                       Yes  18 days 15:26:59  \n",
       "98959             0             1                       Yes   5 days 15:23:20  \n",
       "\n",
       "[110327 rows x 13 columns]"
      ]
     },
     "execution_count": 70,
     "metadata": {},
     "output_type": "execute_result"
    }
   ],
   "source": [
    "df.sort_values(by=\"AppointmentDay\")"
   ]
  },
  {
   "cell_type": "code",
   "execution_count": 71,
   "metadata": {},
   "outputs": [
    {
     "data": {
      "text/html": [
       "<div>\n",
       "<style scoped>\n",
       "    .dataframe tbody tr th:only-of-type {\n",
       "        vertical-align: middle;\n",
       "    }\n",
       "\n",
       "    .dataframe tbody tr th {\n",
       "        vertical-align: top;\n",
       "    }\n",
       "\n",
       "    .dataframe thead th {\n",
       "        text-align: right;\n",
       "    }\n",
       "</style>\n",
       "<table border=\"1\" class=\"dataframe\">\n",
       "  <thead>\n",
       "    <tr style=\"text-align: right;\">\n",
       "      <th></th>\n",
       "      <th>Gender</th>\n",
       "      <th>ScheduledDay</th>\n",
       "      <th>AppointmentDay</th>\n",
       "      <th>Age</th>\n",
       "      <th>Neighbourhood</th>\n",
       "      <th>Scholarship</th>\n",
       "      <th>Hypertension</th>\n",
       "      <th>Diabetes</th>\n",
       "      <th>Alcoholism</th>\n",
       "      <th>Handicapped</th>\n",
       "      <th>SMS_received</th>\n",
       "      <th>Showed_up_for_appointment</th>\n",
       "      <th>Delay_time</th>\n",
       "    </tr>\n",
       "  </thead>\n",
       "  <tbody>\n",
       "    <tr>\n",
       "      <th>3764</th>\n",
       "      <td>F</td>\n",
       "      <td>2015-11-10 07:13:56+00:00</td>\n",
       "      <td>2016-05-04 00:00:00+00:00</td>\n",
       "      <td>51</td>\n",
       "      <td>RESISTÊNCIA</td>\n",
       "      <td>0</td>\n",
       "      <td>0</td>\n",
       "      <td>0</td>\n",
       "      <td>0</td>\n",
       "      <td>0</td>\n",
       "      <td>1</td>\n",
       "      <td>Yes</td>\n",
       "      <td>175 days 16:46:04</td>\n",
       "    </tr>\n",
       "    <tr>\n",
       "      <th>46292</th>\n",
       "      <td>M</td>\n",
       "      <td>2015-12-03 08:17:28+00:00</td>\n",
       "      <td>2016-05-02 00:00:00+00:00</td>\n",
       "      <td>34</td>\n",
       "      <td>VILA RUBIM</td>\n",
       "      <td>0</td>\n",
       "      <td>1</td>\n",
       "      <td>0</td>\n",
       "      <td>0</td>\n",
       "      <td>0</td>\n",
       "      <td>1</td>\n",
       "      <td>No</td>\n",
       "      <td>150 days 15:42:32</td>\n",
       "    </tr>\n",
       "    <tr>\n",
       "      <th>102795</th>\n",
       "      <td>F</td>\n",
       "      <td>2015-12-07 10:40:59+00:00</td>\n",
       "      <td>2016-06-03 00:00:00+00:00</td>\n",
       "      <td>27</td>\n",
       "      <td>SÃO CRISTÓVÃO</td>\n",
       "      <td>1</td>\n",
       "      <td>0</td>\n",
       "      <td>0</td>\n",
       "      <td>0</td>\n",
       "      <td>0</td>\n",
       "      <td>1</td>\n",
       "      <td>No</td>\n",
       "      <td>178 days 13:19:01</td>\n",
       "    </tr>\n",
       "    <tr>\n",
       "      <th>102797</th>\n",
       "      <td>F</td>\n",
       "      <td>2015-12-07 10:42:42+00:00</td>\n",
       "      <td>2016-06-03 00:00:00+00:00</td>\n",
       "      <td>48</td>\n",
       "      <td>MARUÍPE</td>\n",
       "      <td>0</td>\n",
       "      <td>1</td>\n",
       "      <td>1</td>\n",
       "      <td>0</td>\n",
       "      <td>0</td>\n",
       "      <td>1</td>\n",
       "      <td>Yes</td>\n",
       "      <td>178 days 13:17:18</td>\n",
       "    </tr>\n",
       "    <tr>\n",
       "      <th>102796</th>\n",
       "      <td>F</td>\n",
       "      <td>2015-12-07 10:43:01+00:00</td>\n",
       "      <td>2016-06-03 00:00:00+00:00</td>\n",
       "      <td>80</td>\n",
       "      <td>SÃO CRISTÓVÃO</td>\n",
       "      <td>0</td>\n",
       "      <td>1</td>\n",
       "      <td>1</td>\n",
       "      <td>0</td>\n",
       "      <td>0</td>\n",
       "      <td>1</td>\n",
       "      <td>Yes</td>\n",
       "      <td>178 days 13:16:59</td>\n",
       "    </tr>\n",
       "    <tr>\n",
       "      <th>...</th>\n",
       "      <td>...</td>\n",
       "      <td>...</td>\n",
       "      <td>...</td>\n",
       "      <td>...</td>\n",
       "      <td>...</td>\n",
       "      <td>...</td>\n",
       "      <td>...</td>\n",
       "      <td>...</td>\n",
       "      <td>...</td>\n",
       "      <td>...</td>\n",
       "      <td>...</td>\n",
       "      <td>...</td>\n",
       "      <td>...</td>\n",
       "    </tr>\n",
       "    <tr>\n",
       "      <th>92442</th>\n",
       "      <td>M</td>\n",
       "      <td>2016-06-08 19:32:25+00:00</td>\n",
       "      <td>2016-06-08 00:00:00+00:00</td>\n",
       "      <td>54</td>\n",
       "      <td>JARDIM CAMBURI</td>\n",
       "      <td>0</td>\n",
       "      <td>0</td>\n",
       "      <td>0</td>\n",
       "      <td>0</td>\n",
       "      <td>0</td>\n",
       "      <td>0</td>\n",
       "      <td>Yes</td>\n",
       "      <td>-1 days +04:27:35</td>\n",
       "    </tr>\n",
       "    <tr>\n",
       "      <th>88146</th>\n",
       "      <td>F</td>\n",
       "      <td>2016-06-08 19:32:56+00:00</td>\n",
       "      <td>2016-06-08 00:00:00+00:00</td>\n",
       "      <td>43</td>\n",
       "      <td>JARDIM CAMBURI</td>\n",
       "      <td>0</td>\n",
       "      <td>0</td>\n",
       "      <td>0</td>\n",
       "      <td>0</td>\n",
       "      <td>0</td>\n",
       "      <td>0</td>\n",
       "      <td>Yes</td>\n",
       "      <td>-1 days +04:27:04</td>\n",
       "    </tr>\n",
       "    <tr>\n",
       "      <th>88147</th>\n",
       "      <td>M</td>\n",
       "      <td>2016-06-08 19:33:23+00:00</td>\n",
       "      <td>2016-06-08 00:00:00+00:00</td>\n",
       "      <td>27</td>\n",
       "      <td>JARDIM CAMBURI</td>\n",
       "      <td>0</td>\n",
       "      <td>0</td>\n",
       "      <td>0</td>\n",
       "      <td>0</td>\n",
       "      <td>0</td>\n",
       "      <td>0</td>\n",
       "      <td>Yes</td>\n",
       "      <td>-1 days +04:26:37</td>\n",
       "    </tr>\n",
       "    <tr>\n",
       "      <th>87219</th>\n",
       "      <td>F</td>\n",
       "      <td>2016-06-08 19:58:52+00:00</td>\n",
       "      <td>2016-06-08 00:00:00+00:00</td>\n",
       "      <td>30</td>\n",
       "      <td>JARDIM CAMBURI</td>\n",
       "      <td>0</td>\n",
       "      <td>0</td>\n",
       "      <td>0</td>\n",
       "      <td>0</td>\n",
       "      <td>0</td>\n",
       "      <td>0</td>\n",
       "      <td>Yes</td>\n",
       "      <td>-1 days +04:01:08</td>\n",
       "    </tr>\n",
       "    <tr>\n",
       "      <th>87223</th>\n",
       "      <td>F</td>\n",
       "      <td>2016-06-08 20:07:23+00:00</td>\n",
       "      <td>2016-06-08 00:00:00+00:00</td>\n",
       "      <td>27</td>\n",
       "      <td>JARDIM CAMBURI</td>\n",
       "      <td>0</td>\n",
       "      <td>0</td>\n",
       "      <td>0</td>\n",
       "      <td>0</td>\n",
       "      <td>0</td>\n",
       "      <td>0</td>\n",
       "      <td>Yes</td>\n",
       "      <td>-1 days +03:52:37</td>\n",
       "    </tr>\n",
       "  </tbody>\n",
       "</table>\n",
       "<p>110327 rows × 13 columns</p>\n",
       "</div>"
      ],
      "text/plain": [
       "       Gender              ScheduledDay            AppointmentDay  Age  \\\n",
       "3764        F 2015-11-10 07:13:56+00:00 2016-05-04 00:00:00+00:00   51   \n",
       "46292       M 2015-12-03 08:17:28+00:00 2016-05-02 00:00:00+00:00   34   \n",
       "102795      F 2015-12-07 10:40:59+00:00 2016-06-03 00:00:00+00:00   27   \n",
       "102797      F 2015-12-07 10:42:42+00:00 2016-06-03 00:00:00+00:00   48   \n",
       "102796      F 2015-12-07 10:43:01+00:00 2016-06-03 00:00:00+00:00   80   \n",
       "...       ...                       ...                       ...  ...   \n",
       "92442       M 2016-06-08 19:32:25+00:00 2016-06-08 00:00:00+00:00   54   \n",
       "88146       F 2016-06-08 19:32:56+00:00 2016-06-08 00:00:00+00:00   43   \n",
       "88147       M 2016-06-08 19:33:23+00:00 2016-06-08 00:00:00+00:00   27   \n",
       "87219       F 2016-06-08 19:58:52+00:00 2016-06-08 00:00:00+00:00   30   \n",
       "87223       F 2016-06-08 20:07:23+00:00 2016-06-08 00:00:00+00:00   27   \n",
       "\n",
       "         Neighbourhood  Scholarship  Hypertension  Diabetes  Alcoholism  \\\n",
       "3764       RESISTÊNCIA            0             0         0           0   \n",
       "46292       VILA RUBIM            0             1         0           0   \n",
       "102795   SÃO CRISTÓVÃO            1             0         0           0   \n",
       "102797         MARUÍPE            0             1         1           0   \n",
       "102796   SÃO CRISTÓVÃO            0             1         1           0   \n",
       "...                ...          ...           ...       ...         ...   \n",
       "92442   JARDIM CAMBURI            0             0         0           0   \n",
       "88146   JARDIM CAMBURI            0             0         0           0   \n",
       "88147   JARDIM CAMBURI            0             0         0           0   \n",
       "87219   JARDIM CAMBURI            0             0         0           0   \n",
       "87223   JARDIM CAMBURI            0             0         0           0   \n",
       "\n",
       "        Handicapped  SMS_received Showed_up_for_appointment        Delay_time  \n",
       "3764              0             1                       Yes 175 days 16:46:04  \n",
       "46292             0             1                        No 150 days 15:42:32  \n",
       "102795            0             1                        No 178 days 13:19:01  \n",
       "102797            0             1                       Yes 178 days 13:17:18  \n",
       "102796            0             1                       Yes 178 days 13:16:59  \n",
       "...             ...           ...                       ...               ...  \n",
       "92442             0             0                       Yes -1 days +04:27:35  \n",
       "88146             0             0                       Yes -1 days +04:27:04  \n",
       "88147             0             0                       Yes -1 days +04:26:37  \n",
       "87219             0             0                       Yes -1 days +04:01:08  \n",
       "87223             0             0                       Yes -1 days +03:52:37  \n",
       "\n",
       "[110327 rows x 13 columns]"
      ]
     },
     "execution_count": 71,
     "metadata": {},
     "output_type": "execute_result"
    }
   ],
   "source": [
    "df.sort_values(by=\"ScheduledDay\")"
   ]
  },
  {
   "cell_type": "markdown",
   "metadata": {},
   "source": [
    "##### Gender that showed up for most appointments"
   ]
  },
  {
   "cell_type": "code",
   "execution_count": 72,
   "metadata": {},
   "outputs": [
    {
     "data": {
      "text/plain": [
       "Gender  Showed_up_for_appointment\n",
       "F       Yes                          0.518114\n",
       "M       Yes                          0.279959\n",
       "F       No                           0.132044\n",
       "M       No                           0.069883\n",
       "dtype: float64"
      ]
     },
     "execution_count": 72,
     "metadata": {},
     "output_type": "execute_result"
    }
   ],
   "source": [
    "df[[\"Gender\", \"Showed_up_for_appointment\"]].value_counts(normalize=True)"
   ]
  },
  {
   "cell_type": "markdown",
   "metadata": {},
   "source": [
    "##### Insights\n",
    "\n",
    "The above result indicates that more females (51.8%) showed up for their appointments compared to males (28%).\n",
    "\n",
    "Likewise, 13.2% of females did not turn up for appointments and 7% males didn't."
   ]
  },
  {
   "cell_type": "markdown",
   "metadata": {},
   "source": [
    "###### Further Sort the Dataset by columns"
   ]
  },
  {
   "cell_type": "code",
   "execution_count": 73,
   "metadata": {},
   "outputs": [
    {
     "data": {
      "text/html": [
       "<div>\n",
       "<style scoped>\n",
       "    .dataframe tbody tr th:only-of-type {\n",
       "        vertical-align: middle;\n",
       "    }\n",
       "\n",
       "    .dataframe tbody tr th {\n",
       "        vertical-align: top;\n",
       "    }\n",
       "\n",
       "    .dataframe thead th {\n",
       "        text-align: right;\n",
       "    }\n",
       "</style>\n",
       "<table border=\"1\" class=\"dataframe\">\n",
       "  <thead>\n",
       "    <tr style=\"text-align: right;\">\n",
       "      <th></th>\n",
       "      <th>Gender</th>\n",
       "      <th>ScheduledDay</th>\n",
       "      <th>AppointmentDay</th>\n",
       "      <th>Age</th>\n",
       "      <th>Neighbourhood</th>\n",
       "      <th>Scholarship</th>\n",
       "      <th>Hypertension</th>\n",
       "      <th>Diabetes</th>\n",
       "      <th>Alcoholism</th>\n",
       "      <th>Handicapped</th>\n",
       "      <th>SMS_received</th>\n",
       "      <th>Showed_up_for_appointment</th>\n",
       "      <th>Delay_time</th>\n",
       "    </tr>\n",
       "  </thead>\n",
       "  <tbody>\n",
       "    <tr>\n",
       "      <th>87223</th>\n",
       "      <td>F</td>\n",
       "      <td>2016-06-08 20:07:23+00:00</td>\n",
       "      <td>2016-06-08 00:00:00+00:00</td>\n",
       "      <td>27</td>\n",
       "      <td>JARDIM CAMBURI</td>\n",
       "      <td>0</td>\n",
       "      <td>0</td>\n",
       "      <td>0</td>\n",
       "      <td>0</td>\n",
       "      <td>0</td>\n",
       "      <td>0</td>\n",
       "      <td>Yes</td>\n",
       "      <td>-1 days +03:52:37</td>\n",
       "    </tr>\n",
       "    <tr>\n",
       "      <th>87219</th>\n",
       "      <td>F</td>\n",
       "      <td>2016-06-08 19:58:52+00:00</td>\n",
       "      <td>2016-06-08 00:00:00+00:00</td>\n",
       "      <td>30</td>\n",
       "      <td>JARDIM CAMBURI</td>\n",
       "      <td>0</td>\n",
       "      <td>0</td>\n",
       "      <td>0</td>\n",
       "      <td>0</td>\n",
       "      <td>0</td>\n",
       "      <td>0</td>\n",
       "      <td>Yes</td>\n",
       "      <td>-1 days +04:01:08</td>\n",
       "    </tr>\n",
       "    <tr>\n",
       "      <th>88146</th>\n",
       "      <td>F</td>\n",
       "      <td>2016-06-08 19:32:56+00:00</td>\n",
       "      <td>2016-06-08 00:00:00+00:00</td>\n",
       "      <td>43</td>\n",
       "      <td>JARDIM CAMBURI</td>\n",
       "      <td>0</td>\n",
       "      <td>0</td>\n",
       "      <td>0</td>\n",
       "      <td>0</td>\n",
       "      <td>0</td>\n",
       "      <td>0</td>\n",
       "      <td>Yes</td>\n",
       "      <td>-1 days +04:27:04</td>\n",
       "    </tr>\n",
       "    <tr>\n",
       "      <th>88144</th>\n",
       "      <td>F</td>\n",
       "      <td>2016-06-08 19:02:15+00:00</td>\n",
       "      <td>2016-06-08 00:00:00+00:00</td>\n",
       "      <td>49</td>\n",
       "      <td>JARDIM CAMBURI</td>\n",
       "      <td>0</td>\n",
       "      <td>0</td>\n",
       "      <td>0</td>\n",
       "      <td>0</td>\n",
       "      <td>0</td>\n",
       "      <td>0</td>\n",
       "      <td>Yes</td>\n",
       "      <td>-1 days +04:57:45</td>\n",
       "    </tr>\n",
       "    <tr>\n",
       "      <th>104871</th>\n",
       "      <td>F</td>\n",
       "      <td>2016-06-08 18:34:11+00:00</td>\n",
       "      <td>2016-06-08 00:00:00+00:00</td>\n",
       "      <td>46</td>\n",
       "      <td>TABUAZEIRO</td>\n",
       "      <td>0</td>\n",
       "      <td>0</td>\n",
       "      <td>0</td>\n",
       "      <td>0</td>\n",
       "      <td>0</td>\n",
       "      <td>0</td>\n",
       "      <td>Yes</td>\n",
       "      <td>-1 days +05:25:49</td>\n",
       "    </tr>\n",
       "    <tr>\n",
       "      <th>...</th>\n",
       "      <td>...</td>\n",
       "      <td>...</td>\n",
       "      <td>...</td>\n",
       "      <td>...</td>\n",
       "      <td>...</td>\n",
       "      <td>...</td>\n",
       "      <td>...</td>\n",
       "      <td>...</td>\n",
       "      <td>...</td>\n",
       "      <td>...</td>\n",
       "      <td>...</td>\n",
       "      <td>...</td>\n",
       "      <td>...</td>\n",
       "    </tr>\n",
       "    <tr>\n",
       "      <th>972</th>\n",
       "      <td>M</td>\n",
       "      <td>2016-02-17 16:57:54+00:00</td>\n",
       "      <td>2016-04-29 00:00:00+00:00</td>\n",
       "      <td>75</td>\n",
       "      <td>BONFIM</td>\n",
       "      <td>0</td>\n",
       "      <td>1</td>\n",
       "      <td>1</td>\n",
       "      <td>0</td>\n",
       "      <td>0</td>\n",
       "      <td>1</td>\n",
       "      <td>No</td>\n",
       "      <td>71 days 07:02:06</td>\n",
       "    </tr>\n",
       "    <tr>\n",
       "      <th>933</th>\n",
       "      <td>M</td>\n",
       "      <td>2016-02-11 16:03:05+00:00</td>\n",
       "      <td>2016-04-29 00:00:00+00:00</td>\n",
       "      <td>84</td>\n",
       "      <td>MARUÍPE</td>\n",
       "      <td>0</td>\n",
       "      <td>1</td>\n",
       "      <td>0</td>\n",
       "      <td>0</td>\n",
       "      <td>0</td>\n",
       "      <td>1</td>\n",
       "      <td>Yes</td>\n",
       "      <td>77 days 07:56:55</td>\n",
       "    </tr>\n",
       "    <tr>\n",
       "      <th>871</th>\n",
       "      <td>M</td>\n",
       "      <td>2016-01-29 10:46:47+00:00</td>\n",
       "      <td>2016-04-29 00:00:00+00:00</td>\n",
       "      <td>48</td>\n",
       "      <td>MARUÍPE</td>\n",
       "      <td>0</td>\n",
       "      <td>1</td>\n",
       "      <td>0</td>\n",
       "      <td>0</td>\n",
       "      <td>0</td>\n",
       "      <td>1</td>\n",
       "      <td>Yes</td>\n",
       "      <td>90 days 13:13:13</td>\n",
       "    </tr>\n",
       "    <tr>\n",
       "      <th>956</th>\n",
       "      <td>M</td>\n",
       "      <td>2016-01-11 09:57:10+00:00</td>\n",
       "      <td>2016-04-29 00:00:00+00:00</td>\n",
       "      <td>71</td>\n",
       "      <td>REDENÇÃO</td>\n",
       "      <td>0</td>\n",
       "      <td>1</td>\n",
       "      <td>1</td>\n",
       "      <td>0</td>\n",
       "      <td>0</td>\n",
       "      <td>1</td>\n",
       "      <td>Yes</td>\n",
       "      <td>108 days 14:02:50</td>\n",
       "    </tr>\n",
       "    <tr>\n",
       "      <th>954</th>\n",
       "      <td>M</td>\n",
       "      <td>2016-01-05 11:53:44+00:00</td>\n",
       "      <td>2016-04-29 00:00:00+00:00</td>\n",
       "      <td>84</td>\n",
       "      <td>SANTO ANDRÉ</td>\n",
       "      <td>0</td>\n",
       "      <td>1</td>\n",
       "      <td>1</td>\n",
       "      <td>0</td>\n",
       "      <td>1</td>\n",
       "      <td>1</td>\n",
       "      <td>Yes</td>\n",
       "      <td>114 days 12:06:16</td>\n",
       "    </tr>\n",
       "  </tbody>\n",
       "</table>\n",
       "<p>110327 rows × 13 columns</p>\n",
       "</div>"
      ],
      "text/plain": [
       "       Gender              ScheduledDay            AppointmentDay  Age  \\\n",
       "87223       F 2016-06-08 20:07:23+00:00 2016-06-08 00:00:00+00:00   27   \n",
       "87219       F 2016-06-08 19:58:52+00:00 2016-06-08 00:00:00+00:00   30   \n",
       "88146       F 2016-06-08 19:32:56+00:00 2016-06-08 00:00:00+00:00   43   \n",
       "88144       F 2016-06-08 19:02:15+00:00 2016-06-08 00:00:00+00:00   49   \n",
       "104871      F 2016-06-08 18:34:11+00:00 2016-06-08 00:00:00+00:00   46   \n",
       "...       ...                       ...                       ...  ...   \n",
       "972         M 2016-02-17 16:57:54+00:00 2016-04-29 00:00:00+00:00   75   \n",
       "933         M 2016-02-11 16:03:05+00:00 2016-04-29 00:00:00+00:00   84   \n",
       "871         M 2016-01-29 10:46:47+00:00 2016-04-29 00:00:00+00:00   48   \n",
       "956         M 2016-01-11 09:57:10+00:00 2016-04-29 00:00:00+00:00   71   \n",
       "954         M 2016-01-05 11:53:44+00:00 2016-04-29 00:00:00+00:00   84   \n",
       "\n",
       "         Neighbourhood  Scholarship  Hypertension  Diabetes  Alcoholism  \\\n",
       "87223   JARDIM CAMBURI            0             0         0           0   \n",
       "87219   JARDIM CAMBURI            0             0         0           0   \n",
       "88146   JARDIM CAMBURI            0             0         0           0   \n",
       "88144   JARDIM CAMBURI            0             0         0           0   \n",
       "104871      TABUAZEIRO            0             0         0           0   \n",
       "...                ...          ...           ...       ...         ...   \n",
       "972             BONFIM            0             1         1           0   \n",
       "933            MARUÍPE            0             1         0           0   \n",
       "871            MARUÍPE            0             1         0           0   \n",
       "956           REDENÇÃO            0             1         1           0   \n",
       "954        SANTO ANDRÉ            0             1         1           0   \n",
       "\n",
       "        Handicapped  SMS_received Showed_up_for_appointment        Delay_time  \n",
       "87223             0             0                       Yes -1 days +03:52:37  \n",
       "87219             0             0                       Yes -1 days +04:01:08  \n",
       "88146             0             0                       Yes -1 days +04:27:04  \n",
       "88144             0             0                       Yes -1 days +04:57:45  \n",
       "104871            0             0                       Yes -1 days +05:25:49  \n",
       "...             ...           ...                       ...               ...  \n",
       "972               0             1                        No  71 days 07:02:06  \n",
       "933               0             1                       Yes  77 days 07:56:55  \n",
       "871               0             1                       Yes  90 days 13:13:13  \n",
       "956               0             1                       Yes 108 days 14:02:50  \n",
       "954               1             1                       Yes 114 days 12:06:16  \n",
       "\n",
       "[110327 rows x 13 columns]"
      ]
     },
     "execution_count": 73,
     "metadata": {},
     "output_type": "execute_result"
    }
   ],
   "source": [
    "df.sort_values([\"Gender\", \"AppointmentDay\", \"ScheduledDay\"], ascending=[True, False, False])"
   ]
  },
  {
   "cell_type": "markdown",
   "metadata": {},
   "source": [
    "##### Check for Missing Data"
   ]
  },
  {
   "cell_type": "code",
   "execution_count": 74,
   "metadata": {},
   "outputs": [
    {
     "name": "stdout",
     "output_type": "stream",
     "text": [
      "Gender                       0\n",
      "ScheduledDay                 0\n",
      "AppointmentDay               0\n",
      "Age                          0\n",
      "Neighbourhood                0\n",
      "Scholarship                  0\n",
      "Hypertension                 0\n",
      "Diabetes                     0\n",
      "Alcoholism                   0\n",
      "Handicapped                  0\n",
      "SMS_received                 0\n",
      "Showed_up_for_appointment    0\n",
      "Delay_time                   0\n",
      "dtype: int64\n"
     ]
    }
   ],
   "source": [
    "# Check for missing data. Wrap a sum function around it to give the total number of missing data\n",
    "print(df.isna().sum())\n"
   ]
  },
  {
   "cell_type": "markdown",
   "metadata": {},
   "source": [
    "Results above show no missing data.\n",
    "\n",
    "Check for, fill and drop missing data with isna(), fillna() and dropna() [or drop() in some case] respectively.\n",
    "\n",
    "\n",
    "Ensure you first run the fillna() and dropna() or drop() functions on a copy of the dataset \n",
    "before applying same to the original dataset.\n",
    "\n",
    "The drop() function is used to delete columns you KNOW you wont need in your analysis\n",
    "thus reducing the dataset to the bearest useful minimum."
   ]
  },
  {
   "cell_type": "markdown",
   "metadata": {},
   "source": [
    "<a id='eda'></a>\n",
    "## Exploratory Data Analysis"
   ]
  },
  {
   "cell_type": "markdown",
   "metadata": {},
   "source": [
    "Let us start with some charts to display our column variables"
   ]
  },
  {
   "cell_type": "markdown",
   "metadata": {},
   "source": [
    "##### Diagrammatic Representation of Patients Show up at the Hospital"
   ]
  },
  {
   "cell_type": "code",
   "execution_count": 196,
   "metadata": {},
   "outputs": [
    {
     "data": {
      "image/png": "[encoded data removed]",
      "text/plain": [
       "<Figure size 432x288 with 1 Axes>"
      ]
     },
     "metadata": {
      "needs_background": "light"
     },
     "output_type": "display_data"
    }
   ],
   "source": [
    "fig = sns.countplot(x=\"Showed_up_for_appointment\", data=df)\n",
    "fig.set_title(\"Patient Show up for Appointment\")\n",
    "plt.show()"
   ]
  },
  {
   "cell_type": "markdown",
   "metadata": {},
   "source": [
    "The above chart shows the distribution of those who showed up for appointment and those who didn't. From the chart, it is obvious that those who came for the appointment out-number those who didn't."
   ]
  },
  {
   "cell_type": "markdown",
   "metadata": {},
   "source": [
    "##### Appointment show up based on Age Distribution"
   ]
  },
  {
   "cell_type": "code",
   "execution_count": 160,
   "metadata": {},
   "outputs": [
    {
     "data": {
      "text/plain": [
       "Text(0.5, 1.0, 'Appointment Show up Based on Age Distribution')"
      ]
     },
     "execution_count": 160,
     "metadata": {},
     "output_type": "execute_result"
    },
    {
     "data": {
      "image/png": "[encoded data removed]",
      "text/plain": [
       "<Figure size 576x360 with 1 Axes>"
      ]
     },
     "metadata": {
      "needs_background": "light"
     },
     "output_type": "display_data"
    }
   ],
   "source": [
    "plt.figure(figsize=(8,5))\n",
    "sns.barplot(x = \"Showed_up_for_appointment\", y = \"Age\", data = df, palette = \"rainbow\")\n",
    "plt.title(\"Appointment Show up Based on Age Distribution\")"
   ]
  },
  {
   "cell_type": "markdown",
   "metadata": {},
   "source": [
    "The above chart shows there is no much difference in age amongst those who showed up and those who did not show up for appointments."
   ]
  },
  {
   "cell_type": "markdown",
   "metadata": {},
   "source": [
    "##### Appointment Show up based on Age, separated by Scholarship status"
   ]
  },
  {
   "cell_type": "code",
   "execution_count": 206,
   "metadata": {},
   "outputs": [
    {
     "data": {
      "text/plain": [
       "Text(0.5, 1.0, 'Appointment Show up based on Age, separated by Scholarship status')"
      ]
     },
     "execution_count": 206,
     "metadata": {},
     "output_type": "execute_result"
    },
    {
     "data": {
      "image/png": "[encoded data removed]",
      "text/plain": [
       "<Figure size 1008x576 with 1 Axes>"
      ]
     },
     "metadata": {
      "needs_background": "light"
     },
     "output_type": "display_data"
    }
   ],
   "source": [
    "plt.figure(figsize=(14, 8))\n",
    "sns.boxplot(x=\"Showed_up_for_appointment\", \n",
    "              y=\"Age\", \n",
    "              hue=\"Scholarship\",\n",
    "              data=df,\n",
    "             palette = \"viridis\")\n",
    "\n",
    "plt.title(\"Appointment Show up based on Age, separated by Scholarship status\")\n"
   ]
  },
  {
   "cell_type": "markdown",
   "metadata": {},
   "source": [
    "The above plot shows that amongst those who didn't have scholarships, the median age of those who showed up and those who didn't show up for appointment was about same. Thesame applies to those with scholarship.\n",
    "\n",
    "With the exclusion of some few outliers amongst those who didn't show up for appointment and didn't have scholarship, the age distribution was almost normal."
   ]
  },
  {
   "cell_type": "markdown",
   "metadata": {},
   "source": [
    "##### Appointment show up based on Age, amongst handicapped patients"
   ]
  },
  {
   "cell_type": "code",
   "execution_count": 207,
   "metadata": {},
   "outputs": [
    {
     "data": {
      "text/plain": [
       "Text(0.5, 1.0, 'Appointment Show up based on Age, separated by Handicap status')"
      ]
     },
     "execution_count": 207,
     "metadata": {},
     "output_type": "execute_result"
    },
    {
     "data": {
      "image/png": "[encoded data removed]",
      "text/plain": [
       "<Figure size 1008x576 with 1 Axes>"
      ]
     },
     "metadata": {
      "needs_background": "light"
     },
     "output_type": "display_data"
    }
   ],
   "source": [
    "plt.figure(figsize=(14, 8))\n",
    "sns.boxplot(x=\"Showed_up_for_appointment\", \n",
    "              y=\"Age\", \n",
    "              hue=\"Handicapped\",\n",
    "              data=df,\n",
    "             palette = \"viridis\")\n",
    "\n",
    "plt.title(\"Appointment Show up based on Age, separated by Handicap status\")"
   ]
  },
  {
   "cell_type": "markdown",
   "metadata": {},
   "source": [
    "From the above chart, the oldest of the patients are those handicapped with the median age of those who showed up for appointment being around 58 years. The median age of those non handicapped patients who didn't show up was about 36 years. those patients with Handicap who showed up for appointments averagely are older. The youngest age groups (starting from zero) had litle or no difference amongst the categories."
   ]
  },
  {
   "cell_type": "markdown",
   "metadata": {},
   "source": [
    "##### Appointment show up based on Age, separated by Alcolism status"
   ]
  },
  {
   "cell_type": "code",
   "execution_count": 211,
   "metadata": {},
   "outputs": [
    {
     "data": {
      "text/plain": [
       "Text(0.5, 1.0, 'Appointment Show up based on Age, separated by Alcoholism status')"
      ]
     },
     "execution_count": 211,
     "metadata": {},
     "output_type": "execute_result"
    },
    {
     "data": {
      "image/png": "[encoded data removed]",
      "text/plain": [
       "<Figure size 1008x576 with 1 Axes>"
      ]
     },
     "metadata": {
      "needs_background": "light"
     },
     "output_type": "display_data"
    }
   ],
   "source": [
    "plt.figure(figsize=(14, 8))\n",
    "sns.boxplot(x=\"Showed_up_for_appointment\", \n",
    "              y=\"Age\", \n",
    "              hue=\"Alcoholism\",\n",
    "              data=df,\n",
    "             palette = \"rainbow\")\n",
    "\n",
    "plt.title(\"Appointment Show up based on Age, separated by Alcoholism status\")"
   ]
  },
  {
   "cell_type": "markdown",
   "metadata": {},
   "source": [
    "The chart shows that highest age of those with alcoholims who showed up for appointment was about 60 years. Also most people who visited the hospital didn't have alcoholim issue. Amongst those with alcoholims, the minimum age was about 18 years, excluding the possible outliers. "
   ]
  },
  {
   "cell_type": "markdown",
   "metadata": {},
   "source": [
    "##### Appointment Show up based on Age, separated by Hypertensive status"
   ]
  },
  {
   "cell_type": "code",
   "execution_count": 208,
   "metadata": {},
   "outputs": [
    {
     "data": {
      "text/plain": [
       "Text(0.5, 1.0, 'Appointment Show up based on Age, separated by Hypertensive status')"
      ]
     },
     "execution_count": 208,
     "metadata": {},
     "output_type": "execute_result"
    },
    {
     "data": {
      "image/png": "[encoded data removed]",
      "text/plain": [
       "<Figure size 1008x576 with 1 Axes>"
      ]
     },
     "metadata": {
      "needs_background": "light"
     },
     "output_type": "display_data"
    }
   ],
   "source": [
    "plt.figure(figsize=(14, 8))\n",
    "sns.boxplot(x=\"Showed_up_for_appointment\", \n",
    "              y=\"Age\", \n",
    "              hue=\"Hypertension\",\n",
    "              data=df,\n",
    "             palette = \"rainbow\")\n",
    "\n",
    "plt.title(\"Appointment Show up based on Age, separated by Hypertensive status\")"
   ]
  },
  {
   "cell_type": "markdown",
   "metadata": {},
   "source": [
    "The age distribution amongst amongst hypertensives who showed compared to those who didnt show up for appointments has wide variations with outliers. Those without hypertension had a lower median age while those with hypertension had a comparatively higher median age, with the latter also having a lot of outliers This is to be expected especially amongst a population with essential hypertension in which risk tends to increase with increasing age. \n",
    "\n",
    "Rather surprisingly however, there seems to be a significant number of hypertension amongst the young too with the minimum age being about 21 years."
   ]
  },
  {
   "cell_type": "code",
   "execution_count": 209,
   "metadata": {},
   "outputs": [
    {
     "data": {
      "text/plain": [
       "Text(0.5, 1.0, 'Appointment Show up based on Age, separated by Scholarship status')"
      ]
     },
     "execution_count": 209,
     "metadata": {},
     "output_type": "execute_result"
    },
    {
     "data": {
      "image/png": "[encoded data removed]",
      "text/plain": [
       "<Figure size 1008x576 with 1 Axes>"
      ]
     },
     "metadata": {
      "needs_background": "light"
     },
     "output_type": "display_data"
    }
   ],
   "source": [
    "plt.figure(figsize=(14, 8))\n",
    "sns.boxplot(x=\"Showed_up_for_appointment\", \n",
    "              y=\"Age\", \n",
    "              hue=\"Scholarship\",\n",
    "              data=df,\n",
    "             palette = \"rainbow\")\n",
    "\n",
    "plt.title(\"Appointment Show up based on Age, separated by Scholarship status\")"
   ]
  },
  {
   "cell_type": "markdown",
   "metadata": {},
   "source": [
    "The above chart shows that the scholarship status didn't seem to affect the showing up for appointment as the median age amongst all the categories was about 35 to 39 years. Also most of the patients who showed up for appointment are those without scholarships."
   ]
  },
  {
   "cell_type": "markdown",
   "metadata": {},
   "source": [
    "##### Distribution of Patients based on Neighboorhood"
   ]
  },
  {
   "cell_type": "code",
   "execution_count": 176,
   "metadata": {},
   "outputs": [
    {
     "data": {
      "image/png": "[encoded data removed]",
      "text/plain": [
       "<Figure size 1296x576 with 1 Axes>"
      ]
     },
     "metadata": {
      "needs_background": "light"
     },
     "output_type": "display_data"
    }
   ],
   "source": [
    "fig = plt.figure(figsize=(18, 8))\n",
    "fig = sns.countplot(x=df.Neighbourhood, data=df)\n",
    "plt.xticks(rotation=\"vertical\")\n",
    "fig.set_title(\"Distribution of Patient by Neighbourhood\")\n",
    "\n",
    "plt.show()"
   ]
  },
  {
   "cell_type": "code",
   "execution_count": 77,
   "metadata": {
    "scrolled": true
   },
   "outputs": [
    {
     "data": {
      "image/png": "[encoded data removed]",
      "text/plain": [
       "<Figure size 1152x288 with 1 Axes>"
      ]
     },
     "metadata": {
      "needs_background": "light"
     },
     "output_type": "display_data"
    }
   ],
   "source": [
    "plt.figure(figsize=(16,4))\n",
    "plt.xticks(rotation=90)\n",
    "ax = sns.countplot(x=np.sort(df.Neighbourhood))\n",
    "ax.set_title(\"No of Appointments based on Neighbourhood\")\n",
    "plt.show()\n",
    "\n",
    "# No of appointments by Neighboorhod"
   ]
  },
  {
   "cell_type": "markdown",
   "metadata": {},
   "source": [
    "From the two charts above, the Neighbourhood with the most patients at the hospital was `JARDIM CAMBURI`."
   ]
  },
  {
   "cell_type": "markdown",
   "metadata": {},
   "source": [
    "##### No of Appointments based on Age"
   ]
  },
  {
   "cell_type": "code",
   "execution_count": 210,
   "metadata": {},
   "outputs": [
    {
     "data": {
      "image/png": "[encoded data removed]",
      "text/plain": [
       "<Figure size 1296x576 with 1 Axes>"
      ]
     },
     "metadata": {
      "needs_background": "light"
     },
     "output_type": "display_data"
    }
   ],
   "source": [
    "plt.figure(figsize=(18,8))\n",
    "plt.xticks(rotation=90)\n",
    "ax = sns.countplot(x=np.sort(df.Age))\n",
    "ax.set_title(\"No of Appointments based on Age\")\n",
    "plt.show()\n",
    "\n",
    "# No of appointments by Neighboorhod"
   ]
  },
  {
   "cell_type": "markdown",
   "metadata": {},
   "source": [
    "The chart above showed that most patients visiting the hospital for appointments are in pediatric age group with a gradual decline in visits by older age patients from 60 years and above."
   ]
  },
  {
   "cell_type": "markdown",
   "metadata": {},
   "source": [
    "###### Patient Hypertensive Status"
   ]
  },
  {
   "cell_type": "code",
   "execution_count": 79,
   "metadata": {},
   "outputs": [
    {
     "data": {
      "image/png": "[encoded data removed]",
      "text/plain": [
       "<Figure size 432x288 with 1 Axes>"
      ]
     },
     "metadata": {
      "needs_background": "light"
     },
     "output_type": "display_data"
    }
   ],
   "source": [
    "fig = sns.countplot(x=df.Hypertension, data=df)\n",
    "fig.set_title(\"Patient Hypertensive Status\")\n",
    "plt.show()"
   ]
  },
  {
   "cell_type": "markdown",
   "metadata": {},
   "source": [
    "The chart above showed most of the patients visiting the hospital are non-hypertensive. This is to be expected since essential hypertension risk increases with increasing age. Moreso from the chart of the age distribution above, majority of the patienst belong to the pediatric age group."
   ]
  },
  {
   "cell_type": "markdown",
   "metadata": {},
   "source": [
    "##### Gender Based Distribution of the Patients"
   ]
  },
  {
   "cell_type": "code",
   "execution_count": 80,
   "metadata": {},
   "outputs": [
    {
     "data": {
      "image/png": "[encoded data removed]",
      "text/plain": [
       "<Figure size 432x288 with 1 Axes>"
      ]
     },
     "metadata": {
      "needs_background": "light"
     },
     "output_type": "display_data"
    }
   ],
   "source": [
    "fig = sns.countplot(x=df.Gender, data=df)\n",
    "fig.set_title(\"Patient Gender\")\n",
    "plt.show()"
   ]
  },
  {
   "cell_type": "markdown",
   "metadata": {},
   "source": [
    "The above chart shows the distribution of the patients based on Gender. From the chart, it is obvious that the femaile patients are more than the males, (almost twice the number of males)."
   ]
  },
  {
   "cell_type": "markdown",
   "metadata": {},
   "source": [
    "#### Distribution of Patients based on Diabetic status"
   ]
  },
  {
   "cell_type": "code",
   "execution_count": 81,
   "metadata": {},
   "outputs": [
    {
     "data": {
      "image/png": "[encoded data removed]",
      "text/plain": [
       "<Figure size 432x288 with 1 Axes>"
      ]
     },
     "metadata": {
      "needs_background": "light"
     },
     "output_type": "display_data"
    }
   ],
   "source": [
    "fig = sns.countplot(x=df.Diabetes, data=df)\n",
    "fig.set_title(\"Patient distribution based on Diabetis status\")\n",
    "plt.show()"
   ]
  },
  {
   "cell_type": "markdown",
   "metadata": {},
   "source": [
    "The above chart shows the distribution of the patients based on Diabetes. From the chart, it is obvious that majority of patients are the  non-diabetics. The non-diabetics make up a very high percentage of the total patients. This is similar to\n",
    "what was observed for the Hypertensive distribution of the patients in the previously shown chart above. "
   ]
  },
  {
   "cell_type": "markdown",
   "metadata": {},
   "source": [
    "##### Distribution based on Handicap Status"
   ]
  },
  {
   "cell_type": "code",
   "execution_count": 82,
   "metadata": {},
   "outputs": [
    {
     "data": {
      "image/png": "[encoded data removed]",
      "text/plain": [
       "<Figure size 432x288 with 1 Axes>"
      ]
     },
     "metadata": {
      "needs_background": "light"
     },
     "output_type": "display_data"
    }
   ],
   "source": [
    "fig = sns.countplot(x=df.Handicapped, data=df)\n",
    "fig.set_title(\"Patient Distribution Based on Handicap Status\")\n",
    "plt.show()"
   ]
  },
  {
   "cell_type": "markdown",
   "metadata": {},
   "source": [
    "From the above chart, the patients without handicap are more than those with handicap."
   ]
  },
  {
   "cell_type": "markdown",
   "metadata": {},
   "source": [
    "\n",
    "### Research Question 1 Does having scholarship affect the hospital visits and showing up of patients for appointments?"
   ]
  },
  {
   "cell_type": "markdown",
   "metadata": {},
   "source": [
    "##### Scholarship Vs Showing Up for Appointments"
   ]
  },
  {
   "cell_type": "code",
   "execution_count": 83,
   "metadata": {},
   "outputs": [
    {
     "data": {
      "text/plain": [
       "Scholarship  Showed_up_for_appointment\n",
       "0            Yes                          0.723150\n",
       "             No                           0.178569\n",
       "1            Yes                          0.074923\n",
       "             No                           0.023358\n",
       "dtype: float64"
      ]
     },
     "execution_count": 83,
     "metadata": {},
     "output_type": "execute_result"
    }
   ],
   "source": [
    "df[[\"Scholarship\",\"Showed_up_for_appointment\"]].value_counts(normalize = True)"
   ]
  },
  {
   "cell_type": "markdown",
   "metadata": {},
   "source": [
    "##### Insights\n",
    "\n",
    "From the above results, 72% of those without scholarships showed up for their appointments while only 7.5% of those with scholarships showed up for appointments.\n",
    "\n",
    "Amongst those with scholarship, 7.5% showed up for appointment while 2.3% did not."
   ]
  },
  {
   "cell_type": "code",
   "execution_count": 84,
   "metadata": {
    "scrolled": true
   },
   "outputs": [
    {
     "data": {
      "image/png": "[encoded data removed]",
      "text/plain": [
       "<Figure size 432x288 with 1 Axes>"
      ]
     },
     "metadata": {
      "needs_background": "light"
     },
     "output_type": "display_data"
    }
   ],
   "source": [
    "df[[\"Scholarship\",\"Showed_up_for_appointment\"]].value_counts().plot(kind=\"bar\", \\\n",
    "title=\"Counts of those who showed up for appointment based on scholarship status\")\n",
    "plt.xlabel(\"Scholarship, Showed_up_for_appointment\")\n",
    "plt.ylabel(\"Counts\")\n",
    "\n",
    "plt.show()"
   ]
  },
  {
   "cell_type": "code",
   "execution_count": 85,
   "metadata": {},
   "outputs": [
    {
     "data": {
      "image/png": "[encoded data removed]",
      "text/plain": [
       "<Figure size 432x288 with 1 Axes>"
      ]
     },
     "metadata": {
      "needs_background": "light"
     },
     "output_type": "display_data"
    }
   ],
   "source": [
    "fig = sns.countplot(x=df.Showed_up_for_appointment, hue=df.Scholarship, data=df)\n",
    "fig.set_title(\"Counts of appointments showup based on Scholarship Status\")\n",
    "x_ticks_labels=[\"Showed_up\", \"Did not show up\"]\n",
    "fig.set_xticklabels(x_ticks_labels)\n",
    "plt.show()\n"
   ]
  },
  {
   "cell_type": "markdown",
   "metadata": {},
   "source": [
    "The charts above further confirms that those without scholarship constitute majority of those who showed up for appointments. A small percentage of those with scholarships actually showed up for their appointments."
   ]
  },
  {
   "cell_type": "markdown",
   "metadata": {},
   "source": [
    "### Research Question 2: Does Gender of the patient have any effect on the showing up for hospital appointments"
   ]
  },
  {
   "cell_type": "markdown",
   "metadata": {},
   "source": [
    "##### Gender Vs Showing up for Appointment"
   ]
  },
  {
   "cell_type": "markdown",
   "metadata": {},
   "source": [
    "##### Identify the number of males and females who showed up for appointments"
   ]
  },
  {
   "cell_type": "code",
   "execution_count": 86,
   "metadata": {},
   "outputs": [
    {
     "data": {
      "text/plain": [
       "Gender  Showed_up_for_appointment\n",
       "F       Yes                          57162\n",
       "M       Yes                          30887\n",
       "F       No                           14568\n",
       "M       No                            7710\n",
       "dtype: int64"
      ]
     },
     "execution_count": 86,
     "metadata": {},
     "output_type": "execute_result"
    }
   ],
   "source": [
    "df[[\"Gender\",\"Showed_up_for_appointment\"]].value_counts()"
   ]
  },
  {
   "cell_type": "markdown",
   "metadata": {},
   "source": [
    "From the above result, females showed up for appointments more than males did. In addition, more females than males didn't show up for appointments."
   ]
  },
  {
   "cell_type": "code",
   "execution_count": 87,
   "metadata": {
    "scrolled": true
   },
   "outputs": [
    {
     "data": {
      "image/png": "[encoded data removed]",
      "text/plain": [
       "<Figure size 432x288 with 1 Axes>"
      ]
     },
     "metadata": {
      "needs_background": "light"
     },
     "output_type": "display_data"
    }
   ],
   "source": [
    "df[[\"Gender\",\"Showed_up_for_appointment\"]].value_counts().plot(kind=\"bar\", \\\n",
    "title=\"Counts of those who showed up for appointment based on Gender\")\n",
    "plt.xlabel(\"Gender, Showed_up_for_appointment\")\n",
    "plt.ylabel(\"Counts\")\n",
    "\n",
    "plt.show()"
   ]
  },
  {
   "cell_type": "code",
   "execution_count": 88,
   "metadata": {
    "scrolled": false
   },
   "outputs": [
    {
     "data": {
      "image/png": "[encoded data removed]",
      "text/plain": [
       "<Figure size 432x288 with 1 Axes>"
      ]
     },
     "metadata": {
      "needs_background": "light"
     },
     "output_type": "display_data"
    }
   ],
   "source": [
    "fig = sns.countplot(x=df.Showed_up_for_appointment, hue=df.Gender, data=df)\n",
    "fig.set_title(\"Counts of appointments showup based on Gender Status\")\n",
    "x_ticks_labels=[\"Showed_up\", \"Did not show up\"]\n",
    "fig.set_xticklabels(x_ticks_labels)\n",
    "plt.show()\n"
   ]
  },
  {
   "cell_type": "markdown",
   "metadata": {},
   "source": [
    "The two charts above show that more females showed up for appointments compared to males.Generally more people showed up for appointment than those who didn't. More females failed to show up for appointment compared to females."
   ]
  },
  {
   "cell_type": "markdown",
   "metadata": {},
   "source": [
    "### Research Question 3  Does having any of the chronic diseases/conditions listed in the description above (hypertension, diabetes,alcoholism, handicap) affect the hospital visits and showing up of patients for appointments?"
   ]
  },
  {
   "cell_type": "markdown",
   "metadata": {},
   "source": [
    "##### Hypertension Vs Showed up for Appointment"
   ]
  },
  {
   "cell_type": "code",
   "execution_count": 89,
   "metadata": {},
   "outputs": [
    {
     "data": {
      "text/plain": [
       "Hypertension  Showed_up_for_appointment\n",
       "0             Yes                          70081\n",
       "              No                           18530\n",
       "1             Yes                          17968\n",
       "              No                            3748\n",
       "dtype: int64"
      ]
     },
     "execution_count": 89,
     "metadata": {},
     "output_type": "execute_result"
    }
   ],
   "source": [
    "df[[\"Hypertension\",\"Showed_up_for_appointment\"]].value_counts()"
   ]
  },
  {
   "cell_type": "markdown",
   "metadata": {},
   "source": [
    "63.5% (70, 178) of the non-hypertensive patients showed up for their appointments. While only 16.3% (18, 029) of the hypertensive patients showed up.\n",
    "\n",
    "Also majority of those with hypertension (17, 968) showed up for appointment compare to those who didnt show up (3, 748)."
   ]
  },
  {
   "cell_type": "code",
   "execution_count": 90,
   "metadata": {},
   "outputs": [
    {
     "data": {
      "image/png": "[encoded data removed]",
      "text/plain": [
       "<Figure size 432x288 with 1 Axes>"
      ]
     },
     "metadata": {
      "needs_background": "light"
     },
     "output_type": "display_data"
    }
   ],
   "source": [
    "df[[\"Hypertension\",\"Showed_up_for_appointment\"]].value_counts().plot(kind=\"bar\", \\\n",
    "title=\"Counts of those who showed up for appointment based on Hypertension\")\n",
    "plt.xlabel(\"Hypertension, Showed_up_for_appointment\")\n",
    "plt.ylabel(\"Counts\")\n",
    "\n",
    "plt.show()"
   ]
  },
  {
   "cell_type": "code",
   "execution_count": 91,
   "metadata": {},
   "outputs": [
    {
     "data": {
      "image/png": "[encoded data removed]",
      "text/plain": [
       "<Figure size 432x288 with 1 Axes>"
      ]
     },
     "metadata": {
      "needs_background": "light"
     },
     "output_type": "display_data"
    }
   ],
   "source": [
    "fig = sns.countplot(x=df.Showed_up_for_appointment, hue=df.Hypertension, data=df)\n",
    "fig.set_title(\"Counts of appointments showup based on  Hypertensive status\")\n",
    "x_ticks_labels=[\"Showed_up\", \"Did not show up\"]\n",
    "fig.set_xticklabels(x_ticks_labels)\n",
    "plt.show()"
   ]
  },
  {
   "cell_type": "markdown",
   "metadata": {},
   "source": [
    "The two charts shows that many of those who showed up for appointments didn't have hypertension issues. From the charts it is obvious that number of those without hypertension who didn't show up for appointment and those with hypertension who showed up for appointment is about thesame. Generally however, more hypertensives showed up for appointments compared to thos hypertensives who didn't show up."
   ]
  },
  {
   "cell_type": "markdown",
   "metadata": {},
   "source": [
    "##### Diabetes Vs Showed up for Appointment"
   ]
  },
  {
   "cell_type": "code",
   "execution_count": 92,
   "metadata": {},
   "outputs": [
    {
     "data": {
      "text/plain": [
       "Diabetes  Showed_up_for_appointment\n",
       "0         Yes                          81571\n",
       "          No                           20856\n",
       "1         Yes                           6478\n",
       "          No                            1422\n",
       "dtype: int64"
      ]
     },
     "execution_count": 92,
     "metadata": {},
     "output_type": "execute_result"
    }
   ],
   "source": [
    "df[[\"Diabetes\",\"Showed_up_for_appointment\"]].value_counts()"
   ]
  },
  {
   "cell_type": "markdown",
   "metadata": {},
   "source": [
    "73.9% (81, 695) patients without diabetes showed up for appointment while only 5.9% (6. 513) patients with diabetes showed up for appointment.\n",
    "\n",
    "Amongst the diabetics, those who showed up (6, 478) are more than those who didn't show up (1, 422) for appointments."
   ]
  },
  {
   "cell_type": "code",
   "execution_count": 93,
   "metadata": {},
   "outputs": [
    {
     "data": {
      "image/png": "[encoded data removed]",
      "text/plain": [
       "<Figure size 432x288 with 1 Axes>"
      ]
     },
     "metadata": {
      "needs_background": "light"
     },
     "output_type": "display_data"
    }
   ],
   "source": [
    "df[[\"Diabetes\",\"Showed_up_for_appointment\"]].value_counts().plot(kind=\"bar\", \\\n",
    "title=\"Counts of those who showed up for appointment based on Diabetes\")\n",
    "plt.xlabel(\"Diabetes, Showed_up_for_appointment\")\n",
    "plt.ylabel(\"Counts\")\n",
    "\n",
    "plt.show()"
   ]
  },
  {
   "cell_type": "code",
   "execution_count": 94,
   "metadata": {},
   "outputs": [
    {
     "data": {
      "image/png": "[encoded data removed]",
      "text/plain": [
       "<Figure size 432x288 with 1 Axes>"
      ]
     },
     "metadata": {
      "needs_background": "light"
     },
     "output_type": "display_data"
    }
   ],
   "source": [
    "fig = sns.countplot(x=df.Showed_up_for_appointment, hue=df.Diabetes, data=df)\n",
    "fig.set_title(\"Counts of appointments showup based on  Diabetes status\")\n",
    "x_ticks_labels=[\"Showed_up\", \"Did not show up\"]\n",
    "fig.set_xticklabels(x_ticks_labels)\n",
    "plt.show()"
   ]
  },
  {
   "cell_type": "markdown",
   "metadata": {},
   "source": [
    "From the charts above, the number of non-diabeteics who showed up are more that those diabetics who didn't show up for appointments.\n",
    "\n",
    "Amongst the diabetics, those who showed up are a little more than those who did not."
   ]
  },
  {
   "cell_type": "markdown",
   "metadata": {},
   "source": [
    "##### Alcoholism Vs Show up for Appointment"
   ]
  },
  {
   "cell_type": "code",
   "execution_count": 95,
   "metadata": {},
   "outputs": [
    {
     "data": {
      "text/plain": [
       "Alcoholism  Showed_up_for_appointment\n",
       "0           Yes                          85372\n",
       "            No                           21603\n",
       "1           Yes                           2677\n",
       "            No                             675\n",
       "dtype: int64"
      ]
     },
     "execution_count": 95,
     "metadata": {},
     "output_type": "execute_result"
    }
   ],
   "source": [
    "df[[\"Alcoholism\",\"Showed_up_for_appointment\"]].value_counts()"
   ]
  },
  {
   "cell_type": "markdown",
   "metadata": {},
   "source": [
    "77.4% (85, 525) patients without alcoholism problem showed up for appointment while only 2.4% (2, 683) patients with alcoholism showed up for appointment.\n",
    "\n",
    "Amongst those with alcoholism, those who showed up for appointment (2, 677) are more than those who did not (675)."
   ]
  },
  {
   "cell_type": "code",
   "execution_count": 96,
   "metadata": {},
   "outputs": [
    {
     "data": {
      "image/png": "[encoded data removed]",
      "text/plain": [
       "<Figure size 432x288 with 1 Axes>"
      ]
     },
     "metadata": {
      "needs_background": "light"
     },
     "output_type": "display_data"
    }
   ],
   "source": [
    "df[[\"Alcoholism\",\"Showed_up_for_appointment\"]].value_counts().plot(kind=\"bar\",\\\n",
    "title=\"Counts of those who showed up for appointment based on Alcoholism\")\n",
    "plt.xlabel(\"Alcoholism, Showed_up_for_appointment\")\n",
    "plt.ylabel(\"Counts\")\n",
    "\n",
    "plt.show()"
   ]
  },
  {
   "cell_type": "code",
   "execution_count": 97,
   "metadata": {
    "scrolled": true
   },
   "outputs": [
    {
     "data": {
      "image/png": "[encoded data removed]",
      "text/plain": [
       "<Figure size 432x288 with 1 Axes>"
      ]
     },
     "metadata": {
      "needs_background": "light"
     },
     "output_type": "display_data"
    }
   ],
   "source": [
    "fig = sns.countplot(x=df.Showed_up_for_appointment, hue=df.Alcoholism, data=df)\n",
    "fig.set_title(\"Counts of appointments showup based on  Alcoholism status\")\n",
    "x_ticks_labels=[\"Showed_up\", \"Did not show up\"]\n",
    "fig.set_xticklabels(x_ticks_labels)\n",
    "plt.show()"
   ]
  },
  {
   "cell_type": "markdown",
   "metadata": {},
   "source": [
    "The two charts above indicate that those without alcoholism turned up for their appointments more than those with alcoholism. Comparatively, very few of those with alcoholism came for their appointments."
   ]
  },
  {
   "cell_type": "markdown",
   "metadata": {},
   "source": [
    "##### Handicapped Vs Show up for Appointment"
   ]
  },
  {
   "cell_type": "code",
   "execution_count": 98,
   "metadata": {},
   "outputs": [
    {
     "data": {
      "text/plain": [
       "Handicapped  Showed_up_for_appointment\n",
       "0            Yes                          86373\n",
       "             No                           21912\n",
       "1            Yes                           1676\n",
       "             No                             366\n",
       "dtype: int64"
      ]
     },
     "execution_count": 98,
     "metadata": {},
     "output_type": "execute_result"
    }
   ],
   "source": [
    "df[[\"Handicapped\",\"Showed_up_for_appointment\"]].value_counts()"
   ]
  },
  {
   "cell_type": "markdown",
   "metadata": {},
   "source": [
    "The results show that majority of those who came for appointments are non-handicapped (86, 373). A comparatively lower number of patients with handicap came for appointments (1, 676) but are more than those with handicap who did not come (366)."
   ]
  },
  {
   "cell_type": "code",
   "execution_count": 99,
   "metadata": {},
   "outputs": [
    {
     "data": {
      "image/png": "[encoded data removed]",
      "text/plain": [
       "<Figure size 432x288 with 1 Axes>"
      ]
     },
     "metadata": {
      "needs_background": "light"
     },
     "output_type": "display_data"
    }
   ],
   "source": [
    "df[[\"Handicapped\",\"Showed_up_for_appointment\"]].value_counts().plot(kind=\"bar\",\\\n",
    "title=\"Counts of those who showed up for appointment based on Handicapped Status\")\n",
    "plt.xlabel(\"Handicapped, Showed_up_for_appointment\")\n",
    "plt.ylabel(\"Counts\")\n",
    "\n",
    "plt.show()"
   ]
  },
  {
   "cell_type": "code",
   "execution_count": 100,
   "metadata": {},
   "outputs": [
    {
     "data": {
      "image/png": "[encoded data removed]",
      "text/plain": [
       "<Figure size 432x288 with 1 Axes>"
      ]
     },
     "metadata": {
      "needs_background": "light"
     },
     "output_type": "display_data"
    }
   ],
   "source": [
    "fig = sns.countplot(x=df.Showed_up_for_appointment, hue=df.Handicapped, data=df)\n",
    "fig.set_title(\"Counts of appointments showup based on  Handicapped status\")\n",
    "x_ticks_labels=[\"Showed_up\", \"Did not show up\"]\n",
    "fig.set_xticklabels(x_ticks_labels)\n",
    "plt.show()"
   ]
  },
  {
   "cell_type": "markdown",
   "metadata": {},
   "source": [
    "The two charts above show that those without handicap constitute majority of those who showed up for appointment while very few handicapped showed up for appointments."
   ]
  },
  {
   "cell_type": "markdown",
   "metadata": {},
   "source": [
    "###### Neighbourhood Vs Showed_up_for_appointment"
   ]
  },
  {
   "cell_type": "markdown",
   "metadata": {},
   "source": [
    "Let us count the total number of Neighbourhoods the patients come from."
   ]
  },
  {
   "cell_type": "code",
   "execution_count": 101,
   "metadata": {},
   "outputs": [
    {
     "data": {
      "text/plain": [
       "81"
      ]
     },
     "execution_count": 101,
     "metadata": {},
     "output_type": "execute_result"
    }
   ],
   "source": [
    "df.Neighbourhood.unique().size"
   ]
  },
  {
   "cell_type": "markdown",
   "metadata": {},
   "source": [
    "The above result shows that the patients come from a total of 81 neighbourhoods."
   ]
  },
  {
   "cell_type": "code",
   "execution_count": 102,
   "metadata": {},
   "outputs": [
    {
     "data": {
      "text/plain": [
       "Neighbourhood                Showed_up_for_appointment\n",
       "AEROPORTO                    No                              1\n",
       "PARQUE INDUSTRIAL            Yes                             1\n",
       "ILHAS OCEÂNICAS DE TRINDADE  No                              2\n",
       "ILHA DO FRADE                No                              2\n",
       "ILHA DO BOI                  No                              3\n",
       "                                                          ... \n",
       "CENTRO                       Yes                          2629\n",
       "JARDIM DA PENHA              Yes                          3241\n",
       "RESISTÊNCIA                  Yes                          3517\n",
       "MARIA ORTIZ                  Yes                          4586\n",
       "JARDIM CAMBURI               Yes                          6252\n",
       "Length: 160, dtype: int64"
      ]
     },
     "execution_count": 102,
     "metadata": {},
     "output_type": "execute_result"
    }
   ],
   "source": [
    "df[[\"Neighbourhood\",\"Showed_up_for_appointment\"]].value_counts().sort_values()"
   ]
  },
  {
   "cell_type": "markdown",
   "metadata": {},
   "source": [
    "From the above results, it is obvious that patients from the `JARDIM CAMBURI` neighbourhood showed up for hospital appointments the most."
   ]
  },
  {
   "cell_type": "code",
   "execution_count": 112,
   "metadata": {},
   "outputs": [
    {
     "data": {
      "image/png": "[encoded data removed]",
      "text/plain": [
       "<Figure size 1152x288 with 1 Axes>"
      ]
     },
     "metadata": {
      "needs_background": "light"
     },
     "output_type": "display_data"
    }
   ],
   "source": [
    "plt.figure(figsize=(16,4))\n",
    "plt.xticks(rotation=90)\n",
    "ax = sns.countplot(x=np.sort(df.Neighbourhood))\n",
    "ax.set_title(\"No of Appointments based Neighbourhood\")\n",
    "plt.show()\n",
    "\n",
    "# No of appointments by Neighboorhod"
   ]
  },
  {
   "cell_type": "code",
   "execution_count": 185,
   "metadata": {
    "scrolled": true
   },
   "outputs": [
    {
     "data": {
      "image/png": "[encoded data removed]",
      "text/plain": [
       "<Figure size 1440x576 with 1 Axes>"
      ]
     },
     "metadata": {
      "needs_background": "light"
     },
     "output_type": "display_data"
    }
   ],
   "source": [
    "fig = plt.figure(figsize=(20,8))\n",
    "sns.countplot( x = df[\"Neighbourhood\"], data = df, palette=\"rainbow\" )\n",
    "plt.xticks(rotation=\"vertical\")\n",
    "plt.show()"
   ]
  },
  {
   "cell_type": "markdown",
   "metadata": {},
   "source": [
    "Chart also confirms that most patients are from `JARDIM CAMBURI` neighbourhood."
   ]
  },
  {
   "cell_type": "markdown",
   "metadata": {},
   "source": [
    "### Research Question 6: Does sending out SMS reminder messages to patients influence how they turn up for hospital appointments?"
   ]
  },
  {
   "cell_type": "markdown",
   "metadata": {},
   "source": [
    "##### SMS Received Vs Show up for Appointment"
   ]
  },
  {
   "cell_type": "code",
   "execution_count": 106,
   "metadata": {},
   "outputs": [
    {
     "data": {
      "text/plain": [
       "SMS_received  Showed_up_for_appointment\n",
       "0             Yes                          62389\n",
       "1             Yes                          25660\n",
       "0             No                           12503\n",
       "1             No                            9775\n",
       "dtype: int64"
      ]
     },
     "execution_count": 106,
     "metadata": {},
     "output_type": "execute_result"
    }
   ],
   "source": [
    "df[[\"SMS_received\",\"Showed_up_for_appointment\"]].value_counts()"
   ]
  },
  {
   "cell_type": "markdown",
   "metadata": {},
   "source": [
    "56.6% (62, 510) patients who didn't recieve SMS turned up for their appointments while 23.3% (25, 698) of pateints who received SMS showed up for appointment. A higher number of people who received an SMS showed up compared to those who received an SMS and didn't show up."
   ]
  },
  {
   "cell_type": "code",
   "execution_count": 107,
   "metadata": {},
   "outputs": [
    {
     "data": {
      "image/png": "[encoded data removed]",
      "text/plain": [
       "<Figure size 432x288 with 1 Axes>"
      ]
     },
     "metadata": {
      "needs_background": "light"
     },
     "output_type": "display_data"
    }
   ],
   "source": [
    "df[[\"SMS_received\",\"Showed_up_for_appointment\"]].value_counts().plot(kind=\"bar\",\\\n",
    "title=\"Counts of those who showed up for appointment based on SMS_received\")\n",
    "plt.xlabel(\"SMS_received, Showed_up_for_appointment\")\n",
    "plt.ylabel(\"Counts\")\n",
    "\n",
    "plt.show()"
   ]
  },
  {
   "cell_type": "code",
   "execution_count": 108,
   "metadata": {},
   "outputs": [
    {
     "data": {
      "image/png": "[encoded data removed]",
      "text/plain": [
       "<Figure size 432x288 with 1 Axes>"
      ]
     },
     "metadata": {
      "needs_background": "light"
     },
     "output_type": "display_data"
    }
   ],
   "source": [
    "fig = sns.countplot(x=df.Showed_up_for_appointment, hue=df.SMS_received, data=df)\n",
    "fig.set_title(\"Counts of appointments showup based on  SMS_received status\")\n",
    "x_ticks_labels=[\"Showed_up\", \"Did not show up\"]\n",
    "fig.set_xticklabels(x_ticks_labels)\n",
    "plt.show()"
   ]
  },
  {
   "cell_type": "markdown",
   "metadata": {},
   "source": [
    "The two charts above shows that those who didn't receive sms showed up more for appointments, making up about double the number of those recieved sms and showed up. There is also a higher number of people who received an SMS and showed up compared to those who received an SMS and didn't show up."
   ]
  },
  {
   "cell_type": "markdown",
   "metadata": {},
   "source": [
    "#### Question 7 Did Delay time Affect the Showing up for Appointments"
   ]
  },
  {
   "cell_type": "code",
   "execution_count": 217,
   "metadata": {},
   "outputs": [
    {
     "data": {
      "text/html": [
       "<div>\n",
       "<style scoped>\n",
       "    .dataframe tbody tr th:only-of-type {\n",
       "        vertical-align: middle;\n",
       "    }\n",
       "\n",
       "    .dataframe tbody tr th {\n",
       "        vertical-align: top;\n",
       "    }\n",
       "\n",
       "    .dataframe thead th {\n",
       "        text-align: right;\n",
       "    }\n",
       "</style>\n",
       "<table border=\"1\" class=\"dataframe\">\n",
       "  <thead>\n",
       "    <tr style=\"text-align: right;\">\n",
       "      <th></th>\n",
       "      <th>Delay_time</th>\n",
       "      <th>Showed_up_for_appointment</th>\n",
       "    </tr>\n",
       "  </thead>\n",
       "  <tbody>\n",
       "    <tr>\n",
       "      <th>71533</th>\n",
       "      <td>-7 days +10:10:40</td>\n",
       "      <td>No</td>\n",
       "    </tr>\n",
       "    <tr>\n",
       "      <th>55226</th>\n",
       "      <td>-2 days +09:09:19</td>\n",
       "      <td>No</td>\n",
       "    </tr>\n",
       "    <tr>\n",
       "      <th>64175</th>\n",
       "      <td>-2 days +10:16:02</td>\n",
       "      <td>No</td>\n",
       "    </tr>\n",
       "    <tr>\n",
       "      <th>27033</th>\n",
       "      <td>-2 days +13:08:07</td>\n",
       "      <td>No</td>\n",
       "    </tr>\n",
       "    <tr>\n",
       "      <th>72362</th>\n",
       "      <td>-2 days +17:09:03</td>\n",
       "      <td>No</td>\n",
       "    </tr>\n",
       "    <tr>\n",
       "      <th>...</th>\n",
       "      <td>...</td>\n",
       "      <td>...</td>\n",
       "    </tr>\n",
       "    <tr>\n",
       "      <th>102786</th>\n",
       "      <td>178 days 13:16:26</td>\n",
       "      <td>Yes</td>\n",
       "    </tr>\n",
       "    <tr>\n",
       "      <th>102799</th>\n",
       "      <td>178 days 13:16:43</td>\n",
       "      <td>Yes</td>\n",
       "    </tr>\n",
       "    <tr>\n",
       "      <th>102796</th>\n",
       "      <td>178 days 13:16:59</td>\n",
       "      <td>Yes</td>\n",
       "    </tr>\n",
       "    <tr>\n",
       "      <th>102797</th>\n",
       "      <td>178 days 13:17:18</td>\n",
       "      <td>Yes</td>\n",
       "    </tr>\n",
       "    <tr>\n",
       "      <th>102795</th>\n",
       "      <td>178 days 13:19:01</td>\n",
       "      <td>No</td>\n",
       "    </tr>\n",
       "  </tbody>\n",
       "</table>\n",
       "<p>110327 rows × 2 columns</p>\n",
       "</div>"
      ],
      "text/plain": [
       "              Delay_time Showed_up_for_appointment\n",
       "71533  -7 days +10:10:40                        No\n",
       "55226  -2 days +09:09:19                        No\n",
       "64175  -2 days +10:16:02                        No\n",
       "27033  -2 days +13:08:07                        No\n",
       "72362  -2 days +17:09:03                        No\n",
       "...                  ...                       ...\n",
       "102786 178 days 13:16:26                       Yes\n",
       "102799 178 days 13:16:43                       Yes\n",
       "102796 178 days 13:16:59                       Yes\n",
       "102797 178 days 13:17:18                       Yes\n",
       "102795 178 days 13:19:01                        No\n",
       "\n",
       "[110327 rows x 2 columns]"
      ]
     },
     "execution_count": 217,
     "metadata": {},
     "output_type": "execute_result"
    }
   ],
   "source": [
    "df[[\"Delay_time\",\"Showed_up_for_appointment\"]].sort_values(by=\"Delay_time\")"
   ]
  },
  {
   "cell_type": "markdown",
   "metadata": {},
   "source": [
    "The above result shows that the delay time between scheduling for appointments and the actual appointments was between 10 hours tp 178 days, with patinets in both extremes of delay time not shoing up for their appointment. Even amongst those with long delay time, we can still see that some showed up for appointments."
   ]
  },
  {
   "cell_type": "code",
   "execution_count": 105,
   "metadata": {},
   "outputs": [
    {
     "data": {
      "text/plain": [
       "Delay_time         Showed_up_for_appointment\n",
       "13 days 06:42:14   No                           21\n",
       "34 days 06:41:33   No                           20\n",
       "-1 days +16:50:07  No                           16\n",
       "6 days 06:42:37    No                           16\n",
       "-1 days +15:41:36  No                           15\n",
       "                                                ..\n",
       "3 days 07:03:17    Yes                           1\n",
       "3 days 07:02:53    No                            1\n",
       "3 days 07:01:25    Yes                           1\n",
       "3 days 07:01:23    Yes                           1\n",
       "178 days 13:19:01  No                            1\n",
       "Length: 91578, dtype: int64"
      ]
     },
     "execution_count": 105,
     "metadata": {},
     "output_type": "execute_result"
    }
   ],
   "source": [
    "df[[\"Delay_time\",\"Showed_up_for_appointment\"]].value_counts()"
   ]
  },
  {
   "cell_type": "markdown",
   "metadata": {},
   "source": [
    "From the above result, it is obvious that amongst those who did not show up for appointment, the maximum delay time was 178 days.\n",
    "\n",
    "Likewise amongst those who showed for appointment, the maximum wait time was 3 days."
   ]
  },
  {
   "cell_type": "markdown",
   "metadata": {},
   "source": [
    "The above results indicate that amongst those who didnt show up for appointment, the maximum delay time was 13 days and the minimum was 15 hours.\n",
    "\n",
    "\n",
    "While amongst those who showed up for appointment, the maximum delay time was 178 days and the minimum was 3 days. \n",
    "\n",
    "The delay time of 178 days resulted in only no patient showing up for appointment. The delay time seems to negatively influence the showing up for appointment."
   ]
  },
  {
   "cell_type": "markdown",
   "metadata": {},
   "source": [
    "<a id='conclusions'></a>\n",
    "## Conclusions\n",
    "\n",
    "The analysis conducted on this data suggests the following:\n",
    "\n",
    "1. Having no scholarship is likely not to affect showing up at the hospital for appointments.\n",
    "\n",
    "2. Although more females showed up for appointments compared to males, the female gender also didn't show up for appointment more than the males. Hence I can't say with certainty that gender affected the rate of showing up at the hospital. Furthermore, the dataset is skewed in favour of females because there are more males than females. This may affect the outcome of any conclusions one can make from the analysis.\n",
    "\n",
    "3. Amongst the chronic diseases of hypertension and diabetes, the former seemed to affect showing up for appointments more than the later. Amongst those with these chronic diseases who showed up for appointment, hypertension accounted for 17, 968 patients while diabetes accounted for 6, 478 cases. Hypertension can thus be said to have more influence on the rate of show up at the hospital.\n",
    "\n",
    "4. Amongst those with other health related conditions such as alcoholism and handicap, the former also accounted more (2, 677) for show up at the hospital compared to the latter (1, 676) although the difference isn't much. \n",
    "\n",
    "5. The delay time calculated from the difference between Appointment day and scheduled day seem to influence show up at the hospital as those who have longer delay time didn't show up for their appointment at the hospital.\n",
    "\n",
    "6. There is a larger number of patients who receieved SMS and showed up for appointment (25, 660) compared to those who receieved SMS and did not show up (9, 775). SMS receival could thus be said to have some effect on the rate of show up at the hospital.\n",
    "\n"
   ]
  },
  {
   "cell_type": "markdown",
   "metadata": {},
   "source": [
    "### Limitations\n",
    "\n",
    "1. Most of our data are qualitative data (except for the Age column) and not quantitative. This limits the extent to which we can perform statistical analysis to make inferences from formulated hypothesis.\n",
    "\n",
    "\n",
    "2. Our analysis was thus majorly descriptive and not inferential. We cannot draw any inferences from the dataset.\n",
    "\n",
    "3. We are also constrained by paucity of details regarding the dataset. For example:\n",
    "\n",
    "- The scholarship status doesn't seem to affect the show-up at the hospital. No information was provided about the cost/financial benefits of such scholarships or the scope of care to be covered under it. Therefore, we cannot say if this could have been a likely reason for the observation made above.\n",
    "\n",
    "- The SMS_recieved group is also affected by this limitation. For instance, we can't tell what criteria was used in deciding who to send an SMS to, the content of the SMS (it could be even unrelated to the scheduled patient appointments) and when the messages were sent out (before or after the scheduled or appointment days).\n",
    "\n",
    "4. We couldn't measure for correlation because the dataset contained mainly qualitative data.\n",
    "\n",
    "5. The available data couldn't be used to explain some of the observations made on the dataset. For example, we would expect that those with scholarship would show up more for appointments but the data indicated otherwise."
   ]
  },
  {
   "cell_type": "markdown",
   "metadata": {},
   "source": [
    "## Submitting your Project "
   ]
  },
  {
   "cell_type": "code",
   "execution_count": 110,
   "metadata": {},
   "outputs": [
    {
     "data": {
      "text/plain": [
       "1"
      ]
     },
     "execution_count": 110,
     "metadata": {},
     "output_type": "execute_result"
    }
   ],
   "source": [
    "from subprocess import call\n",
    "call(['python', '-m', 'nbconvert', 'Investigate_a_Dataset.ipynb'])"
   ]
  },
  {
   "cell_type": "markdown",
   "metadata": {},
   "source": [
    "### Some References\n",
    "\n",
    "https://nbviewer.org/github/Tanu-N-Prabhu/Python/blob/master/Exploratory_data_Analysis.ipynb\n",
    "\n",
    "https://github.com/jupyter/jupyter/wiki\n",
    "\n",
    "https://nbviewer.org/github/Tanu-N-Prabhu/Python/blob/master/Top_Python_Libraries_Used_In_Data%C2%A0Science.ipynb\n",
    "\n",
    "https://nbviewer.org/github/Tanu-N-Prabhu/Python/blob/master/Data_Cleaning/Data_Cleaning_using_Python_with_Pandas_Library.ipynb\n",
    "\n",
    "https://nbviewer.org/github/jrjohansson/scientific-python-lectures/blob/master/Lecture-4-Matplotlib.ipynb\n",
    "\n",
    "https://towardsdatascience.com/ways-to-detect-and-remove-the-outliers-404d16608dba\n",
    "\n",
    "https://datacamp.com\n",
    "\n",
    "https://udacity.com"
   ]
  }
 ],
 "metadata": {
  "kernelspec": {
   "display_name": "Python 3 (ipykernel)",
   "language": "python",
   "name": "python3"
  },
  "language_info": {
   "codemirror_mode": {
    "name": "ipython",
    "version": 3
   },
   "file_extension": ".py",
   "mimetype": "text/x-python",
   "name": "python",
   "nbconvert_exporter": "python",
   "pygments_lexer": "ipython3",
   "version": "3.9.7"
  }
 },
 "nbformat": 4,
 "nbformat_minor": 2
}
